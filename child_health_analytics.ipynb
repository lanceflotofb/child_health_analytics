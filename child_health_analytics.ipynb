{
 "cells": [
  {
   "cell_type": "markdown",
   "metadata": {},
   "source": [
    "## The goal of this analysis will be to determine the causal relationship between diet and some key health indicators\n",
    "#### The target audience of this notebook is other data scientists. There is a summary notebook written to the general public."
   ]
  },
  {
   "cell_type": "code",
   "execution_count": 14,
   "metadata": {},
   "outputs": [],
   "source": [
    "import pandas as pd\n",
    "import numpy as np\n",
    "from functools import reduce\n",
    "import pdb\n",
    "import xport\n",
    "import glob\n",
    "import os"
   ]
  },
  {
   "cell_type": "code",
   "execution_count": 2,
   "metadata": {},
   "outputs": [
    {
     "data": {
      "text/plain": [
       "'0.23.4'"
      ]
     },
     "execution_count": 2,
     "metadata": {},
     "output_type": "execute_result"
    }
   ],
   "source": [
    "pd.__version__"
   ]
  },
  {
   "cell_type": "code",
   "execution_count": 3,
   "metadata": {},
   "outputs": [],
   "source": [
    "pd.set_option('display.max_rows', 200)"
   ]
  },
  {
   "cell_type": "markdown",
   "metadata": {},
   "source": [
    "### All data was gathered off of this page from the CDC: https://wwwn.cdc.gov/nchs/nhanes/search/nnyfs12.aspx"
   ]
  },
  {
   "cell_type": "markdown",
   "metadata": {},
   "source": [
    "#### Convert all the data from xpt format dataframes"
   ]
  },
  {
   "cell_type": "code",
   "execution_count": 4,
   "metadata": {},
   "outputs": [],
   "source": [
    "file_map = {\n",
    "    'DSBI.XPT': 'supplement_blend',\n",
    "    'DSPI.XPT': 'supplement_product',\n",
    "    'Y_CEX.XPT': 'cardiorespiratory_endurance',\n",
    "    'Y_DR1IFF.XPT': 'dietary_interview_individual',\n",
    "    'Y_DS1IDS.XPT': 'dietary_24_hour_individual',\n",
    "    'Y_DSQIDS.XPT': 'dietary_30_days_individual',\n",
    "    'Y_GMX.XPT': 'gross_motor_development',\n",
    "    'Y_MGX.XPT': 'grip_strength',\n",
    "    'Y_PLX.XPT': 'plank',\n",
    "    'DSII.XPT': 'supplement_ingredient',\n",
    "    'Y_BMX.XPT': 'body_measures',\n",
    "    'Y_CVX.XPT': 'cardiovascular_fitness',\n",
    "    'Y_DR1TOT.XPT': 'dietary_interview_total',\n",
    "    'Y_DS1TOT.XPT': 'dietary_24_hours_total',\n",
    "    'Y_DSQTOT.XPT': 'dietary_30_days_total',\n",
    "    'Y_LMX.XPT': 'lower_body_muscle_strength',\n",
    "    'Y_MPX.XPT': 'modified_pull_up',\n",
    "    'Y_ACQ.XPT': 'acculturation',\n",
    "    'Y_DIQ.XPT': 'diabetes',\n",
    "    'Y_DBQ.XPT': 'diet_behavior_nutrition',\n",
    "    'Y_ECQ.XPT': 'early_childhood',\n",
    "    'Y_HIQ.XPT': 'health_insurance',\n",
    "    'Y_HUQ.XPT': 'health_utilization',\n",
    "    'Y_MCQ.XPT': 'medical_conditions',\n",
    "    'Y_PAQ.XPT': 'physical_activity',\n",
    "    'Y_PFQ.XPT': 'physical_functioning',\n",
    "    'Y_RXQ_RX.XPT': 'prescription_medications',\n",
    "    'Y_RDQ.XPT': 'respriratory_health',\n",
    "    'Y_SMQ.XPT': 'smoking'\n",
    "}"
   ]
  },
  {
   "cell_type": "code",
   "execution_count": 5,
   "metadata": {},
   "outputs": [],
   "source": [
    "dfs = {}\n",
    "os.chdir('data_files')\n",
    "for file_name in glob.glob('*.XPT'):\n",
    "    with open(file_name, 'rb') as in_file:\n",
    "        dfs[file_map[file_name]] = xport.to_dataframe(in_file)\n"
   ]
  },
  {
   "cell_type": "markdown",
   "metadata": {},
   "source": [
    "### Separate the data into the independent and dependent variables"
   ]
  },
  {
   "cell_type": "markdown",
   "metadata": {},
   "source": [
    "#### unused_health_files are exactly that - unused data. The purpose of putting them into a list is for readability.\n",
    "- supplement_blend: Information about the supplements, not about the participants.\n",
    "- supplement_product: Information about the supplements, not about the participants.\n",
    "- supplment_ingredient: Information about the supplements, not about the participants."
   ]
  },
  {
   "cell_type": "code",
   "execution_count": 6,
   "metadata": {},
   "outputs": [],
   "source": [
    "unused_health_files = [\n",
    "    'supplement_blend',\n",
    "    'supplement_product',\n",
    "    'supplement_ingredient',\n",
    "]"
   ]
  },
  {
   "cell_type": "markdown",
   "metadata": {},
   "source": [
    "#### Variables from these datasets are thought to be causal variables\n",
    "- dietary_30_days_individual: Dietary information could have causal links to health problems.\n",
    "- dietary_interview_individual: Dietary information could have causal links to health problems.\n",
    "- dietary_24_hour_individual: Dietary information could have causal links to health problems.\n",
    "- dietary_interview_total: Dietary information could have causal links to health problems.\n",
    "- dietary_24_hours_total: Dietary information could have causal links to health problems.\n",
    "- dietary_30_days_total: Dietary information could have causal links to health problems.\n",
    "- diet_behavior_nutrition: Dietary information could have causal links to health problems.\n",
    "- acculturation: This data is about languages spoken. Although languages spoken should not have an effect, these variables could be correlated to things like food eaten, cultural values, and ethnicity.\n",
    "- early_childhood: This has data like mother smoking during pregnancy, birthweight, was child ever overweight, etc. Some of these variables could have long term health impacts.\n",
    "- health_insurance: Having health insurance should lead to higher utilization and therefore better health, although we will wait to see the results of the analysis.\n",
    "- health_utilization: Using healthcare should lead to better overall health, although we will wait to see the results of the analysis.\n",
    "- physical_activity: Exercise could have causal effects on overall health.\n",
    "- prescription_medications: Medications could have an effect on overall health.\n",
    "- smoking: Smoking has been known to be bad for health, although we will wait to see the results of the analysis."
   ]
  },
  {
   "cell_type": "code",
   "execution_count": 7,
   "metadata": {},
   "outputs": [],
   "source": [
    "independent_health_files = [\n",
    "    'dietary_30_days_individual',\n",
    "    'dietary_interview_individual',\n",
    "    'dietary_24_hour_individual',\n",
    "    'dietary_interview_total',\n",
    "    'dietary_24_hours_total',\n",
    "    'dietary_30_days_total',\n",
    "    'acculturation',\n",
    "    'diet_behavior_nutrition',\n",
    "    'early_childhood',\n",
    "    'health_insurance',\n",
    "    'health_utilization',\n",
    "    'physical_activity',\n",
    "    'prescription_medications',\n",
    "    'smoking'\n",
    "]\n",
    "independent_dfs = {file_name: dfs[file_name] for file_name in independent_health_files}"
   ]
  },
  {
   "cell_type": "markdown",
   "metadata": {},
   "source": [
    "#### Variables from these datasets will be used to create overall health metrics\n",
    "- cardiorespiratory_endurance: Strong cardio is a sign of good health.\n",
    "- gross_motor_development: Motor development is a sign of good health.\n",
    "- grip_strength: Grip strength is a sign of good health.\n",
    "- plank: Plank length is a sign of good health.\n",
    "- body_measures: Body measures can be indicative of good or bad health.\n",
    "- cardiovascular_fitness: Strong cardio is a sign of good health.\n",
    "- lower_body_muscle_strength: Muscle strength is a sign of good health.\n",
    "- modified_pull_up: Muscle strength is a sign of good health.\n",
    "- diabetes.csv: Diabetes is a sign of bad health.\n",
    "- medical_conditions: Medical conditions can be a sign of bad health.\n",
    "- physical_functioning: Impared physical functioning can be a sign of bad health.\n",
    "- respriratory_health: respriratory data can be a sign of good or bad health."
   ]
  },
  {
   "cell_type": "code",
   "execution_count": 8,
   "metadata": {},
   "outputs": [],
   "source": [
    "dependent_health_files = [\n",
    "    'cardiorespiratory_endurance',\n",
    "    'gross_motor_development',\n",
    "    'grip_strength',\n",
    "    'plank',\n",
    "    'body_measures',\n",
    "    'cardiovascular_fitness',\n",
    "    'lower_body_muscle_strength',\n",
    "    'modified_pull_up',\n",
    "    'diabetes',\n",
    "    'medical_conditions',\n",
    "    'physical_functioning',\n",
    "    'respriratory_health',\n",
    "]\n",
    "dependent_dfs = {file_name: dfs[file_name] for file_name in dependent_health_files}"
   ]
  },
  {
   "cell_type": "markdown",
   "metadata": {},
   "source": [
    "### Examine the dependent variables"
   ]
  },
  {
   "cell_type": "markdown",
   "metadata": {},
   "source": [
    "#### The goal will be to reduce the dependent health files into a single variable or a small number of variables so that regression and machine learning models can be used to determine the effect of the independent variables on the health of the child."
   ]
  },
  {
   "cell_type": "code",
   "execution_count": 10,
   "metadata": {},
   "outputs": [
    {
     "name": "stdout",
     "output_type": "stream",
     "text": [
      "cardiorespiratory_endurance 67\n",
      "gross_motor_development 57\n",
      "grip_strength 21\n",
      "plank 4\n",
      "body_measures 22\n",
      "cardiovascular_fitness 33\n",
      "lower_body_muscle_strength 121\n",
      "modified_pull_up 4\n",
      "diabetes 6\n",
      "medical_conditions 7\n",
      "physical_functioning 5\n",
      "respriratory_health 3\n"
     ]
    }
   ],
   "source": [
    "for file_name, df in dependent_dfs.items():\n",
    "    print(file_name, len(df.columns))"
   ]
  },
  {
   "cell_type": "code",
   "execution_count": 11,
   "metadata": {},
   "outputs": [
    {
     "name": "stdout",
     "output_type": "stream",
     "text": [
      "cardiorespiratory_endurance \n",
      " Index(['SEQN', 'CEDEXSTS', 'CEDEXCMT', 'CEDEXLEN', 'CEDTOTEX', 'CEDMAXHR',\n",
      "       'CEDENDHR', 'CEXPROT', 'CEXTEM1', 'CEXHUM1', 'CEXTEM2', 'CEXHUM2',\n",
      "       'CEXWS', 'CEXWG', 'CEXWTIM', 'CEXWHR', 'CEXS1S', 'CEXS1G', 'CEXS1TIM',\n",
      "       'CEXS1HR', 'CEXS2S', 'CEXS2G', 'CEXS2TIM', 'CEXS2HR', 'CEXS3S',\n",
      "       'CEXS3G', 'CEXS3TIM', 'CEXS3HR', 'CEXS4S', 'CEXS4G', 'CEXS4TIM',\n",
      "       'CEXS4HR', 'CEXS5S', 'CEXS5G', 'CEXS5TIM', 'CEXS5HR', 'CEXS6S',\n",
      "       'CEXS6G', 'CEXS6TIM', 'CEXS6HR', 'CEXS7S', 'CEXS7G', 'CEXS7TIM',\n",
      "       'CEXS7HR', 'CEXS8S', 'CEXS8G', 'CEXS8TIM', 'CEXS8HR', 'CEXS9S',\n",
      "       'CEXS9G', 'CEXS9TIM', 'CEXS9HR', 'CEXS10S', 'CEXS10G', 'CEXS10TI',\n",
      "       'CEXS10HR', 'CEXRS', 'CEXRG', 'CEXRTIM', 'CEXR1HR', 'CEXR2HR',\n",
      "       'CEX220S1', 'CEX220S2', 'CEX220S3', 'CEX220S4', 'CEX220S5', 'CEX220J'],\n",
      "      dtype='object') \n",
      "\n",
      "gross_motor_development \n",
      " Index(['SEQN', 'TGMDSTAT', 'TGQPRHA', 'TGQPRFO', 'TGQR1S', 'TGQR2S', 'TGQR3S',\n",
      "       'TGQR4S', 'TGQG1S', 'TGQG2S', 'TGQG3S', 'TGQG4S', 'TGQH1S', 'TGQH2S',\n",
      "       'TGQH3S', 'TGQH4S', 'TGQH5S', 'TGQL1S', 'TGQL2S', 'TGQL3S', 'TGQJ1S',\n",
      "       'TGQJ2S', 'TGQJ3S', 'TGQJ4S', 'TGQS1S', 'TGQS2S', 'TGQS3S', 'TGQS4S',\n",
      "       'TGQB1S', 'TGQB2S', 'TGQB3S', 'TGQB4S', 'TGQB5S', 'TGQD1S', 'TGQD2S',\n",
      "       'TGQD3S', 'TGQD4S', 'TGQC1S', 'TGQC2S', 'TGQC3S', 'TGQK1S', 'TGQK2S',\n",
      "       'TGQK3S', 'TGQK4S', 'TGQT1S', 'TGQT2S', 'TGQT3S', 'TGQT4S', 'TGQU1S',\n",
      "       'TGQU2S', 'TGQU3S', 'TGQU4S', 'TGRAWLOC', 'TGRAWOBJ', 'TGSSLOC',\n",
      "       'TGSSOBJ', 'TGQUOTNT'],\n",
      "      dtype='object') \n",
      "\n",
      "grip_strength \n",
      " Index(['SEQN', 'MGDEXSTS', 'MGQ070', 'MGQ100', 'MGQ130', 'MGD90DG', 'MGAPHAND',\n",
      "       'MGATHAND', 'MGXH1T1', 'MGXH1T1E', 'MGXH2T1', 'MGXH2T1E', 'MGXH1T2',\n",
      "       'MGXH1T2E', 'MGXH2T2', 'MGXH2T2E', 'MGXH1T3', 'MGXH1T3E', 'MGXH2T3',\n",
      "       'MGXH2T3E', 'MGDCGSZ'],\n",
      "      dtype='object') \n",
      "\n",
      "plank \n",
      " Index(['SEQN', 'PLSTS', 'PLCMT', 'MPXPLANK'], dtype='object') \n",
      "\n",
      "body_measures \n",
      " Index(['SEQN', 'BMDSTATS', 'BMXWT', 'BMIWT', 'BMXHT', 'BMIHT', 'BMXBMI',\n",
      "       'BMDBMIC', 'BMXARML', 'BMIARML', 'BMXARMC', 'BMIARMC', 'BMXWAIST',\n",
      "       'BMIWAIST', 'BMXCALF', 'BMICALF', 'BMXCALFF', 'BMICALFF', 'BMXTRI',\n",
      "       'BMITRI', 'BMXSUB', 'BMISUB'],\n",
      "      dtype='object') \n",
      "\n",
      "cardiovascular_fitness \n",
      " Index(['SEQN', 'CVDEXSTS', 'CVDEXCMT', 'CVDEXLEN', 'CVDPMHR', 'CVDESVO2',\n",
      "       'CVDFITL2', 'CVXPARC', 'CVDVOMAX', 'CVAPROT', 'CVDPROT', 'CVATEM1',\n",
      "       'CVAHUM1', 'CVATEM2', 'CVAHUM2', 'CVAWS1', 'CVAWG1', 'CVDWTIM',\n",
      "       'CVXWRPE', 'CVDWHR', 'CVDS1S', 'CVDS1G', 'CVDS1TIM', 'CVXS1RPE',\n",
      "       'CVDS1HR', 'CVDS2S', 'CVDS2G', 'CVDS2TIM', 'CVXS2RPE', 'CVDS2HR',\n",
      "       'CVDRTIM', 'CVDR1HR', 'CVDR2HR'],\n",
      "      dtype='object') \n",
      "\n",
      "lower_body_muscle_strength \n",
      " Index(['SEQN', 'LBMSSTS', 'LBMSCMT', 'LBATKLEG', 'LBLEXT1', 'LBLEXT2',\n",
      "       'LBLEXT3', 'LBREXT1', 'LBREXT2', 'LBREXT3',\n",
      "       ...\n",
      "       'LBQPY27', 'LBQPY28', 'LBQPY29', 'LBQPY30', 'LBQPY31', 'LBQPY32',\n",
      "       'LBQPY91', 'LBQPY666', 'LBQPY777', 'LBQPY999'],\n",
      "      dtype='object', length=121) \n",
      "\n",
      "modified_pull_up \n",
      " Index(['SEQN', 'MPULLSTS', 'MPULLCMT', 'MPXPULL'], dtype='object') \n",
      "\n",
      "diabetes \n",
      " Index(['SEQN', 'DIQ010', 'DID040', 'DIQ160', 'DIQ050', 'DIQ070'], dtype='object') \n",
      "\n",
      "medical_conditions \n",
      " Index(['SEQN', 'MCQ010', 'MCQ035', 'MCQ040', 'MCQ051', 'MCQ140', 'MCQ149'], dtype='object') \n",
      "\n",
      "physical_functioning \n",
      " Index(['SEQN', 'PFQ020', 'PFQ030', 'PFQ033', 'PFQ041'], dtype='object') \n",
      "\n",
      "respriratory_health \n",
      " Index(['SEQN', 'RDQ100', 'RDQ135'], dtype='object') \n",
      "\n"
     ]
    }
   ],
   "source": [
    "for file_name, df in dependent_dfs.items():\n",
    "    print(file_name, '\\n', df.columns, '\\n')"
   ]
  },
  {
   "cell_type": "code",
   "execution_count": 13,
   "metadata": {},
   "outputs": [
    {
     "name": "stdout",
     "output_type": "stream",
     "text": [
      "dietary_30_days_individual 85\n",
      "dietary_interview_individual 82\n",
      "dietary_24_hour_individual 46\n",
      "dietary_interview_total 99\n",
      "dietary_24_hours_total 46\n",
      "dietary_30_days_total 39\n",
      "acculturation 5\n",
      "diet_behavior_nutrition 12\n",
      "early_childhood 7\n",
      "health_insurance 13\n",
      "health_utilization 4\n",
      "physical_activity 96\n",
      "prescription_medications 7\n",
      "smoking 4\n"
     ]
    }
   ],
   "source": [
    "for file_name, df in independent_dfs.items():\n",
    "    print(file_name, len(df.columns))"
   ]
  },
  {
   "cell_type": "code",
   "execution_count": 12,
   "metadata": {},
   "outputs": [
    {
     "name": "stdout",
     "output_type": "stream",
     "text": [
      "dietary_30_days_individual \n",
      " Index(['SEQN', 'DSDSUPID', 'DSDSUPP', 'DSDANTA', 'DSD070', 'DSDMTCH', 'DSD090',\n",
      "       'DSD103', 'DSD122Q', 'DSD122U', 'DSDACTSS', 'DSDDAY1', 'DSQ124',\n",
      "       'DSQ128A', 'DSQ128B', 'DSQ128C', 'DSQ128D', 'DSQ128E', 'DSQ128F',\n",
      "       'DSQ128G', 'DSQ128H', 'DSQ128I', 'DSQ128J', 'DSQ128K', 'DSQ128L',\n",
      "       'DSQ128M', 'DSQ128N', 'DSQ128O', 'DSQ128P', 'DSQ128Q', 'DSQ128R',\n",
      "       'DSD128T', 'DSD128U', 'DSD128V', 'DSD128W', 'DSD128X', 'DSD128Z',\n",
      "       'DSD128AA', 'DSD128BB', 'DSD128DD', 'DSD128EE', 'DSD128FF', 'DSD128GG',\n",
      "       'DSD128HH', 'DSD128II', 'DSD128JJ', 'DSD128KK', 'DSD128LL', 'DSD128MM',\n",
      "       'DSQ128S', 'RXQ215A', 'DSQIKCAL', 'DSQIPROT', 'DSQICARB', 'DSQISUGR',\n",
      "       'DSQIFIBE', 'DSQITFAT', 'DSQISFAT', 'DSQIMFAT', 'DSQIPFAT', 'DSQICHOL',\n",
      "       'DSQILYCO', 'DSQILZ', 'DSQIVB1', 'DSQIVB2', 'DSQINIAC', 'DSQIVB6',\n",
      "       'DSQIFA', 'DSQIFDFE', 'DSQICHL', 'DSQIVB12', 'DSQIVC', 'DSQIVK',\n",
      "       'DSQIVD', 'DSQICALC', 'DSQIPHOS', 'DSQIMAGN', 'DSQIIRON', 'DSQIZINC',\n",
      "       'DSQICOPP', 'DSQISODI', 'DSQIPOTA', 'DSQISELE', 'DSQICAFF', 'DSQIIODI'],\n",
      "      dtype='object') \n",
      "\n",
      "dietary_interview_individual \n",
      " Index(['SEQN', 'WTDRD1', 'DR1ILINE', 'DR1DRSTZ', 'DR1EXMER', 'DR1DBIH',\n",
      "       'DR1DAY', 'DR1LANG', 'DR1CCMNM', 'DR1CCMTX', 'DR1_020', 'DR1_030Z',\n",
      "       'DR1FS', 'DR1_040Z', 'DR1IFDCD', 'DR1MC', 'DR1IGRMS', 'DR1IKCAL',\n",
      "       'DR1IPROT', 'DR1ICARB', 'DR1ISUGR', 'DR1IFIBE', 'DR1ITFAT', 'DR1ISFAT',\n",
      "       'DR1IMFAT', 'DR1IPFAT', 'DR1ICHOL', 'DR1IATOC', 'DR1IATOA', 'DR1IRET',\n",
      "       'DR1IVARA', 'DR1IACAR', 'DR1IBCAR', 'DR1ICRYP', 'DR1ILYCO', 'DR1ILZ',\n",
      "       'DR1IVB1', 'DR1IVB2', 'DR1INIAC', 'DR1IVB6', 'DR1IFOLA', 'DR1IFA',\n",
      "       'DR1IFF', 'DR1IFDFE', 'DR1ICHL', 'DR1IVB12', 'DR1IB12A', 'DR1IVC',\n",
      "       'DR1IVD', 'DR1IVK', 'DR1ICALC', 'DR1IPHOS', 'DR1IMAGN', 'DR1IIRON',\n",
      "       'DR1IZINC', 'DR1ICOPP', 'DR1ISODI', 'DR1IPOTA', 'DR1ISELE', 'DR1ICAFF',\n",
      "       'DR1ITHEO', 'DR1IALCO', 'DR1IMOIS', 'DR1IS040', 'DR1IS060', 'DR1IS080',\n",
      "       'DR1IS100', 'DR1IS120', 'DR1IS140', 'DR1IS160', 'DR1IS180', 'DR1IM161',\n",
      "       'DR1IM181', 'DR1IM201', 'DR1IM221', 'DR1IP182', 'DR1IP183', 'DR1IP184',\n",
      "       'DR1IP204', 'DR1IP205', 'DR1IP225', 'DR1IP226'],\n",
      "      dtype='object') \n",
      "\n",
      "dietary_24_hour_individual \n",
      " Index(['SEQN', 'WTDRD1', 'DR1DRSTZ', 'DR1EXMER', 'DR1DBIH', 'DR1DAY',\n",
      "       'DR1LANG', 'DS1LOC', 'DSDSUPID', 'DSDSUPP', 'DS1MTCH', 'DS1ANTA',\n",
      "       'DS1ACTSS', 'DS1IKCAL', 'DS1IPROT', 'DS1ICARB', 'DS1ISUGR', 'DS1IFIBE',\n",
      "       'DS1ITFAT', 'DS1ISFAT', 'DS1IMFAT', 'DS1IPFAT', 'DS1ICHOL', 'DS1ILYCO',\n",
      "       'DS1ILZ', 'DS1IVB1', 'DS1IVB2', 'DS1INIAC', 'DS1IVB6', 'DS1IFA',\n",
      "       'DS1IFDFE', 'DS1ICHL', 'DS1IVB12', 'DS1IVC', 'DS1IVK', 'DS1IVD',\n",
      "       'DS1ICALC', 'DS1IPHOS', 'DS1IMAGN', 'DS1IIRON', 'DS1IZINC', 'DS1ICOPP',\n",
      "       'DS1ISODI', 'DS1IPOTA', 'DS1ISELE', 'DS1ICAFF'],\n",
      "      dtype='object') \n",
      "\n",
      "dietary_interview_total \n",
      " Index(['SEQN', 'WTDRD1', 'DR1DRSTZ', 'DR1EXMER', 'DR1DBIH', 'DR1DAY',\n",
      "       'DR1LANG', 'DR1MNRSP', 'DR1HELPD', 'DBQ095Z', 'DBD100', 'DRQSPREP',\n",
      "       'DR1STY', 'DR1SKY', 'DRQSDIET', 'DRQSDT1', 'DRQSDT2', 'DRQSDT3',\n",
      "       'DRQSDT4', 'DRQSDT5', 'DRQSDT6', 'DRQSDT7', 'DRQSDT8', 'DRQSDT9',\n",
      "       'DRQSDT10', 'DRQSDT11', 'DRQSDT12', 'DRQSDT91', 'DR1TNUMF', 'DR1TKCAL',\n",
      "       'DR1TPROT', 'DR1TCARB', 'DR1TSUGR', 'DR1TFIBE', 'DR1TTFAT', 'DR1TSFAT',\n",
      "       'DR1TMFAT', 'DR1TPFAT', 'DR1TCHOL', 'DR1TATOC', 'DR1TATOA', 'DR1TRET',\n",
      "       'DR1TVARA', 'DR1TACAR', 'DR1TBCAR', 'DR1TCRYP', 'DR1TLYCO', 'DR1TLZ',\n",
      "       'DR1TVB1', 'DR1TVB2', 'DR1TNIAC', 'DR1TVB6', 'DR1TFOLA', 'DR1TFA',\n",
      "       'DR1TFF', 'DR1TFDFE', 'DR1TCHL', 'DR1TVB12', 'DR1TB12A', 'DR1TVC',\n",
      "       'DR1TVD', 'DR1TVK', 'DR1TCALC', 'DR1TPHOS', 'DR1TMAGN', 'DR1TIRON',\n",
      "       'DR1TZINC', 'DR1TCOPP', 'DR1TSODI', 'DR1TPOTA', 'DR1TSELE', 'DR1TCAFF',\n",
      "       'DR1TTHEO', 'DR1TALCO', 'DR1TMOIS', 'DR1TS040', 'DR1TS060', 'DR1TS080',\n",
      "       'DR1TS100', 'DR1TS120', 'DR1TS140', 'DR1TS160', 'DR1TS180', 'DR1TM161',\n",
      "       'DR1TM181', 'DR1TM201', 'DR1TM221', 'DR1TP182', 'DR1TP183', 'DR1TP184',\n",
      "       'DR1TP204', 'DR1TP205', 'DR1TP225', 'DR1TP226', 'DR1_300', 'DR1_320Z',\n",
      "       'DR1_330Z', 'DR1BWATZ', 'DR1TWS'],\n",
      "      dtype='object') \n",
      "\n",
      "dietary_24_hours_total \n",
      " Index(['SEQN', 'WTDRD1', 'DR1DRSTZ', 'DR1EXMER', 'DR1DBIH', 'DR1DAY',\n",
      "       'DR1LANG', 'DR1MNRSP', 'DR1HELPD', 'DS1DSCNT', 'DS1DS', 'DS1ANCNT',\n",
      "       'DS1AN', 'DS1TKCAL', 'DS1TPROT', 'DS1TCARB', 'DS1TSUGR', 'DS1TFIBE',\n",
      "       'DS1TTFAT', 'DS1TSFAT', 'DS1TMFAT', 'DS1TPFAT', 'DS1TCHOL', 'DS1TLYCO',\n",
      "       'DS1TLZ', 'DS1TVB1', 'DS1TVB2', 'DS1TNIAC', 'DS1TVB6', 'DS1TVB12',\n",
      "       'DS1TFA', 'DS1TFDFE', 'DS1TCHL', 'DS1TVC', 'DS1TVK', 'DS1TVD',\n",
      "       'DS1TCALC', 'DS1TPHOS', 'DS1TMAGN', 'DS1TIRON', 'DS1TZINC', 'DS1TCOPP',\n",
      "       'DS1TSODI', 'DS1TPOTA', 'DS1TSELE', 'DS1TCAFF'],\n",
      "      dtype='object') \n",
      "\n",
      "dietary_30_days_total \n",
      " Index(['SEQN', 'DSDCOUNT', 'DSDANCNT', 'DSD010', 'DSD010AN', 'DSQTKCAL',\n",
      "       'DSQTPROT', 'DSQTCARB', 'DSQTSUGR', 'DSQTFIBE', 'DSQTTFAT', 'DSQTSFAT',\n",
      "       'DSQTMFAT', 'DSQTPFAT', 'DSQTCHOL', 'DSQTLYCO', 'DSQTLZ', 'DSQTVB1',\n",
      "       'DSQTVB2', 'DSQTNIAC', 'DSQTVB6', 'DSQTFA', 'DSQTFDFE', 'DSQTCHL',\n",
      "       'DSQTVB12', 'DSQTVC', 'DSQTVK', 'DSQTVD', 'DSQTCALC', 'DSQTPHOS',\n",
      "       'DSQTMAGN', 'DSQTIRON', 'DSQTZINC', 'DSQTCOPP', 'DSQTSODI', 'DSQTPOTA',\n",
      "       'DSQTSELE', 'DSQTCAFF', 'DSQTIODI'],\n",
      "      dtype='object') \n",
      "\n",
      "acculturation \n",
      " Index(['SEQN', 'ACD010A', 'ACD010B', 'ACD010C', 'ACD040'], dtype='object') \n",
      "\n",
      "diet_behavior_nutrition \n",
      " Index(['SEQN', 'DBQ360', 'DBQ370', 'DBD381', 'DBQ390', 'DBQ400', 'DBD411',\n",
      "       'DBQ421', 'DBD895', 'DBD900', 'DBD905', 'DBD910'],\n",
      "      dtype='object') \n",
      "\n",
      "early_childhood \n",
      " Index(['SEQN', 'ECQ020', 'ECD070A', 'ECD070B', 'WHQ030E', 'MCQ080E', 'ECQ150'], dtype='object') \n",
      "\n",
      "health_insurance \n",
      " Index(['SEQN', 'HIQ011', 'HIQ031A', 'HIQ031B', 'HIQ031C', 'HIQ031D', 'HIQ031E',\n",
      "       'HIQ031F', 'HIQ031G', 'HIQ031H', 'HIQ031I', 'HIQ031J', 'HIQ031AA'],\n",
      "      dtype='object') \n",
      "\n",
      "health_utilization \n",
      " Index(['SEQN', 'HUQ010', 'HUQ030', 'HUQ040'], dtype='object') \n",
      "\n",
      "physical_activity \n",
      " Index(['SEQN', 'PAQ706', 'PAQ605', 'PAQ610', 'PAD615', 'PAQ620', 'PAQ625',\n",
      "       'PAD630', 'PAQ635', 'PAQ640', 'PAD645', 'PAQ650', 'PAQ655', 'PAD660',\n",
      "       'PAQ665', 'PAQ670', 'PAD675', 'PAD680', 'PAQ710', 'PAQ715', 'PAQ722',\n",
      "       'PAQ724A', 'PAQ724B', 'PAQ724C', 'PAQ724D', 'PAQ724E', 'PAQ724F',\n",
      "       'PAQ724G', 'PAQ724H', 'PAQ724I', 'PAQ724J', 'PAQ724K', 'PAQ724L',\n",
      "       'PAQ724M', 'PAQ724N', 'PAQ724O', 'PAQ724P', 'PAQ724Q', 'PAQ724R',\n",
      "       'PAQ724S', 'PAQ724T', 'PAQ724U', 'PAQ724V', 'PAQ724W', 'PAQ724X',\n",
      "       'PAQ724Y', 'PAQ724Z', 'PAQ724AA', 'PAQ724AB', 'PAQ724AC', 'PAQ724AD',\n",
      "       'PAQ724AE', 'PAQ724AF', 'PAQ724CM', 'PAQ731', 'PAD733', 'PAQ677',\n",
      "       'PAQ678', 'PAQ740', 'PAQ742', 'PAQ744', 'PAQ746', 'PAQ748', 'PAQ755',\n",
      "       'PAQ759A', 'PAQ759B', 'PAQ759C', 'PAQ759D', 'PAQ759E', 'PAQ759F',\n",
      "       'PAQ759G', 'PAQ759H', 'PAQ759I', 'PAQ759J', 'PAQ759K', 'PAQ759L',\n",
      "       'PAQ759M', 'PAQ759N', 'PAQ759O', 'PAQ759P', 'PAQ759Q', 'PAQ759R',\n",
      "       'PAQ759S', 'PAQ759T', 'PAQ759U', 'PAQ759V', 'PAQ762', 'PAQ764',\n",
      "       'PAQ766', 'PAQ679', 'PAQ750', 'PAQ770', 'PAQ772A', 'PAQ772B', 'PAQ772C',\n",
      "       'PAAQUEX'],\n",
      "      dtype='object') \n",
      "\n",
      "prescription_medications \n",
      " Index(['SEQN', 'RXDUSE', 'RXDDRUG', 'RXDDRGID', 'RXQSEEN', 'RXDDAYS',\n",
      "       'RXDCOUNT'],\n",
      "      dtype='object') \n",
      "\n",
      "smoking \n",
      " Index(['SEQN', 'SMQ621', 'SMD630', 'SMD641'], dtype='object') \n",
      "\n"
     ]
    }
   ],
   "source": [
    "for file_name, df in independent_dfs.items():\n",
    "    print(file_name, '\\n', df.columns, '\\n')"
   ]
  },
  {
   "cell_type": "markdown",
   "metadata": {},
   "source": [
    "#### There are too many variables at the current moment to make any useful conclusions. The next step will be going through all the dependent variables and determining which ones are worth keeping and which ones can be ignored. As these are the dependent variables we are looking at and we are trying to come up with a \"health score\", things like regression and PCA are not of much use. "
   ]
  },
  {
   "cell_type": "markdown",
   "metadata": {},
   "source": [
    "### Cardiorespritory Endurance"
   ]
  },
  {
   "cell_type": "code",
   "execution_count": null,
   "metadata": {},
   "outputs": [],
   "source": []
  },
  {
   "cell_type": "code",
   "execution_count": null,
   "metadata": {},
   "outputs": [],
   "source": []
  },
  {
   "cell_type": "code",
   "execution_count": null,
   "metadata": {},
   "outputs": [],
   "source": []
  },
  {
   "cell_type": "code",
   "execution_count": null,
   "metadata": {},
   "outputs": [],
   "source": []
  },
  {
   "cell_type": "markdown",
   "metadata": {},
   "source": [
    "### nnyfs_diabetes.csv\n",
    "#### The purpose of these dependent variables is to get a simplified look at the childs health through a single or series of variables. Therefore only the high level conditions for variables were kept.\n",
    "- 'SEQ': sequence ID - kept\n",
    "- 'IQ01': Doctor said you have diabetes - kept\n",
    "- 'ID04': Age first told you had diabetes - dropped\n",
    "- 'IQ16': Doctor said you have prediabetes - kept\n",
    "- 'IQ05': Take insulin now - dropped\n",
    "- 'IQ070': Take diabetic pills - dropped"
   ]
  },
  {
   "cell_type": "code",
   "execution_count": null,
   "metadata": {},
   "outputs": [],
   "source": [
    "dependent_dfs['nnyfs_diabetes.csv'] = dependent_dfs['nnyfs_diabetes.csv'][['SEQ', 'IQ01', 'IQ16']]\n",
    "dependent_dfs['nnyfs_diabetes.csv'].columns = ['ID', 'diabetic', 'pre-diabetic']"
   ]
  },
  {
   "cell_type": "code",
   "execution_count": null,
   "metadata": {},
   "outputs": [],
   "source": [
    "np.unique(dependent_dfs['nnyfs_diabetes.csv']['pre-diabetic'])"
   ]
  },
  {
   "cell_type": "markdown",
   "metadata": {},
   "source": [
    "### nnyfs_medical_conditions.csv\n",
    "#### The goal will be to create a feature for 'has condition' and another feature for 'severity of condition'. All variables kept will be used in one of those features.\n",
    "- 'SEQ': Sequence ID - kept\n",
    "- 'CQ01': Told you have asthma - kept\n",
    "- 'CQ03': Still have asthma - kept\n",
    "- 'CQ04': Had asthma attack in past year - kept\n",
    "- 'CQ05': Medication for asthma - dropped\n",
    "- 'CQ14': Trouble seeing even with glasses - kept\n",
    "- 'CQ149': Periods started - dropped"
   ]
  },
  {
   "cell_type": "code",
   "execution_count": null,
   "metadata": {},
   "outputs": [],
   "source": [
    "dependent_dfs['nnyfs_medical_conditions.csv'] = dependent_dfs['nnyfs_medical_conditions.csv'][\n",
    "    ['SEQ', 'CQ01', 'CQ03', 'CQ04', 'CQ14']\n",
    "]\n",
    "dependent_dfs['nnyfs_medical_conditions.csv'].columns = ['ID', 'had_has_asthma', 'has_asthma', 'recent_asthma_attack', 'vision_problems']"
   ]
  },
  {
   "cell_type": "code",
   "execution_count": null,
   "metadata": {},
   "outputs": [],
   "source": [
    "df = dependent_dfs['nnyfs_medical_conditions.csv']"
   ]
  },
  {
   "cell_type": "code",
   "execution_count": null,
   "metadata": {},
   "outputs": [],
   "source": [
    "np.unique(df.had_has_asthma)"
   ]
  },
  {
   "cell_type": "code",
   "execution_count": null,
   "metadata": {},
   "outputs": [],
   "source": [
    "df = dependent_dfs['nnyfs_medical_conditions.csv']\n",
    "df['had_asthma'] = df[(df.had_has_asthma == '1') & (df.has_asthma == '2')]"
   ]
  },
  {
   "cell_type": "code",
   "execution_count": null,
   "metadata": {},
   "outputs": [],
   "source": [
    "df['had_asthma'].value_counts()"
   ]
  },
  {
   "cell_type": "code",
   "execution_count": null,
   "metadata": {},
   "outputs": [],
   "source": []
  },
  {
   "cell_type": "code",
   "execution_count": null,
   "metadata": {},
   "outputs": [],
   "source": []
  },
  {
   "cell_type": "code",
   "execution_count": null,
   "metadata": {},
   "outputs": [],
   "source": []
  },
  {
   "cell_type": "code",
   "execution_count": null,
   "metadata": {},
   "outputs": [],
   "source": []
  },
  {
   "cell_type": "code",
   "execution_count": null,
   "metadata": {},
   "outputs": [],
   "source": [
    "for file_name, frame in dataframes.items():\n",
    "    print(file_name + \":\", frame.shape)"
   ]
  },
  {
   "cell_type": "code",
   "execution_count": null,
   "metadata": {},
   "outputs": [],
   "source": [
    "for frame in dataframes.values():\n",
    "    print('SEQ' in frame.columns)"
   ]
  },
  {
   "cell_type": "code",
   "execution_count": null,
   "metadata": {},
   "outputs": [],
   "source": [
    "df = reduce(lambda left, right: pd.merge(left, right, on='SEQ', how='outer'), dataframes.values())"
   ]
  },
  {
   "cell_type": "code",
   "execution_count": null,
   "metadata": {},
   "outputs": [],
   "source": [
    "df.shape"
   ]
  },
  {
   "cell_type": "code",
   "execution_count": null,
   "metadata": {},
   "outputs": [],
   "source": [
    "df.columns.tolist()"
   ]
  },
  {
   "cell_type": "code",
   "execution_count": null,
   "metadata": {},
   "outputs": [],
   "source": [
    "df.columns = [\n",
    "#     'SEQN' : 'ID',\n",
    "    'ID',\n",
    "#     'DBQ360' : 'In Grade School',\n",
    "    'In Grade School',\n",
    "#     'DBQ370' : 'School Lunch Offered',\n",
    "    'School Lunch Offered',\n",
    "#     'DBD381' : 'Times per Week Eat School Lunch',\n",
    "    'Times per Week Eat School Lunch',\n",
    "#     'DBQ390' : 'School Lunch Price',\n",
    "    'School Lunch Price',\n",
    "#     'DBQ400' : 'School Breakfast Offered',\n",
    "    'School Breakfast Offered',\n",
    "#     'DBD411' : 'Times per Week Eat School Breakfast',\n",
    "    'Times per Week Eat School Breakfast',\n",
    "#     'DBQ421' : 'School Breakfast Price',\n",
    "    'School Breakfast Price',\n",
    "#     'DBD895' : 'Meals per Week Not Home Prepared', \n",
    "    'Meals per Week Not Home Prepared',\n",
    "#     'DBD900' : 'Meals per Week Fast Food',\n",
    "    'Meals per Week Fast Food',\n",
    "#     'DBD905' : 'Ready to Eat Foods Past 30 days',\n",
    "    'Ready to Eat Food Past 30 Days',\n",
    "#     'DBD910' : 'Frozen Meals Past 30 Days'\n",
    "    'Frozen Meals Past 30 Days'\n",
    "]"
   ]
  },
  {
   "cell_type": "code",
   "execution_count": null,
   "metadata": {},
   "outputs": [],
   "source": []
  }
 ],
 "metadata": {
  "kernelspec": {
   "display_name": "Python 3",
   "language": "python",
   "name": "python3"
  },
  "language_info": {
   "codemirror_mode": {
    "name": "ipython",
    "version": 3
   },
   "file_extension": ".py",
   "mimetype": "text/x-python",
   "name": "python",
   "nbconvert_exporter": "python",
   "pygments_lexer": "ipython3",
   "version": "3.6.4"
  }
 },
 "nbformat": 4,
 "nbformat_minor": 2
}
