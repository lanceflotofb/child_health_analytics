{
 "cells": [
  {
   "cell_type": "markdown",
   "metadata": {},
   "source": [
    "# Skills demonstrated \n",
    "- Data gathering\n",
    "- Data wrangling and cleaning\n",
    "- Features engineering\n",
    "- Feature selection\n",
    "    - Variance analysis\n",
    "    - Recursive variable elimination\n",
    "- Model building\n",
    "    - Linear regression\n",
    "    - Support vector machines\n",
    "    - K nearest neighbors\n",
    "    - Neural Networks\n",
    "    - Gradient Booster\n",
    "    - XGBoosters\n",
    "- Analysis interpretation\n",
    "    "
   ]
  },
  {
   "cell_type": "markdown",
   "metadata": {},
   "source": [
    "## The goal of this analysis will be to determine the causal relationship between diet and being overweight or obese.\n",
    "#### The target audience of this notebook is other data scientists. There is a summary notebook written to the general public."
   ]
  },
  {
   "cell_type": "code",
   "execution_count": 1,
   "metadata": {},
   "outputs": [],
   "source": [
    "import pandas as pd\n",
    "import numpy as np\n",
    "from functools import reduce\n",
    "import pdb\n",
    "import xport\n",
    "import glob\n",
    "import os\n",
    "import matplotlib.pyplot as plt\n",
    "import seaborn as sns\n",
    "from sklearn.ensemble.partial_dependence import plot_partial_dependence\n",
    "from sklearn.ensemble.partial_dependence import partial_dependence"
   ]
  },
  {
   "cell_type": "code",
   "execution_count": 2,
   "metadata": {},
   "outputs": [],
   "source": [
    "pd.set_option('display.max_rows', 200)"
   ]
  },
  {
   "cell_type": "markdown",
   "metadata": {},
   "source": [
    "### All data was gathered off of this page from the CDC: https://wwwn.cdc.gov/nchs/nhanes/search/nnyfs12.aspx"
   ]
  },
  {
   "cell_type": "code",
   "execution_count": 3,
   "metadata": {},
   "outputs": [],
   "source": [
    "file_map = {\n",
    "    'Y_DR1TOT.XPT': 'dietary_interview_total',\n",
    "    'Y_HUQ.XPT': 'health_utilization',\n",
    "    'Y_BMX.XPT': 'body_measures',\n",
    "    'Y_DEMO.XPT': 'demographics',\n",
    "    'Y_CVX.XPT': 'cardiovascular_fitness'\n",
    "}"
   ]
  },
  {
   "cell_type": "code",
   "execution_count": 4,
   "metadata": {},
   "outputs": [],
   "source": [
    "os.chdir('data_files')"
   ]
  },
  {
   "cell_type": "markdown",
   "metadata": {},
   "source": [
    "#### Convert all the data from xpt format dataframes"
   ]
  },
  {
   "cell_type": "code",
   "execution_count": 5,
   "metadata": {},
   "outputs": [],
   "source": [
    "dfs = {}\n",
    "for file_name in file_map.keys():\n",
    "    with open(file_name, 'rb') as in_file:\n",
    "        dfs[file_map[file_name]] = xport.to_dataframe(in_file)"
   ]
  },
  {
   "cell_type": "markdown",
   "metadata": {},
   "source": [
    "### Familiarize Myself with the Data"
   ]
  },
  {
   "cell_type": "code",
   "execution_count": 6,
   "metadata": {},
   "outputs": [
    {
     "name": "stdout",
     "output_type": "stream",
     "text": [
      "dietary_interview_total 99\n",
      "health_utilization 4\n",
      "body_measures 22\n",
      "demographics 27\n",
      "cardiovascular_fitness 33\n"
     ]
    }
   ],
   "source": [
    "for file_name, df in dfs.items():\n",
    "    print(file_name, len(df.columns))"
   ]
  },
  {
   "cell_type": "code",
   "execution_count": 7,
   "metadata": {},
   "outputs": [
    {
     "name": "stdout",
     "output_type": "stream",
     "text": [
      "dietary_interview_total \n",
      " Index(['SEQN', 'WTDRD1', 'DR1DRSTZ', 'DR1EXMER', 'DR1DBIH', 'DR1DAY',\n",
      "       'DR1LANG', 'DR1MNRSP', 'DR1HELPD', 'DBQ095Z', 'DBD100', 'DRQSPREP',\n",
      "       'DR1STY', 'DR1SKY', 'DRQSDIET', 'DRQSDT1', 'DRQSDT2', 'DRQSDT3',\n",
      "       'DRQSDT4', 'DRQSDT5', 'DRQSDT6', 'DRQSDT7', 'DRQSDT8', 'DRQSDT9',\n",
      "       'DRQSDT10', 'DRQSDT11', 'DRQSDT12', 'DRQSDT91', 'DR1TNUMF', 'DR1TKCAL',\n",
      "       'DR1TPROT', 'DR1TCARB', 'DR1TSUGR', 'DR1TFIBE', 'DR1TTFAT', 'DR1TSFAT',\n",
      "       'DR1TMFAT', 'DR1TPFAT', 'DR1TCHOL', 'DR1TATOC', 'DR1TATOA', 'DR1TRET',\n",
      "       'DR1TVARA', 'DR1TACAR', 'DR1TBCAR', 'DR1TCRYP', 'DR1TLYCO', 'DR1TLZ',\n",
      "       'DR1TVB1', 'DR1TVB2', 'DR1TNIAC', 'DR1TVB6', 'DR1TFOLA', 'DR1TFA',\n",
      "       'DR1TFF', 'DR1TFDFE', 'DR1TCHL', 'DR1TVB12', 'DR1TB12A', 'DR1TVC',\n",
      "       'DR1TVD', 'DR1TVK', 'DR1TCALC', 'DR1TPHOS', 'DR1TMAGN', 'DR1TIRON',\n",
      "       'DR1TZINC', 'DR1TCOPP', 'DR1TSODI', 'DR1TPOTA', 'DR1TSELE', 'DR1TCAFF',\n",
      "       'DR1TTHEO', 'DR1TALCO', 'DR1TMOIS', 'DR1TS040', 'DR1TS060', 'DR1TS080',\n",
      "       'DR1TS100', 'DR1TS120', 'DR1TS140', 'DR1TS160', 'DR1TS180', 'DR1TM161',\n",
      "       'DR1TM181', 'DR1TM201', 'DR1TM221', 'DR1TP182', 'DR1TP183', 'DR1TP184',\n",
      "       'DR1TP204', 'DR1TP205', 'DR1TP225', 'DR1TP226', 'DR1_300', 'DR1_320Z',\n",
      "       'DR1_330Z', 'DR1BWATZ', 'DR1TWS'],\n",
      "      dtype='object') \n",
      "\n",
      "health_utilization \n",
      " Index(['SEQN', 'HUQ010', 'HUQ030', 'HUQ040'], dtype='object') \n",
      "\n",
      "body_measures \n",
      " Index(['SEQN', 'BMDSTATS', 'BMXWT', 'BMIWT', 'BMXHT', 'BMIHT', 'BMXBMI',\n",
      "       'BMDBMIC', 'BMXARML', 'BMIARML', 'BMXARMC', 'BMIARMC', 'BMXWAIST',\n",
      "       'BMIWAIST', 'BMXCALF', 'BMICALF', 'BMXCALFF', 'BMICALFF', 'BMXTRI',\n",
      "       'BMITRI', 'BMXSUB', 'BMISUB'],\n",
      "      dtype='object') \n",
      "\n",
      "demographics \n",
      " Index(['SEQN', 'RIDSTATR', 'RIAGENDR', 'RIDAGEYR', 'RIDRETH1', 'RIDEXMON',\n",
      "       'RIDEXAGY', 'DMDBORN4', 'DMDEDUC3', 'SIALANG', 'WTINT', 'WTMEC',\n",
      "       'SDMVPSU', 'SDMVSTRA', 'INDHHIN2', 'INDFMIN2', 'INDFMPIR', 'DMDHHSIZ',\n",
      "       'DMDFMSIZ', 'DMDHHSZA', 'DMDHHSZB', 'DMDHHSZF', 'DMDHRGND', 'DMDHRAGE',\n",
      "       'DMDHRBR4', 'DMDHREDU', 'DMDHRMAR'],\n",
      "      dtype='object') \n",
      "\n",
      "cardiovascular_fitness \n",
      " Index(['SEQN', 'CVDEXSTS', 'CVDEXCMT', 'CVDEXLEN', 'CVDPMHR', 'CVDESVO2',\n",
      "       'CVDFITL2', 'CVXPARC', 'CVDVOMAX', 'CVAPROT', 'CVDPROT', 'CVATEM1',\n",
      "       'CVAHUM1', 'CVATEM2', 'CVAHUM2', 'CVAWS1', 'CVAWG1', 'CVDWTIM',\n",
      "       'CVXWRPE', 'CVDWHR', 'CVDS1S', 'CVDS1G', 'CVDS1TIM', 'CVXS1RPE',\n",
      "       'CVDS1HR', 'CVDS2S', 'CVDS2G', 'CVDS2TIM', 'CVXS2RPE', 'CVDS2HR',\n",
      "       'CVDRTIM', 'CVDR1HR', 'CVDR2HR'],\n",
      "      dtype='object') \n",
      "\n"
     ]
    }
   ],
   "source": [
    "for file_name, df in dfs.items():\n",
    "    print(file_name, '\\n', df.columns, '\\n')"
   ]
  },
  {
   "cell_type": "markdown",
   "metadata": {},
   "source": [
    "### Inspect the dietary variable information"
   ]
  },
  {
   "cell_type": "code",
   "execution_count": 8,
   "metadata": {},
   "outputs": [],
   "source": [
    "diet_df = dfs['dietary_interview_total']"
   ]
  },
  {
   "cell_type": "code",
   "execution_count": 9,
   "metadata": {},
   "outputs": [
    {
     "data": {
      "text/plain": [
       "(1576, 99)"
      ]
     },
     "execution_count": 9,
     "metadata": {},
     "output_type": "execute_result"
    }
   ],
   "source": [
    "diet_df.shape"
   ]
  },
  {
   "cell_type": "code",
   "execution_count": 10,
   "metadata": {},
   "outputs": [
    {
     "data": {
      "text/html": [
       "<div>\n",
       "<style scoped>\n",
       "    .dataframe tbody tr th:only-of-type {\n",
       "        vertical-align: middle;\n",
       "    }\n",
       "\n",
       "    .dataframe tbody tr th {\n",
       "        vertical-align: top;\n",
       "    }\n",
       "\n",
       "    .dataframe thead th {\n",
       "        text-align: right;\n",
       "    }\n",
       "</style>\n",
       "<table border=\"1\" class=\"dataframe\">\n",
       "  <thead>\n",
       "    <tr style=\"text-align: right;\">\n",
       "      <th></th>\n",
       "      <th>SEQN</th>\n",
       "      <th>WTDRD1</th>\n",
       "      <th>DR1DRSTZ</th>\n",
       "      <th>DR1EXMER</th>\n",
       "      <th>DR1DBIH</th>\n",
       "      <th>DR1DAY</th>\n",
       "      <th>DR1LANG</th>\n",
       "      <th>DR1MNRSP</th>\n",
       "      <th>DR1HELPD</th>\n",
       "      <th>DBQ095Z</th>\n",
       "      <th>...</th>\n",
       "      <th>DR1TP184</th>\n",
       "      <th>DR1TP204</th>\n",
       "      <th>DR1TP205</th>\n",
       "      <th>DR1TP225</th>\n",
       "      <th>DR1TP226</th>\n",
       "      <th>DR1_300</th>\n",
       "      <th>DR1_320Z</th>\n",
       "      <th>DR1_330Z</th>\n",
       "      <th>DR1BWATZ</th>\n",
       "      <th>DR1TWS</th>\n",
       "    </tr>\n",
       "  </thead>\n",
       "  <tbody>\n",
       "    <tr>\n",
       "      <th>0</th>\n",
       "      <td>71917.0</td>\n",
       "      <td>37028.609239</td>\n",
       "      <td>1.0</td>\n",
       "      <td>3.0</td>\n",
       "      <td>19.0</td>\n",
       "      <td>5.0</td>\n",
       "      <td>1.0</td>\n",
       "      <td>1.0</td>\n",
       "      <td>13.0</td>\n",
       "      <td>1.0</td>\n",
       "      <td>...</td>\n",
       "      <td>0.017</td>\n",
       "      <td>0.235</td>\n",
       "      <td>0.032</td>\n",
       "      <td>0.031</td>\n",
       "      <td>0.051</td>\n",
       "      <td>2.0</td>\n",
       "      <td>607.31</td>\n",
       "      <td>607.31</td>\n",
       "      <td>0.00</td>\n",
       "      <td>1.0</td>\n",
       "    </tr>\n",
       "    <tr>\n",
       "      <th>1</th>\n",
       "      <td>71918.0</td>\n",
       "      <td>11431.383494</td>\n",
       "      <td>1.0</td>\n",
       "      <td>3.0</td>\n",
       "      <td>11.0</td>\n",
       "      <td>6.0</td>\n",
       "      <td>1.0</td>\n",
       "      <td>2.0</td>\n",
       "      <td>1.0</td>\n",
       "      <td>1.0</td>\n",
       "      <td>...</td>\n",
       "      <td>0.001</td>\n",
       "      <td>0.118</td>\n",
       "      <td>0.041</td>\n",
       "      <td>0.003</td>\n",
       "      <td>0.045</td>\n",
       "      <td>2.0</td>\n",
       "      <td>177.75</td>\n",
       "      <td>59.25</td>\n",
       "      <td>118.50</td>\n",
       "      <td>1.0</td>\n",
       "    </tr>\n",
       "    <tr>\n",
       "      <th>2</th>\n",
       "      <td>71919.0</td>\n",
       "      <td>51445.229102</td>\n",
       "      <td>1.0</td>\n",
       "      <td>4.0</td>\n",
       "      <td>30.0</td>\n",
       "      <td>2.0</td>\n",
       "      <td>1.0</td>\n",
       "      <td>1.0</td>\n",
       "      <td>13.0</td>\n",
       "      <td>1.0</td>\n",
       "      <td>...</td>\n",
       "      <td>0.000</td>\n",
       "      <td>0.361</td>\n",
       "      <td>0.020</td>\n",
       "      <td>0.039</td>\n",
       "      <td>0.029</td>\n",
       "      <td>2.0</td>\n",
       "      <td>503.33</td>\n",
       "      <td>503.33</td>\n",
       "      <td>0.00</td>\n",
       "      <td>1.0</td>\n",
       "    </tr>\n",
       "    <tr>\n",
       "      <th>3</th>\n",
       "      <td>71920.0</td>\n",
       "      <td>53039.717476</td>\n",
       "      <td>1.0</td>\n",
       "      <td>4.0</td>\n",
       "      <td>27.0</td>\n",
       "      <td>6.0</td>\n",
       "      <td>1.0</td>\n",
       "      <td>1.0</td>\n",
       "      <td>13.0</td>\n",
       "      <td>1.0</td>\n",
       "      <td>...</td>\n",
       "      <td>0.000</td>\n",
       "      <td>0.000</td>\n",
       "      <td>0.000</td>\n",
       "      <td>0.000</td>\n",
       "      <td>0.000</td>\n",
       "      <td>2.0</td>\n",
       "      <td>859.13</td>\n",
       "      <td>0.00</td>\n",
       "      <td>859.13</td>\n",
       "      <td>2.0</td>\n",
       "    </tr>\n",
       "    <tr>\n",
       "      <th>4</th>\n",
       "      <td>71921.0</td>\n",
       "      <td>97289.709795</td>\n",
       "      <td>1.0</td>\n",
       "      <td>3.0</td>\n",
       "      <td>24.0</td>\n",
       "      <td>2.0</td>\n",
       "      <td>1.0</td>\n",
       "      <td>2.0</td>\n",
       "      <td>13.0</td>\n",
       "      <td>4.0</td>\n",
       "      <td>...</td>\n",
       "      <td>0.006</td>\n",
       "      <td>0.056</td>\n",
       "      <td>0.022</td>\n",
       "      <td>0.008</td>\n",
       "      <td>0.015</td>\n",
       "      <td>2.0</td>\n",
       "      <td>148.13</td>\n",
       "      <td>148.13</td>\n",
       "      <td>0.00</td>\n",
       "      <td>1.0</td>\n",
       "    </tr>\n",
       "  </tbody>\n",
       "</table>\n",
       "<p>5 rows × 99 columns</p>\n",
       "</div>"
      ],
      "text/plain": [
       "      SEQN        WTDRD1  DR1DRSTZ  DR1EXMER  DR1DBIH  DR1DAY  DR1LANG  \\\n",
       "0  71917.0  37028.609239       1.0       3.0     19.0     5.0      1.0   \n",
       "1  71918.0  11431.383494       1.0       3.0     11.0     6.0      1.0   \n",
       "2  71919.0  51445.229102       1.0       4.0     30.0     2.0      1.0   \n",
       "3  71920.0  53039.717476       1.0       4.0     27.0     6.0      1.0   \n",
       "4  71921.0  97289.709795       1.0       3.0     24.0     2.0      1.0   \n",
       "\n",
       "   DR1MNRSP  DR1HELPD  DBQ095Z   ...    DR1TP184  DR1TP204  DR1TP205  \\\n",
       "0       1.0      13.0      1.0   ...       0.017     0.235     0.032   \n",
       "1       2.0       1.0      1.0   ...       0.001     0.118     0.041   \n",
       "2       1.0      13.0      1.0   ...       0.000     0.361     0.020   \n",
       "3       1.0      13.0      1.0   ...       0.000     0.000     0.000   \n",
       "4       2.0      13.0      4.0   ...       0.006     0.056     0.022   \n",
       "\n",
       "   DR1TP225  DR1TP226  DR1_300  DR1_320Z  DR1_330Z  DR1BWATZ  DR1TWS  \n",
       "0     0.031     0.051      2.0    607.31    607.31      0.00     1.0  \n",
       "1     0.003     0.045      2.0    177.75     59.25    118.50     1.0  \n",
       "2     0.039     0.029      2.0    503.33    503.33      0.00     1.0  \n",
       "3     0.000     0.000      2.0    859.13      0.00    859.13     2.0  \n",
       "4     0.008     0.015      2.0    148.13    148.13      0.00     1.0  \n",
       "\n",
       "[5 rows x 99 columns]"
      ]
     },
     "execution_count": 10,
     "metadata": {},
     "output_type": "execute_result"
    }
   ],
   "source": [
    "diet_df.head()"
   ]
  },
  {
   "cell_type": "code",
   "execution_count": 11,
   "metadata": {},
   "outputs": [
    {
     "name": "stdout",
     "output_type": "stream",
     "text": [
      "<class 'pandas.core.frame.DataFrame'>\n",
      "RangeIndex: 1576 entries, 0 to 1575\n",
      "Data columns (total 99 columns):\n",
      "SEQN        1576 non-null float64\n",
      "WTDRD1      1518 non-null float64\n",
      "DR1DRSTZ    1576 non-null float64\n",
      "DR1EXMER    1530 non-null float64\n",
      "DR1DBIH     1530 non-null float64\n",
      "DR1DAY      1530 non-null float64\n",
      "DR1LANG     1515 non-null float64\n",
      "DR1MNRSP    1506 non-null float64\n",
      "DR1HELPD    1515 non-null float64\n",
      "DBQ095Z     1530 non-null float64\n",
      "DBD100      861 non-null float64\n",
      "DRQSPREP    1530 non-null float64\n",
      "DR1STY      1530 non-null float64\n",
      "DR1SKY      140 non-null float64\n",
      "DRQSDIET    1530 non-null float64\n",
      "DRQSDT1     51 non-null float64\n",
      "DRQSDT2     3 non-null float64\n",
      "DRQSDT3     0 non-null float64\n",
      "DRQSDT4     2 non-null float64\n",
      "DRQSDT5     0 non-null float64\n",
      "DRQSDT6     1 non-null float64\n",
      "DRQSDT7     0 non-null float64\n",
      "DRQSDT8     4 non-null float64\n",
      "DRQSDT9     0 non-null float64\n",
      "DRQSDT10    2 non-null float64\n",
      "DRQSDT11    3 non-null float64\n",
      "DRQSDT12    0 non-null float64\n",
      "DRQSDT91    8 non-null float64\n",
      "DR1TNUMF    1518 non-null float64\n",
      "DR1TKCAL    1518 non-null float64\n",
      "DR1TPROT    1518 non-null float64\n",
      "DR1TCARB    1518 non-null float64\n",
      "DR1TSUGR    1518 non-null float64\n",
      "DR1TFIBE    1518 non-null float64\n",
      "DR1TTFAT    1518 non-null float64\n",
      "DR1TSFAT    1518 non-null float64\n",
      "DR1TMFAT    1518 non-null float64\n",
      "DR1TPFAT    1518 non-null float64\n",
      "DR1TCHOL    1518 non-null float64\n",
      "DR1TATOC    1518 non-null float64\n",
      "DR1TATOA    1518 non-null float64\n",
      "DR1TRET     1518 non-null float64\n",
      "DR1TVARA    1518 non-null float64\n",
      "DR1TACAR    1518 non-null float64\n",
      "DR1TBCAR    1518 non-null float64\n",
      "DR1TCRYP    1518 non-null float64\n",
      "DR1TLYCO    1518 non-null float64\n",
      "DR1TLZ      1518 non-null float64\n",
      "DR1TVB1     1518 non-null float64\n",
      "DR1TVB2     1518 non-null float64\n",
      "DR1TNIAC    1518 non-null float64\n",
      "DR1TVB6     1518 non-null float64\n",
      "DR1TFOLA    1518 non-null float64\n",
      "DR1TFA      1518 non-null float64\n",
      "DR1TFF      1518 non-null float64\n",
      "DR1TFDFE    1518 non-null float64\n",
      "DR1TCHL     1518 non-null float64\n",
      "DR1TVB12    1518 non-null float64\n",
      "DR1TB12A    1518 non-null float64\n",
      "DR1TVC      1518 non-null float64\n",
      "DR1TVD      1518 non-null float64\n",
      "DR1TVK      1518 non-null float64\n",
      "DR1TCALC    1518 non-null float64\n",
      "DR1TPHOS    1518 non-null float64\n",
      "DR1TMAGN    1518 non-null float64\n",
      "DR1TIRON    1518 non-null float64\n",
      "DR1TZINC    1518 non-null float64\n",
      "DR1TCOPP    1518 non-null float64\n",
      "DR1TSODI    1518 non-null float64\n",
      "DR1TPOTA    1518 non-null float64\n",
      "DR1TSELE    1518 non-null float64\n",
      "DR1TCAFF    1518 non-null float64\n",
      "DR1TTHEO    1518 non-null float64\n",
      "DR1TALCO    1518 non-null float64\n",
      "DR1TMOIS    1518 non-null float64\n",
      "DR1TS040    1518 non-null float64\n",
      "DR1TS060    1518 non-null float64\n",
      "DR1TS080    1518 non-null float64\n",
      "DR1TS100    1518 non-null float64\n",
      "DR1TS120    1518 non-null float64\n",
      "DR1TS140    1518 non-null float64\n",
      "DR1TS160    1518 non-null float64\n",
      "DR1TS180    1518 non-null float64\n",
      "DR1TM161    1518 non-null float64\n",
      "DR1TM181    1518 non-null float64\n",
      "DR1TM201    1518 non-null float64\n",
      "DR1TM221    1518 non-null float64\n",
      "DR1TP182    1518 non-null float64\n",
      "DR1TP183    1518 non-null float64\n",
      "DR1TP184    1518 non-null float64\n",
      "DR1TP204    1518 non-null float64\n",
      "DR1TP205    1518 non-null float64\n",
      "DR1TP225    1518 non-null float64\n",
      "DR1TP226    1518 non-null float64\n",
      "DR1_300     1530 non-null float64\n",
      "DR1_320Z    1518 non-null float64\n",
      "DR1_330Z    1518 non-null float64\n",
      "DR1BWATZ    1518 non-null float64\n",
      "DR1TWS      1530 non-null float64\n",
      "dtypes: float64(99)\n",
      "memory usage: 1.2 MB\n"
     ]
    }
   ],
   "source": [
    "diet_df.info()"
   ]
  },
  {
   "cell_type": "code",
   "execution_count": 12,
   "metadata": {},
   "outputs": [
    {
     "data": {
      "text/html": [
       "<div>\n",
       "<style scoped>\n",
       "    .dataframe tbody tr th:only-of-type {\n",
       "        vertical-align: middle;\n",
       "    }\n",
       "\n",
       "    .dataframe tbody tr th {\n",
       "        vertical-align: top;\n",
       "    }\n",
       "\n",
       "    .dataframe thead th {\n",
       "        text-align: right;\n",
       "    }\n",
       "</style>\n",
       "<table border=\"1\" class=\"dataframe\">\n",
       "  <thead>\n",
       "    <tr style=\"text-align: right;\">\n",
       "      <th></th>\n",
       "      <th>SEQN</th>\n",
       "      <th>WTDRD1</th>\n",
       "      <th>DR1DRSTZ</th>\n",
       "      <th>DR1EXMER</th>\n",
       "      <th>DR1DBIH</th>\n",
       "      <th>DR1DAY</th>\n",
       "      <th>DR1LANG</th>\n",
       "      <th>DR1MNRSP</th>\n",
       "      <th>DR1HELPD</th>\n",
       "      <th>DBQ095Z</th>\n",
       "      <th>...</th>\n",
       "      <th>DR1TP184</th>\n",
       "      <th>DR1TP204</th>\n",
       "      <th>DR1TP205</th>\n",
       "      <th>DR1TP225</th>\n",
       "      <th>DR1TP226</th>\n",
       "      <th>DR1_300</th>\n",
       "      <th>DR1_320Z</th>\n",
       "      <th>DR1_330Z</th>\n",
       "      <th>DR1BWATZ</th>\n",
       "      <th>DR1TWS</th>\n",
       "    </tr>\n",
       "  </thead>\n",
       "  <tbody>\n",
       "    <tr>\n",
       "      <th>count</th>\n",
       "      <td>1576.000000</td>\n",
       "      <td>1518.000000</td>\n",
       "      <td>1576.000000</td>\n",
       "      <td>1530.000000</td>\n",
       "      <td>1530.000000</td>\n",
       "      <td>1530.000000</td>\n",
       "      <td>1515.000000</td>\n",
       "      <td>1506.000000</td>\n",
       "      <td>1515.000000</td>\n",
       "      <td>1530.000000</td>\n",
       "      <td>...</td>\n",
       "      <td>1518.000000</td>\n",
       "      <td>1518.000000</td>\n",
       "      <td>1518.000000</td>\n",
       "      <td>1518.000000</td>\n",
       "      <td>1518.000000</td>\n",
       "      <td>1530.000000</td>\n",
       "      <td>1518.000000</td>\n",
       "      <td>1518.000000</td>\n",
       "      <td>1518.000000</td>\n",
       "      <td>1530.000000</td>\n",
       "    </tr>\n",
       "    <tr>\n",
       "      <th>mean</th>\n",
       "      <td>72704.500000</td>\n",
       "      <td>35355.405138</td>\n",
       "      <td>1.124365</td>\n",
       "      <td>4.932680</td>\n",
       "      <td>20.227451</td>\n",
       "      <td>4.430065</td>\n",
       "      <td>1.160396</td>\n",
       "      <td>1.630146</td>\n",
       "      <td>7.351815</td>\n",
       "      <td>3.492810</td>\n",
       "      <td>...</td>\n",
       "      <td>0.007580</td>\n",
       "      <td>0.105696</td>\n",
       "      <td>0.013764</td>\n",
       "      <td>0.014173</td>\n",
       "      <td>0.027877</td>\n",
       "      <td>2.081699</td>\n",
       "      <td>542.642016</td>\n",
       "      <td>288.568439</td>\n",
       "      <td>254.073577</td>\n",
       "      <td>7.439869</td>\n",
       "    </tr>\n",
       "    <tr>\n",
       "      <th>std</th>\n",
       "      <td>455.096327</td>\n",
       "      <td>23961.371654</td>\n",
       "      <td>0.677823</td>\n",
       "      <td>11.775146</td>\n",
       "      <td>13.485521</td>\n",
       "      <td>2.213434</td>\n",
       "      <td>0.491690</td>\n",
       "      <td>1.307019</td>\n",
       "      <td>5.639634</td>\n",
       "      <td>10.524394</td>\n",
       "      <td>...</td>\n",
       "      <td>0.020609</td>\n",
       "      <td>0.102826</td>\n",
       "      <td>0.041431</td>\n",
       "      <td>0.015628</td>\n",
       "      <td>0.073227</td>\n",
       "      <td>0.688496</td>\n",
       "      <td>649.854176</td>\n",
       "      <td>540.200018</td>\n",
       "      <td>508.195210</td>\n",
       "      <td>22.902457</td>\n",
       "    </tr>\n",
       "    <tr>\n",
       "      <th>min</th>\n",
       "      <td>71917.000000</td>\n",
       "      <td>6764.142902</td>\n",
       "      <td>1.000000</td>\n",
       "      <td>1.000000</td>\n",
       "      <td>-3.000000</td>\n",
       "      <td>1.000000</td>\n",
       "      <td>1.000000</td>\n",
       "      <td>1.000000</td>\n",
       "      <td>1.000000</td>\n",
       "      <td>1.000000</td>\n",
       "      <td>...</td>\n",
       "      <td>0.000000</td>\n",
       "      <td>0.000000</td>\n",
       "      <td>0.000000</td>\n",
       "      <td>0.000000</td>\n",
       "      <td>0.000000</td>\n",
       "      <td>1.000000</td>\n",
       "      <td>0.000000</td>\n",
       "      <td>0.000000</td>\n",
       "      <td>0.000000</td>\n",
       "      <td>1.000000</td>\n",
       "    </tr>\n",
       "    <tr>\n",
       "      <th>25%</th>\n",
       "      <td>72310.750000</td>\n",
       "      <td>19380.147427</td>\n",
       "      <td>1.000000</td>\n",
       "      <td>2.000000</td>\n",
       "      <td>9.000000</td>\n",
       "      <td>2.000000</td>\n",
       "      <td>1.000000</td>\n",
       "      <td>1.000000</td>\n",
       "      <td>2.000000</td>\n",
       "      <td>1.000000</td>\n",
       "      <td>...</td>\n",
       "      <td>0.000000</td>\n",
       "      <td>0.036250</td>\n",
       "      <td>0.002000</td>\n",
       "      <td>0.005000</td>\n",
       "      <td>0.002000</td>\n",
       "      <td>2.000000</td>\n",
       "      <td>103.690000</td>\n",
       "      <td>0.000000</td>\n",
       "      <td>0.000000</td>\n",
       "      <td>1.000000</td>\n",
       "    </tr>\n",
       "    <tr>\n",
       "      <th>50%</th>\n",
       "      <td>72704.500000</td>\n",
       "      <td>28008.590572</td>\n",
       "      <td>1.000000</td>\n",
       "      <td>3.000000</td>\n",
       "      <td>20.000000</td>\n",
       "      <td>5.000000</td>\n",
       "      <td>1.000000</td>\n",
       "      <td>1.000000</td>\n",
       "      <td>8.000000</td>\n",
       "      <td>1.000000</td>\n",
       "      <td>...</td>\n",
       "      <td>0.001000</td>\n",
       "      <td>0.073500</td>\n",
       "      <td>0.005000</td>\n",
       "      <td>0.010000</td>\n",
       "      <td>0.006000</td>\n",
       "      <td>2.000000</td>\n",
       "      <td>375.000000</td>\n",
       "      <td>0.000000</td>\n",
       "      <td>0.000000</td>\n",
       "      <td>1.000000</td>\n",
       "    </tr>\n",
       "    <tr>\n",
       "      <th>75%</th>\n",
       "      <td>73098.250000</td>\n",
       "      <td>45262.041947</td>\n",
       "      <td>1.000000</td>\n",
       "      <td>4.000000</td>\n",
       "      <td>30.000000</td>\n",
       "      <td>6.000000</td>\n",
       "      <td>1.000000</td>\n",
       "      <td>2.000000</td>\n",
       "      <td>13.000000</td>\n",
       "      <td>4.000000</td>\n",
       "      <td>...</td>\n",
       "      <td>0.004000</td>\n",
       "      <td>0.139000</td>\n",
       "      <td>0.011000</td>\n",
       "      <td>0.019000</td>\n",
       "      <td>0.024000</td>\n",
       "      <td>2.000000</td>\n",
       "      <td>740.637500</td>\n",
       "      <td>385.120000</td>\n",
       "      <td>355.500000</td>\n",
       "      <td>2.000000</td>\n",
       "    </tr>\n",
       "    <tr>\n",
       "      <th>max</th>\n",
       "      <td>73492.000000</td>\n",
       "      <td>181231.077957</td>\n",
       "      <td>5.000000</td>\n",
       "      <td>91.000000</td>\n",
       "      <td>74.000000</td>\n",
       "      <td>7.000000</td>\n",
       "      <td>4.000000</td>\n",
       "      <td>12.000000</td>\n",
       "      <td>14.000000</td>\n",
       "      <td>99.000000</td>\n",
       "      <td>...</td>\n",
       "      <td>0.423000</td>\n",
       "      <td>0.701000</td>\n",
       "      <td>0.634000</td>\n",
       "      <td>0.227000</td>\n",
       "      <td>0.984000</td>\n",
       "      <td>9.000000</td>\n",
       "      <td>8591.250000</td>\n",
       "      <td>8591.250000</td>\n",
       "      <td>6038.400000</td>\n",
       "      <td>99.000000</td>\n",
       "    </tr>\n",
       "  </tbody>\n",
       "</table>\n",
       "<p>8 rows × 99 columns</p>\n",
       "</div>"
      ],
      "text/plain": [
       "               SEQN         WTDRD1     DR1DRSTZ     DR1EXMER      DR1DBIH  \\\n",
       "count   1576.000000    1518.000000  1576.000000  1530.000000  1530.000000   \n",
       "mean   72704.500000   35355.405138     1.124365     4.932680    20.227451   \n",
       "std      455.096327   23961.371654     0.677823    11.775146    13.485521   \n",
       "min    71917.000000    6764.142902     1.000000     1.000000    -3.000000   \n",
       "25%    72310.750000   19380.147427     1.000000     2.000000     9.000000   \n",
       "50%    72704.500000   28008.590572     1.000000     3.000000    20.000000   \n",
       "75%    73098.250000   45262.041947     1.000000     4.000000    30.000000   \n",
       "max    73492.000000  181231.077957     5.000000    91.000000    74.000000   \n",
       "\n",
       "            DR1DAY      DR1LANG     DR1MNRSP     DR1HELPD      DBQ095Z  \\\n",
       "count  1530.000000  1515.000000  1506.000000  1515.000000  1530.000000   \n",
       "mean      4.430065     1.160396     1.630146     7.351815     3.492810   \n",
       "std       2.213434     0.491690     1.307019     5.639634    10.524394   \n",
       "min       1.000000     1.000000     1.000000     1.000000     1.000000   \n",
       "25%       2.000000     1.000000     1.000000     2.000000     1.000000   \n",
       "50%       5.000000     1.000000     1.000000     8.000000     1.000000   \n",
       "75%       6.000000     1.000000     2.000000    13.000000     4.000000   \n",
       "max       7.000000     4.000000    12.000000    14.000000    99.000000   \n",
       "\n",
       "          ...          DR1TP184     DR1TP204     DR1TP205     DR1TP225  \\\n",
       "count     ...       1518.000000  1518.000000  1518.000000  1518.000000   \n",
       "mean      ...          0.007580     0.105696     0.013764     0.014173   \n",
       "std       ...          0.020609     0.102826     0.041431     0.015628   \n",
       "min       ...          0.000000     0.000000     0.000000     0.000000   \n",
       "25%       ...          0.000000     0.036250     0.002000     0.005000   \n",
       "50%       ...          0.001000     0.073500     0.005000     0.010000   \n",
       "75%       ...          0.004000     0.139000     0.011000     0.019000   \n",
       "max       ...          0.423000     0.701000     0.634000     0.227000   \n",
       "\n",
       "          DR1TP226      DR1_300     DR1_320Z     DR1_330Z     DR1BWATZ  \\\n",
       "count  1518.000000  1530.000000  1518.000000  1518.000000  1518.000000   \n",
       "mean      0.027877     2.081699   542.642016   288.568439   254.073577   \n",
       "std       0.073227     0.688496   649.854176   540.200018   508.195210   \n",
       "min       0.000000     1.000000     0.000000     0.000000     0.000000   \n",
       "25%       0.002000     2.000000   103.690000     0.000000     0.000000   \n",
       "50%       0.006000     2.000000   375.000000     0.000000     0.000000   \n",
       "75%       0.024000     2.000000   740.637500   385.120000   355.500000   \n",
       "max       0.984000     9.000000  8591.250000  8591.250000  6038.400000   \n",
       "\n",
       "            DR1TWS  \n",
       "count  1530.000000  \n",
       "mean      7.439869  \n",
       "std      22.902457  \n",
       "min       1.000000  \n",
       "25%       1.000000  \n",
       "50%       1.000000  \n",
       "75%       2.000000  \n",
       "max      99.000000  \n",
       "\n",
       "[8 rows x 99 columns]"
      ]
     },
     "execution_count": 12,
     "metadata": {},
     "output_type": "execute_result"
    }
   ],
   "source": [
    "diet_df.describe()"
   ]
  },
  {
   "cell_type": "markdown",
   "metadata": {},
   "source": [
    "### These are the variables that will be used in the analysis\n",
    "- DR1TNUMF - Number of foods reported\n",
    "- DR1TKCAL - Energy (kcal)\n",
    "- DR1TPROT - Protein (gm)\n",
    "- DR1TCARB - Carbohydrate (gm)\n",
    "- DR1TSUGR - Total sugars (gm)\n",
    "- DR1TFIBE - Dietary fiber (gm)\n",
    "- DR1TTFAT - Total fat (gm)\n",
    "- DR1TSFAT - Total saturated fatty acids (gm)\n",
    "- DR1TMFAT - Total monounsaturated fatty acids (gm)\n",
    "- DR1TPFAT - Total polyunsaturated fatty acids (gm)\n",
    "- DR1TCHOL - Cholesterol (mg)\n",
    "- DR1TATOC - Vitamin E as alpha-tocopherol (mg)\n",
    "- DR1TATOA - Added alpha-tocopherol (Vitamin E) (mg)\n",
    "- DR1TRET - Retinol (mcg)\n",
    "- DR1TVARA - Vitamin A, RAE (mcg)\n",
    "- DR1TACAR - Alpha-carotene (mcg)\n",
    "- DR1TBCAR - Beta-carotene (mcg)\n",
    "- DR1TCRYP - Beta-cryptoxanthin (mcg)\n",
    "- DR1TLYCO - Lycopene (mcg)\n",
    "- DR1TLZ - Lutein + zeaxanthin (mcg)\n",
    "- DR1TVB1 - Thiamin (Vitamin B1) (mg)\n",
    "- DR1TVB2 - Riboflavin (Vitamin B2) (mg)\n",
    "- DR1TNIAC - Niacin (mg)\n",
    "- DR1TVB6 - Vitamin B6 (mg)\n",
    "- DR1TFOLA - Total folate (mcg)\n",
    "- DR1TFA - Folic acid (mcg)\n",
    "- DR1TFF - Food folate (mcg)\n",
    "- DR1TFDFE - Folate, DFE (mcg)\n",
    "- DR1TCHL - Total choline (mg)\n",
    "- DR1TVB12 - Vitamin B12 (mcg)\n",
    "- DR1TB12A - Added vitamin B12 (mcg)\n",
    "- DR1TVC - Vitamin C (mg)\n",
    "- DR1TVD - Vitamin D (D2 + D3) (mcg)\n",
    "- DR1TVK - Vitamin K (mcg)\n",
    "- DR1TCALC - Calcium (mg)\n",
    "- DR1TPHOS - Phosphorus (mg)\n",
    "- DR1TMAGN - Magnesium (mg)\n",
    "- DR1TIRON - Iron (mg)\n",
    "- DR1TZINC - Zinc (mg)\n",
    "- DR1TCOPP - Copper (mg)\n",
    "- DR1TSODI - Sodium (mg)\n",
    "- DR1TPOTA - Potassium (mg)\n",
    "- DR1TSELE - Selenium (mcg)\n",
    "- DR1TCAFF - Caffeine (mg)\n",
    "- DR1TTHEO - Theobromine (mg)\n",
    "- DR1TALCO - Alcohol (gm)\n",
    "- DR1TMOIS - Moisture (gm)\n",
    "\n",
    "- DR1_320Z - Total plain water drank yesterday (gm)\n",
    "- DR1_330Z - Total tap water drank yesterday (gm)\n",
    "- DR1BWATZ - Total bottled water drank yesterday (gm)\n",
    "- DR1TWS - Tap water source"
   ]
  },
  {
   "cell_type": "code",
   "execution_count": 13,
   "metadata": {},
   "outputs": [],
   "source": [
    "variables_to_be_used = [\n",
    "    'SEQN',\n",
    "    'DR1TNUMF',\n",
    "    'DR1TKCAL',\n",
    "    'DR1TPROT',\n",
    "    'DR1TCARB',\n",
    "    'DR1TSUGR',\n",
    "    'DR1TFIBE',\n",
    "    'DR1TTFAT',\n",
    "    'DR1TSFAT',\n",
    "    'DR1TMFAT',\n",
    "    'DR1TPFAT',\n",
    "    'DR1TCHOL',\n",
    "    'DR1TATOC',\n",
    "    'DR1TATOA',\n",
    "    'DR1TRET',\n",
    "    'DR1TVARA',\n",
    "    'DR1TACAR',\n",
    "    'DR1TBCAR',\n",
    "    'DR1TCRYP',\n",
    "    'DR1TLYCO',\n",
    "    'DR1TLZ',\n",
    "    'DR1TVB1',\n",
    "    'DR1TVB2',\n",
    "    'DR1TNIAC',\n",
    "    'DR1TVB6',\n",
    "    'DR1TFOLA',\n",
    "    'DR1TFA',\n",
    "    'DR1TFF',\n",
    "    'DR1TFDFE',\n",
    "    'DR1TCHL',\n",
    "    'DR1TVB12',\n",
    "    'DR1TB12A',\n",
    "    'DR1TVC',\n",
    "    'DR1TVD',\n",
    "    'DR1TVK',\n",
    "    'DR1TCALC',\n",
    "    'DR1TPHOS',\n",
    "    'DR1TMAGN',\n",
    "    'DR1TIRON',\n",
    "    'DR1TZINC',\n",
    "    'DR1TCOPP',\n",
    "    'DR1TSODI',\n",
    "    'DR1TPOTA',\n",
    "    'DR1TSELE',\n",
    "    'DR1TCAFF',\n",
    "    'DR1TTHEO',\n",
    "    'DR1TALCO',\n",
    "    'DR1TMOIS', \n",
    "    'DR1_320Z',\n",
    "    'DR1_330Z',\n",
    "    'DR1BWATZ',\n",
    "    'DR1TWS'\n",
    "]"
   ]
  },
  {
   "cell_type": "markdown",
   "metadata": {},
   "source": [
    "#### Drop all datapoints where the recall status shows the data is not reliable. Only a recall status of 1 is considered reliable."
   ]
  },
  {
   "cell_type": "code",
   "execution_count": 14,
   "metadata": {},
   "outputs": [
    {
     "data": {
      "text/plain": [
       "(58, 99)"
      ]
     },
     "execution_count": 14,
     "metadata": {},
     "output_type": "execute_result"
    }
   ],
   "source": [
    "# Number of datapoints to be dropped\n",
    "diet_df[(diet_df.DR1DRSTZ != 1)].shape"
   ]
  },
  {
   "cell_type": "code",
   "execution_count": 15,
   "metadata": {},
   "outputs": [],
   "source": [
    "diet_df = diet_df[(diet_df.DR1DRSTZ == 1)]"
   ]
  },
  {
   "cell_type": "code",
   "execution_count": 16,
   "metadata": {},
   "outputs": [],
   "source": [
    "diet_df = diet_df.drop(['DR1DRSTZ'], axis=1)"
   ]
  },
  {
   "cell_type": "markdown",
   "metadata": {},
   "source": [
    "#### Drop respondents who were on any kind of diet. There are a minimal number of participants on diets and it would be safe to assume that those who were were not eating what they would on a typical day"
   ]
  },
  {
   "cell_type": "code",
   "execution_count": 17,
   "metadata": {},
   "outputs": [
    {
     "data": {
      "text/plain": [
       "(68, 98)"
      ]
     },
     "execution_count": 17,
     "metadata": {},
     "output_type": "execute_result"
    }
   ],
   "source": [
    "# Number of datapoints to be dropped\n",
    "diet_df[diet_df.DRQSDIET == 1].shape"
   ]
  },
  {
   "cell_type": "code",
   "execution_count": 18,
   "metadata": {},
   "outputs": [],
   "source": [
    "diet_df = diet_df[diet_df.DRQSDIET != 1]"
   ]
  },
  {
   "cell_type": "markdown",
   "metadata": {},
   "source": [
    "#### Drop all the other features that had to do with what kind of diet the person was on"
   ]
  },
  {
   "cell_type": "code",
   "execution_count": 19,
   "metadata": {},
   "outputs": [],
   "source": [
    "columns_to_drop = [var for var in diet_df.columns.tolist() if var.startswith('DRQSD')]\n",
    "diet_df = diet_df.drop(columns_to_drop, axis=1)"
   ]
  },
  {
   "cell_type": "markdown",
   "metadata": {},
   "source": [
    "#### Drop data where the respondent reported it was not their usual intake. The goal here is to discover causal relationships between a persons typical diet and some key health metrics. If the participant is reporting that the data is not typical, then it should not be used. A code of 2 means the participant said their intake was typical."
   ]
  },
  {
   "cell_type": "code",
   "execution_count": 20,
   "metadata": {},
   "outputs": [
    {
     "data": {
      "text/plain": [
       "(327, 84)"
      ]
     },
     "execution_count": 20,
     "metadata": {},
     "output_type": "execute_result"
    }
   ],
   "source": [
    "# Number of datapoints to be dropped\n",
    "diet_df[diet_df.DR1_300 != 2].shape"
   ]
  },
  {
   "cell_type": "code",
   "execution_count": 21,
   "metadata": {},
   "outputs": [],
   "source": [
    "diet_df = diet_df[diet_df.DR1_300 == 2]"
   ]
  },
  {
   "cell_type": "code",
   "execution_count": 22,
   "metadata": {},
   "outputs": [
    {
     "data": {
      "text/plain": [
       "(1123, 84)"
      ]
     },
     "execution_count": 22,
     "metadata": {},
     "output_type": "execute_result"
    }
   ],
   "source": [
    "diet_df.shape"
   ]
  },
  {
   "cell_type": "markdown",
   "metadata": {},
   "source": [
    "### The remaining variables that will be dropped will drop the entire column. There are only two types of variables that will be dropped and those are questions about when and what kind of salt is used in the food. These are dropped as they are seen as too detailed for this analysis, as sodium is already a nutrient source that will be tracked in the analysis. The other variables that will be dropped are those that specify what type of fat was consumed. These are also seen as too detailed. We are already tracking how much fat as well as whether it falls into the saturated, monosaturated, polysaturated, omega3, or omega6 category."
   ]
  },
  {
   "cell_type": "code",
   "execution_count": 23,
   "metadata": {},
   "outputs": [],
   "source": [
    "diet_df = diet_df[variables_to_be_used]"
   ]
  },
  {
   "cell_type": "code",
   "execution_count": 24,
   "metadata": {},
   "outputs": [
    {
     "data": {
      "text/plain": [
       "(1123, 52)"
      ]
     },
     "execution_count": 24,
     "metadata": {},
     "output_type": "execute_result"
    }
   ],
   "source": [
    "diet_df.shape"
   ]
  },
  {
   "cell_type": "code",
   "execution_count": 25,
   "metadata": {},
   "outputs": [],
   "source": [
    "dietary_variable_name_map = {\n",
    "    'SEQN': 'Respondent sequence number',\n",
    "    'WTDRD1': 'Dietary day one sample weight',\n",
    "    'DR1DRSTZ': 'Dietary recall status',\n",
    "    'DR1EXMER': 'Interviewer ID code',\n",
    "    'DR1DBIH': '# of days b/w intake and HH interview',\n",
    "    'DR1DAY': 'Intake day of the week',\n",
    "    'DR1LANG': 'Language respondent used mostly',\n",
    "    'DR1MNRSP': 'Main respondent for this interview',\n",
    "    'DR1HELPD': 'Helped in responding for this interview',\n",
    "    'DBQ095Z': 'Type of table salt used',\n",
    "    'DBD100': 'How often add salt to food at table',\n",
    "    'DRQSPREP': 'Salt used in preparation?',\n",
    "    'DR1STY': 'Salt used at table yesterday?',\n",
    "    'DR1SKY': 'Kind of table salt used yesterday',\n",
    "    'DRQSDIET': 'On special diet?',\n",
    "    'DRQSDT1': 'Weight loss/Low calorie diet',\n",
    "    'DRQSDT2': 'Low fat/Low cholesterol diet',\n",
    "    'DRQSDT3': 'Low salt/Low sodium diet',\n",
    "    'DRQSDT4': 'Sugar free/Low sugar diet',\n",
    "    'DRQSDT5': 'Low fiber diet',\n",
    "    'DRQSDT6': 'High fiber diet',\n",
    "    'DRQSDT7': 'Diabetic diet',\n",
    "    'DRQSDT8': 'Weight gain/Muscle building diet',\n",
    "    'DRQSDT9': 'Low carbohydrate diet',\n",
    "    'DRQSDT10': 'High protein diet',\n",
    "    'DRQSDT11': 'Gluten-free/Celiac diet',\n",
    "    'DRQSDT12': 'Renal/Kidney diet',\n",
    "    'DRQSDT91': 'Other special diet',\n",
    "    'DR1TNUMF': 'Number of foods reported',\n",
    "    'DR1TKCAL': 'Energy (kcal)',\n",
    "    'DR1TPROT': 'Protein (gm)',\n",
    "    'DR1TCARB': 'Carbohydrate (gm)',\n",
    "    'DR1TSUGR': 'Total sugars (gm)',\n",
    "    'DR1TFIBE': 'Dietary fiber (gm)',\n",
    "    'DR1TTFAT': 'Total fat (gm)',\n",
    "    'DR1TSFAT': 'Total saturated fatty acids (gm)',\n",
    "    'DR1TMFAT': 'Total monounsaturated fatty acids (gm)',\n",
    "    'DR1TPFAT': 'Total polyunsaturated fatty acids (gm)',\n",
    "    'DR1TCHOL': 'Cholesterol (mg)',\n",
    "    'DR1TATOC': 'Vitamin E as alpha-tocopherol (mg)',\n",
    "    'DR1TATOA': 'Added alpha-tocopherol (Vitamin E) (mg)',\n",
    "    'DR1TRET': 'Retinol (mcg)',\n",
    "    'DR1TVARA': 'Vitamin A, RAE (mcg)',\n",
    "    'DR1TACAR': 'Alpha-carotene (mcg)',\n",
    "    'DR1TBCAR': 'Beta-carotene (mcg)',\n",
    "    'DR1TCRYP': 'Beta-cryptoxanthin (mcg)',\n",
    "    'DR1TLYCO': 'Lycopene (mcg)',\n",
    "    'DR1TLZ': 'Lutein + zeaxanthin (mcg)',\n",
    "    'DR1TVB1': 'Thiamin (Vitamin B1) (mg)',\n",
    "    'DR1TVB2': 'Riboflavin (Vitamin B2) (mg)',\n",
    "    'DR1TNIAC': 'Niacin (mg)',\n",
    "    'DR1TVB6': 'Vitamin B6 (mg)',\n",
    "    'DR1TFOLA': 'Total folate (mcg)',\n",
    "    'DR1TFA': 'Folic acid (mcg)',\n",
    "    'DR1TFF': 'Food folate (mcg)',\n",
    "    'DR1TFDFE': 'Folate, DFE (mcg)',\n",
    "    'DR1TCHL': 'Total choline (mg)',\n",
    "    'DR1TVB12': 'Vitamin B12 (mcg)',\n",
    "    'DR1TB12A': 'Added vitamin B12 (mcg)',\n",
    "    'DR1TVC': 'Vitamin C (mg)',\n",
    "    'DR1TVD': 'Vitamin D (D2 + D3) (mcg)',\n",
    "    'DR1TVK': 'Vitamin K (mcg)',\n",
    "    'DR1TCALC': 'Calcium (mg)',\n",
    "    'DR1TPHOS': 'Phosphorus (mg)',\n",
    "    'DR1TMAGN': 'Magnesium (mg)',\n",
    "    'DR1TIRON': 'Iron (mg)',\n",
    "    'DR1TZINC': 'Zinc (mg)',\n",
    "    'DR1TCOPP': 'Copper (mg)',\n",
    "    'DR1TSODI': 'Sodium (mg)',\n",
    "    'DR1TPOTA': 'Potassium (mg)',\n",
    "    'DR1TSELE': 'Selenium (mcg)',\n",
    "    'DR1TCAFF': 'Caffeine (mg)',\n",
    "    'DR1TTHEO': 'Theobromine (mg)',\n",
    "    'DR1TALCO': 'Alcohol (gm)',\n",
    "    'DR1TMOIS': 'Moisture (gm)',\n",
    "    'DR1TS040': 'SFA 4:0 (Butanoic) (gm)',\n",
    "    'DR1TS060': 'SFA 6:0 (Hexanoic) (gm)',\n",
    "    'DR1TS080': 'SFA 8:0 (Octanoic) (gm)',\n",
    "    'DR1TS100': 'SFA 10:0 (Decanoic) (gm)',\n",
    "    'DR1TS120': 'SFA 12:0 (Dodecanoic) (gm)',\n",
    "    'DR1TS140': 'SFA 14:0 (Tetradecanoic) (gm)',\n",
    "    'DR1TS160': 'SFA 16:0 (Hexadecanoic) (gm)',\n",
    "    'DR1TS180': 'SFA 18:0 (Octadecanoic) (gm)',\n",
    "    'DR1TM161': 'MFA 16:1 (Hexadecenoic) (gm)',\n",
    "    'DR1TM181': 'MFA 18:1 (Octadecenoic) (gm)',\n",
    "    'DR1TM201': 'MFA 20:1 (Eicosenoic) (gm)',\n",
    "    'DR1TM221': 'MFA 22:1 (Docosenoic) (gm)',\n",
    "    'DR1TP182': 'PFA 18:2 (Octadecadienoic) (gm)',\n",
    "    'DR1TP183': 'PFA 18:3 (Octadecatrienoic) (gm)',\n",
    "    'DR1TP184': 'PFA 18:4 (Octadecatetraenoic) (gm)',\n",
    "    'DR1TP204': 'PFA 20:4 (Eicosatetraenoic) (gm)',\n",
    "    'DR1TP205': 'PFA 20:5 (Eicosapentaenoic) (gm)',\n",
    "    'DR1TP225': 'PFA 22:5 (Docosapentaenoic) (gm)',\n",
    "    'DR1TP226': 'PFA 22:6 (Docosahexaenoic) (gm)',\n",
    "    'DR1_300': 'Compare food consumed yesterday to usual',\n",
    "    'DR1_320Z': 'Total plain water drank yesterday (gm)',\n",
    "    'DR1_330Z': 'Total tap water drank yesterday (gm)',\n",
    "    'DR1BWATZ': 'Total bottled water drank yesterday (gm)',\n",
    "    'DR1TWS': 'Tap water source'\n",
    "}"
   ]
  },
  {
   "cell_type": "code",
   "execution_count": 26,
   "metadata": {},
   "outputs": [],
   "source": [
    "diet_df.columns = [dietary_variable_name_map[col] for col in diet_df.columns]"
   ]
  },
  {
   "cell_type": "code",
   "execution_count": 27,
   "metadata": {},
   "outputs": [
    {
     "data": {
      "text/html": [
       "<div>\n",
       "<style scoped>\n",
       "    .dataframe tbody tr th:only-of-type {\n",
       "        vertical-align: middle;\n",
       "    }\n",
       "\n",
       "    .dataframe tbody tr th {\n",
       "        vertical-align: top;\n",
       "    }\n",
       "\n",
       "    .dataframe thead th {\n",
       "        text-align: right;\n",
       "    }\n",
       "</style>\n",
       "<table border=\"1\" class=\"dataframe\">\n",
       "  <thead>\n",
       "    <tr style=\"text-align: right;\">\n",
       "      <th></th>\n",
       "      <th>Respondent sequence number</th>\n",
       "      <th>Number of foods reported</th>\n",
       "      <th>Energy (kcal)</th>\n",
       "      <th>Protein (gm)</th>\n",
       "      <th>Carbohydrate (gm)</th>\n",
       "      <th>Total sugars (gm)</th>\n",
       "      <th>Dietary fiber (gm)</th>\n",
       "      <th>Total fat (gm)</th>\n",
       "      <th>Total saturated fatty acids (gm)</th>\n",
       "      <th>Total monounsaturated fatty acids (gm)</th>\n",
       "      <th>...</th>\n",
       "      <th>Potassium (mg)</th>\n",
       "      <th>Selenium (mcg)</th>\n",
       "      <th>Caffeine (mg)</th>\n",
       "      <th>Theobromine (mg)</th>\n",
       "      <th>Alcohol (gm)</th>\n",
       "      <th>Moisture (gm)</th>\n",
       "      <th>Total plain water drank yesterday (gm)</th>\n",
       "      <th>Total tap water drank yesterday (gm)</th>\n",
       "      <th>Total bottled water drank yesterday (gm)</th>\n",
       "      <th>Tap water source</th>\n",
       "    </tr>\n",
       "  </thead>\n",
       "  <tbody>\n",
       "    <tr>\n",
       "      <th>0</th>\n",
       "      <td>71917.0</td>\n",
       "      <td>18.0</td>\n",
       "      <td>2844.0</td>\n",
       "      <td>169.10</td>\n",
       "      <td>264.48</td>\n",
       "      <td>128.18</td>\n",
       "      <td>29.5</td>\n",
       "      <td>127.92</td>\n",
       "      <td>52.671</td>\n",
       "      <td>43.999</td>\n",
       "      <td>...</td>\n",
       "      <td>4317.0</td>\n",
       "      <td>147.7</td>\n",
       "      <td>0.0</td>\n",
       "      <td>0.0</td>\n",
       "      <td>0.0</td>\n",
       "      <td>2717.43</td>\n",
       "      <td>607.31</td>\n",
       "      <td>607.31</td>\n",
       "      <td>0.0</td>\n",
       "      <td>1.0</td>\n",
       "    </tr>\n",
       "    <tr>\n",
       "      <th>1</th>\n",
       "      <td>71918.0</td>\n",
       "      <td>17.0</td>\n",
       "      <td>1725.0</td>\n",
       "      <td>55.19</td>\n",
       "      <td>238.45</td>\n",
       "      <td>118.68</td>\n",
       "      <td>15.1</td>\n",
       "      <td>63.72</td>\n",
       "      <td>17.255</td>\n",
       "      <td>22.835</td>\n",
       "      <td>...</td>\n",
       "      <td>1911.0</td>\n",
       "      <td>61.4</td>\n",
       "      <td>0.0</td>\n",
       "      <td>0.0</td>\n",
       "      <td>0.0</td>\n",
       "      <td>1139.97</td>\n",
       "      <td>177.75</td>\n",
       "      <td>59.25</td>\n",
       "      <td>118.5</td>\n",
       "      <td>1.0</td>\n",
       "    </tr>\n",
       "    <tr>\n",
       "      <th>2</th>\n",
       "      <td>71919.0</td>\n",
       "      <td>21.0</td>\n",
       "      <td>2304.0</td>\n",
       "      <td>199.33</td>\n",
       "      <td>186.12</td>\n",
       "      <td>81.38</td>\n",
       "      <td>15.4</td>\n",
       "      <td>86.08</td>\n",
       "      <td>30.163</td>\n",
       "      <td>32.252</td>\n",
       "      <td>...</td>\n",
       "      <td>4360.0</td>\n",
       "      <td>204.2</td>\n",
       "      <td>83.0</td>\n",
       "      <td>92.0</td>\n",
       "      <td>0.0</td>\n",
       "      <td>2332.53</td>\n",
       "      <td>503.33</td>\n",
       "      <td>503.33</td>\n",
       "      <td>0.0</td>\n",
       "      <td>1.0</td>\n",
       "    </tr>\n",
       "    <tr>\n",
       "      <th>4</th>\n",
       "      <td>71921.0</td>\n",
       "      <td>22.0</td>\n",
       "      <td>1655.0</td>\n",
       "      <td>50.61</td>\n",
       "      <td>247.53</td>\n",
       "      <td>90.35</td>\n",
       "      <td>13.8</td>\n",
       "      <td>53.31</td>\n",
       "      <td>17.019</td>\n",
       "      <td>19.174</td>\n",
       "      <td>...</td>\n",
       "      <td>1234.0</td>\n",
       "      <td>66.9</td>\n",
       "      <td>0.0</td>\n",
       "      <td>0.0</td>\n",
       "      <td>0.0</td>\n",
       "      <td>834.11</td>\n",
       "      <td>148.13</td>\n",
       "      <td>148.13</td>\n",
       "      <td>0.0</td>\n",
       "      <td>1.0</td>\n",
       "    </tr>\n",
       "    <tr>\n",
       "      <th>7</th>\n",
       "      <td>71924.0</td>\n",
       "      <td>9.0</td>\n",
       "      <td>640.0</td>\n",
       "      <td>32.49</td>\n",
       "      <td>86.06</td>\n",
       "      <td>51.17</td>\n",
       "      <td>6.5</td>\n",
       "      <td>19.89</td>\n",
       "      <td>9.566</td>\n",
       "      <td>6.599</td>\n",
       "      <td>...</td>\n",
       "      <td>1057.0</td>\n",
       "      <td>41.6</td>\n",
       "      <td>1.0</td>\n",
       "      <td>29.0</td>\n",
       "      <td>0.0</td>\n",
       "      <td>428.12</td>\n",
       "      <td>0.00</td>\n",
       "      <td>0.00</td>\n",
       "      <td>0.0</td>\n",
       "      <td>2.0</td>\n",
       "    </tr>\n",
       "  </tbody>\n",
       "</table>\n",
       "<p>5 rows × 52 columns</p>\n",
       "</div>"
      ],
      "text/plain": [
       "   Respondent sequence number  Number of foods reported  Energy (kcal)  \\\n",
       "0                     71917.0                      18.0         2844.0   \n",
       "1                     71918.0                      17.0         1725.0   \n",
       "2                     71919.0                      21.0         2304.0   \n",
       "4                     71921.0                      22.0         1655.0   \n",
       "7                     71924.0                       9.0          640.0   \n",
       "\n",
       "   Protein (gm)  Carbohydrate (gm)  Total sugars (gm)  Dietary fiber (gm)  \\\n",
       "0        169.10             264.48             128.18                29.5   \n",
       "1         55.19             238.45             118.68                15.1   \n",
       "2        199.33             186.12              81.38                15.4   \n",
       "4         50.61             247.53              90.35                13.8   \n",
       "7         32.49              86.06              51.17                 6.5   \n",
       "\n",
       "   Total fat (gm)  Total saturated fatty acids (gm)  \\\n",
       "0          127.92                            52.671   \n",
       "1           63.72                            17.255   \n",
       "2           86.08                            30.163   \n",
       "4           53.31                            17.019   \n",
       "7           19.89                             9.566   \n",
       "\n",
       "   Total monounsaturated fatty acids (gm)        ...         Potassium (mg)  \\\n",
       "0                                  43.999        ...                 4317.0   \n",
       "1                                  22.835        ...                 1911.0   \n",
       "2                                  32.252        ...                 4360.0   \n",
       "4                                  19.174        ...                 1234.0   \n",
       "7                                   6.599        ...                 1057.0   \n",
       "\n",
       "   Selenium (mcg)  Caffeine (mg)  Theobromine (mg)  Alcohol (gm)  \\\n",
       "0           147.7            0.0               0.0           0.0   \n",
       "1            61.4            0.0               0.0           0.0   \n",
       "2           204.2           83.0              92.0           0.0   \n",
       "4            66.9            0.0               0.0           0.0   \n",
       "7            41.6            1.0              29.0           0.0   \n",
       "\n",
       "   Moisture (gm)  Total plain water drank yesterday (gm)  \\\n",
       "0        2717.43                                  607.31   \n",
       "1        1139.97                                  177.75   \n",
       "2        2332.53                                  503.33   \n",
       "4         834.11                                  148.13   \n",
       "7         428.12                                    0.00   \n",
       "\n",
       "   Total tap water drank yesterday (gm)  \\\n",
       "0                                607.31   \n",
       "1                                 59.25   \n",
       "2                                503.33   \n",
       "4                                148.13   \n",
       "7                                  0.00   \n",
       "\n",
       "   Total bottled water drank yesterday (gm)  Tap water source  \n",
       "0                                       0.0               1.0  \n",
       "1                                     118.5               1.0  \n",
       "2                                       0.0               1.0  \n",
       "4                                       0.0               1.0  \n",
       "7                                       0.0               2.0  \n",
       "\n",
       "[5 rows x 52 columns]"
      ]
     },
     "execution_count": 27,
     "metadata": {},
     "output_type": "execute_result"
    }
   ],
   "source": [
    "diet_df.head()"
   ]
  },
  {
   "cell_type": "markdown",
   "metadata": {},
   "source": [
    "### The next part of this will be creating a metric for what they should have eaten to what they did eat. To do this we need to know what they should have eaten, and to do that we need some of their body measurements."
   ]
  },
  {
   "cell_type": "markdown",
   "metadata": {},
   "source": [
    "### Inspect the body measures data"
   ]
  },
  {
   "cell_type": "code",
   "execution_count": 28,
   "metadata": {},
   "outputs": [],
   "source": [
    "bm_df = dfs['body_measures']"
   ]
  },
  {
   "cell_type": "code",
   "execution_count": 29,
   "metadata": {},
   "outputs": [
    {
     "data": {
      "text/html": [
       "<div>\n",
       "<style scoped>\n",
       "    .dataframe tbody tr th:only-of-type {\n",
       "        vertical-align: middle;\n",
       "    }\n",
       "\n",
       "    .dataframe tbody tr th {\n",
       "        vertical-align: top;\n",
       "    }\n",
       "\n",
       "    .dataframe thead th {\n",
       "        text-align: right;\n",
       "    }\n",
       "</style>\n",
       "<table border=\"1\" class=\"dataframe\">\n",
       "  <thead>\n",
       "    <tr style=\"text-align: right;\">\n",
       "      <th></th>\n",
       "      <th>SEQN</th>\n",
       "      <th>BMDSTATS</th>\n",
       "      <th>BMXWT</th>\n",
       "      <th>BMIWT</th>\n",
       "      <th>BMXHT</th>\n",
       "      <th>BMIHT</th>\n",
       "      <th>BMXBMI</th>\n",
       "      <th>BMDBMIC</th>\n",
       "      <th>BMXARML</th>\n",
       "      <th>BMIARML</th>\n",
       "      <th>...</th>\n",
       "      <th>BMXWAIST</th>\n",
       "      <th>BMIWAIST</th>\n",
       "      <th>BMXCALF</th>\n",
       "      <th>BMICALF</th>\n",
       "      <th>BMXCALFF</th>\n",
       "      <th>BMICALFF</th>\n",
       "      <th>BMXTRI</th>\n",
       "      <th>BMITRI</th>\n",
       "      <th>BMXSUB</th>\n",
       "      <th>BMISUB</th>\n",
       "    </tr>\n",
       "  </thead>\n",
       "  <tbody>\n",
       "    <tr>\n",
       "      <th>0</th>\n",
       "      <td>71917.0</td>\n",
       "      <td>4.0</td>\n",
       "      <td>NaN</td>\n",
       "      <td>NaN</td>\n",
       "      <td>NaN</td>\n",
       "      <td>NaN</td>\n",
       "      <td>NaN</td>\n",
       "      <td>NaN</td>\n",
       "      <td>NaN</td>\n",
       "      <td>NaN</td>\n",
       "      <td>...</td>\n",
       "      <td>NaN</td>\n",
       "      <td>NaN</td>\n",
       "      <td>NaN</td>\n",
       "      <td>NaN</td>\n",
       "      <td>NaN</td>\n",
       "      <td>NaN</td>\n",
       "      <td>NaN</td>\n",
       "      <td>NaN</td>\n",
       "      <td>NaN</td>\n",
       "      <td>NaN</td>\n",
       "    </tr>\n",
       "    <tr>\n",
       "      <th>1</th>\n",
       "      <td>71918.0</td>\n",
       "      <td>1.0</td>\n",
       "      <td>38.6</td>\n",
       "      <td>NaN</td>\n",
       "      <td>131.6</td>\n",
       "      <td>NaN</td>\n",
       "      <td>22.3</td>\n",
       "      <td>4.0</td>\n",
       "      <td>27.7</td>\n",
       "      <td>NaN</td>\n",
       "      <td>...</td>\n",
       "      <td>71.9</td>\n",
       "      <td>NaN</td>\n",
       "      <td>32.3</td>\n",
       "      <td>NaN</td>\n",
       "      <td>22.0</td>\n",
       "      <td>NaN</td>\n",
       "      <td>19.9</td>\n",
       "      <td>NaN</td>\n",
       "      <td>17.4</td>\n",
       "      <td>NaN</td>\n",
       "    </tr>\n",
       "    <tr>\n",
       "      <th>2</th>\n",
       "      <td>71919.0</td>\n",
       "      <td>1.0</td>\n",
       "      <td>58.7</td>\n",
       "      <td>NaN</td>\n",
       "      <td>172.0</td>\n",
       "      <td>NaN</td>\n",
       "      <td>19.8</td>\n",
       "      <td>2.0</td>\n",
       "      <td>38.4</td>\n",
       "      <td>NaN</td>\n",
       "      <td>...</td>\n",
       "      <td>79.4</td>\n",
       "      <td>NaN</td>\n",
       "      <td>35.3</td>\n",
       "      <td>NaN</td>\n",
       "      <td>18.4</td>\n",
       "      <td>NaN</td>\n",
       "      <td>15.0</td>\n",
       "      <td>NaN</td>\n",
       "      <td>9.8</td>\n",
       "      <td>NaN</td>\n",
       "    </tr>\n",
       "    <tr>\n",
       "      <th>3</th>\n",
       "      <td>71920.0</td>\n",
       "      <td>3.0</td>\n",
       "      <td>92.5</td>\n",
       "      <td>NaN</td>\n",
       "      <td>167.1</td>\n",
       "      <td>NaN</td>\n",
       "      <td>33.1</td>\n",
       "      <td>4.0</td>\n",
       "      <td>35.9</td>\n",
       "      <td>NaN</td>\n",
       "      <td>...</td>\n",
       "      <td>96.4</td>\n",
       "      <td>NaN</td>\n",
       "      <td>46.8</td>\n",
       "      <td>NaN</td>\n",
       "      <td>NaN</td>\n",
       "      <td>1.0</td>\n",
       "      <td>20.6</td>\n",
       "      <td>NaN</td>\n",
       "      <td>22.8</td>\n",
       "      <td>NaN</td>\n",
       "    </tr>\n",
       "    <tr>\n",
       "      <th>4</th>\n",
       "      <td>71921.0</td>\n",
       "      <td>1.0</td>\n",
       "      <td>12.4</td>\n",
       "      <td>NaN</td>\n",
       "      <td>90.2</td>\n",
       "      <td>NaN</td>\n",
       "      <td>15.2</td>\n",
       "      <td>2.0</td>\n",
       "      <td>18.3</td>\n",
       "      <td>NaN</td>\n",
       "      <td>...</td>\n",
       "      <td>46.8</td>\n",
       "      <td>NaN</td>\n",
       "      <td>19.4</td>\n",
       "      <td>NaN</td>\n",
       "      <td>8.4</td>\n",
       "      <td>NaN</td>\n",
       "      <td>8.6</td>\n",
       "      <td>NaN</td>\n",
       "      <td>5.7</td>\n",
       "      <td>NaN</td>\n",
       "    </tr>\n",
       "  </tbody>\n",
       "</table>\n",
       "<p>5 rows × 22 columns</p>\n",
       "</div>"
      ],
      "text/plain": [
       "      SEQN  BMDSTATS  BMXWT  BMIWT  BMXHT  BMIHT  BMXBMI  BMDBMIC  BMXARML  \\\n",
       "0  71917.0       4.0    NaN    NaN    NaN    NaN     NaN      NaN      NaN   \n",
       "1  71918.0       1.0   38.6    NaN  131.6    NaN    22.3      4.0     27.7   \n",
       "2  71919.0       1.0   58.7    NaN  172.0    NaN    19.8      2.0     38.4   \n",
       "3  71920.0       3.0   92.5    NaN  167.1    NaN    33.1      4.0     35.9   \n",
       "4  71921.0       1.0   12.4    NaN   90.2    NaN    15.2      2.0     18.3   \n",
       "\n",
       "   BMIARML   ...    BMXWAIST  BMIWAIST  BMXCALF  BMICALF  BMXCALFF  BMICALFF  \\\n",
       "0      NaN   ...         NaN       NaN      NaN      NaN       NaN       NaN   \n",
       "1      NaN   ...        71.9       NaN     32.3      NaN      22.0       NaN   \n",
       "2      NaN   ...        79.4       NaN     35.3      NaN      18.4       NaN   \n",
       "3      NaN   ...        96.4       NaN     46.8      NaN       NaN       1.0   \n",
       "4      NaN   ...        46.8       NaN     19.4      NaN       8.4       NaN   \n",
       "\n",
       "   BMXTRI  BMITRI  BMXSUB  BMISUB  \n",
       "0     NaN     NaN     NaN     NaN  \n",
       "1    19.9     NaN    17.4     NaN  \n",
       "2    15.0     NaN     9.8     NaN  \n",
       "3    20.6     NaN    22.8     NaN  \n",
       "4     8.6     NaN     5.7     NaN  \n",
       "\n",
       "[5 rows x 22 columns]"
      ]
     },
     "execution_count": 29,
     "metadata": {},
     "output_type": "execute_result"
    }
   ],
   "source": [
    "bm_df.head()"
   ]
  },
  {
   "cell_type": "code",
   "execution_count": 30,
   "metadata": {},
   "outputs": [
    {
     "data": {
      "text/plain": [
       "(1576, 22)"
      ]
     },
     "execution_count": 30,
     "metadata": {},
     "output_type": "execute_result"
    }
   ],
   "source": [
    "bm_df.shape"
   ]
  },
  {
   "cell_type": "markdown",
   "metadata": {},
   "source": [
    "### Body Measure Variables to be Kept\n",
    "- BMXWT - Weight (kg)\n",
    "- BMXHT - Standing Height (cm)\n",
    "- BMXBMI - Body Mass Index (kg/m**2)\n",
    "- BMDBMIC - BMI Category - Children/Adolescents"
   ]
  },
  {
   "cell_type": "code",
   "execution_count": 31,
   "metadata": {},
   "outputs": [],
   "source": [
    "variables_to_be_kept = [\n",
    "    'SEQN',\n",
    "    'BMXWT',\n",
    "    'BMXHT',\n",
    "    'BMXBMI',\n",
    "    'BMDBMIC'\n",
    "]"
   ]
  },
  {
   "cell_type": "code",
   "execution_count": 32,
   "metadata": {},
   "outputs": [],
   "source": [
    "bm_df = bm_df[variables_to_be_kept]"
   ]
  },
  {
   "cell_type": "code",
   "execution_count": 33,
   "metadata": {},
   "outputs": [],
   "source": [
    "bm_df.columns = ['Respondent sequence number', 'weight', 'height', 'BMI', 'BMI category']"
   ]
  },
  {
   "cell_type": "code",
   "execution_count": 34,
   "metadata": {},
   "outputs": [
    {
     "data": {
      "text/html": [
       "<div>\n",
       "<style scoped>\n",
       "    .dataframe tbody tr th:only-of-type {\n",
       "        vertical-align: middle;\n",
       "    }\n",
       "\n",
       "    .dataframe tbody tr th {\n",
       "        vertical-align: top;\n",
       "    }\n",
       "\n",
       "    .dataframe thead th {\n",
       "        text-align: right;\n",
       "    }\n",
       "</style>\n",
       "<table border=\"1\" class=\"dataframe\">\n",
       "  <thead>\n",
       "    <tr style=\"text-align: right;\">\n",
       "      <th></th>\n",
       "      <th>Respondent sequence number</th>\n",
       "      <th>weight</th>\n",
       "      <th>height</th>\n",
       "      <th>BMI</th>\n",
       "      <th>BMI category</th>\n",
       "    </tr>\n",
       "  </thead>\n",
       "  <tbody>\n",
       "    <tr>\n",
       "      <th>0</th>\n",
       "      <td>71917.0</td>\n",
       "      <td>NaN</td>\n",
       "      <td>NaN</td>\n",
       "      <td>NaN</td>\n",
       "      <td>NaN</td>\n",
       "    </tr>\n",
       "    <tr>\n",
       "      <th>1</th>\n",
       "      <td>71918.0</td>\n",
       "      <td>38.6</td>\n",
       "      <td>131.6</td>\n",
       "      <td>22.3</td>\n",
       "      <td>4.0</td>\n",
       "    </tr>\n",
       "    <tr>\n",
       "      <th>2</th>\n",
       "      <td>71919.0</td>\n",
       "      <td>58.7</td>\n",
       "      <td>172.0</td>\n",
       "      <td>19.8</td>\n",
       "      <td>2.0</td>\n",
       "    </tr>\n",
       "    <tr>\n",
       "      <th>3</th>\n",
       "      <td>71920.0</td>\n",
       "      <td>92.5</td>\n",
       "      <td>167.1</td>\n",
       "      <td>33.1</td>\n",
       "      <td>4.0</td>\n",
       "    </tr>\n",
       "    <tr>\n",
       "      <th>4</th>\n",
       "      <td>71921.0</td>\n",
       "      <td>12.4</td>\n",
       "      <td>90.2</td>\n",
       "      <td>15.2</td>\n",
       "      <td>2.0</td>\n",
       "    </tr>\n",
       "  </tbody>\n",
       "</table>\n",
       "</div>"
      ],
      "text/plain": [
       "   Respondent sequence number  weight  height   BMI  BMI category\n",
       "0                     71917.0     NaN     NaN   NaN           NaN\n",
       "1                     71918.0    38.6   131.6  22.3           4.0\n",
       "2                     71919.0    58.7   172.0  19.8           2.0\n",
       "3                     71920.0    92.5   167.1  33.1           4.0\n",
       "4                     71921.0    12.4    90.2  15.2           2.0"
      ]
     },
     "execution_count": 34,
     "metadata": {},
     "output_type": "execute_result"
    }
   ],
   "source": [
    "bm_df.head()"
   ]
  },
  {
   "cell_type": "markdown",
   "metadata": {},
   "source": [
    "### Check for NaN datapoints"
   ]
  },
  {
   "cell_type": "code",
   "execution_count": 35,
   "metadata": {},
   "outputs": [
    {
     "data": {
      "text/html": [
       "<div>\n",
       "<style scoped>\n",
       "    .dataframe tbody tr th:only-of-type {\n",
       "        vertical-align: middle;\n",
       "    }\n",
       "\n",
       "    .dataframe tbody tr th {\n",
       "        vertical-align: top;\n",
       "    }\n",
       "\n",
       "    .dataframe thead th {\n",
       "        text-align: right;\n",
       "    }\n",
       "</style>\n",
       "<table border=\"1\" class=\"dataframe\">\n",
       "  <thead>\n",
       "    <tr style=\"text-align: right;\">\n",
       "      <th></th>\n",
       "      <th>Respondent sequence number</th>\n",
       "      <th>weight</th>\n",
       "      <th>height</th>\n",
       "      <th>BMI</th>\n",
       "      <th>BMI category</th>\n",
       "    </tr>\n",
       "  </thead>\n",
       "  <tbody>\n",
       "    <tr>\n",
       "      <th>False</th>\n",
       "      <td>1576.0</td>\n",
       "      <td>1571</td>\n",
       "      <td>1571</td>\n",
       "      <td>1571</td>\n",
       "      <td>1571</td>\n",
       "    </tr>\n",
       "    <tr>\n",
       "      <th>True</th>\n",
       "      <td>NaN</td>\n",
       "      <td>5</td>\n",
       "      <td>5</td>\n",
       "      <td>5</td>\n",
       "      <td>5</td>\n",
       "    </tr>\n",
       "  </tbody>\n",
       "</table>\n",
       "</div>"
      ],
      "text/plain": [
       "       Respondent sequence number  weight  height   BMI  BMI category\n",
       "False                      1576.0    1571    1571  1571          1571\n",
       "True                          NaN       5       5     5             5"
      ]
     },
     "execution_count": 35,
     "metadata": {},
     "output_type": "execute_result"
    }
   ],
   "source": [
    "bm_df.isna().apply(pd.Series.value_counts, axis=0)"
   ]
  },
  {
   "cell_type": "code",
   "execution_count": 36,
   "metadata": {},
   "outputs": [],
   "source": [
    "bm_df = bm_df.dropna()"
   ]
  },
  {
   "cell_type": "markdown",
   "metadata": {},
   "source": [
    "### Merge all data into a single dataframe"
   ]
  },
  {
   "cell_type": "code",
   "execution_count": 37,
   "metadata": {},
   "outputs": [],
   "source": [
    "df = pd.merge(diet_df, bm_df, on='Respondent sequence number')"
   ]
  },
  {
   "cell_type": "code",
   "execution_count": 38,
   "metadata": {},
   "outputs": [
    {
     "data": {
      "text/html": [
       "<div>\n",
       "<style scoped>\n",
       "    .dataframe tbody tr th:only-of-type {\n",
       "        vertical-align: middle;\n",
       "    }\n",
       "\n",
       "    .dataframe tbody tr th {\n",
       "        vertical-align: top;\n",
       "    }\n",
       "\n",
       "    .dataframe thead th {\n",
       "        text-align: right;\n",
       "    }\n",
       "</style>\n",
       "<table border=\"1\" class=\"dataframe\">\n",
       "  <thead>\n",
       "    <tr style=\"text-align: right;\">\n",
       "      <th></th>\n",
       "      <th>Respondent sequence number</th>\n",
       "      <th>Number of foods reported</th>\n",
       "      <th>Energy (kcal)</th>\n",
       "      <th>Protein (gm)</th>\n",
       "      <th>Carbohydrate (gm)</th>\n",
       "      <th>Total sugars (gm)</th>\n",
       "      <th>Dietary fiber (gm)</th>\n",
       "      <th>Total fat (gm)</th>\n",
       "      <th>Total saturated fatty acids (gm)</th>\n",
       "      <th>Total monounsaturated fatty acids (gm)</th>\n",
       "      <th>...</th>\n",
       "      <th>Alcohol (gm)</th>\n",
       "      <th>Moisture (gm)</th>\n",
       "      <th>Total plain water drank yesterday (gm)</th>\n",
       "      <th>Total tap water drank yesterday (gm)</th>\n",
       "      <th>Total bottled water drank yesterday (gm)</th>\n",
       "      <th>Tap water source</th>\n",
       "      <th>weight</th>\n",
       "      <th>height</th>\n",
       "      <th>BMI</th>\n",
       "      <th>BMI category</th>\n",
       "    </tr>\n",
       "  </thead>\n",
       "  <tbody>\n",
       "    <tr>\n",
       "      <th>0</th>\n",
       "      <td>71918.0</td>\n",
       "      <td>17.0</td>\n",
       "      <td>1725.0</td>\n",
       "      <td>55.19</td>\n",
       "      <td>238.45</td>\n",
       "      <td>118.68</td>\n",
       "      <td>15.1</td>\n",
       "      <td>63.72</td>\n",
       "      <td>17.255</td>\n",
       "      <td>22.835</td>\n",
       "      <td>...</td>\n",
       "      <td>0.0</td>\n",
       "      <td>1139.97</td>\n",
       "      <td>177.75</td>\n",
       "      <td>59.25</td>\n",
       "      <td>118.5</td>\n",
       "      <td>1.0</td>\n",
       "      <td>38.6</td>\n",
       "      <td>131.6</td>\n",
       "      <td>22.3</td>\n",
       "      <td>4.0</td>\n",
       "    </tr>\n",
       "    <tr>\n",
       "      <th>1</th>\n",
       "      <td>71919.0</td>\n",
       "      <td>21.0</td>\n",
       "      <td>2304.0</td>\n",
       "      <td>199.33</td>\n",
       "      <td>186.12</td>\n",
       "      <td>81.38</td>\n",
       "      <td>15.4</td>\n",
       "      <td>86.08</td>\n",
       "      <td>30.163</td>\n",
       "      <td>32.252</td>\n",
       "      <td>...</td>\n",
       "      <td>0.0</td>\n",
       "      <td>2332.53</td>\n",
       "      <td>503.33</td>\n",
       "      <td>503.33</td>\n",
       "      <td>0.0</td>\n",
       "      <td>1.0</td>\n",
       "      <td>58.7</td>\n",
       "      <td>172.0</td>\n",
       "      <td>19.8</td>\n",
       "      <td>2.0</td>\n",
       "    </tr>\n",
       "    <tr>\n",
       "      <th>2</th>\n",
       "      <td>71921.0</td>\n",
       "      <td>22.0</td>\n",
       "      <td>1655.0</td>\n",
       "      <td>50.61</td>\n",
       "      <td>247.53</td>\n",
       "      <td>90.35</td>\n",
       "      <td>13.8</td>\n",
       "      <td>53.31</td>\n",
       "      <td>17.019</td>\n",
       "      <td>19.174</td>\n",
       "      <td>...</td>\n",
       "      <td>0.0</td>\n",
       "      <td>834.11</td>\n",
       "      <td>148.13</td>\n",
       "      <td>148.13</td>\n",
       "      <td>0.0</td>\n",
       "      <td>1.0</td>\n",
       "      <td>12.4</td>\n",
       "      <td>90.2</td>\n",
       "      <td>15.2</td>\n",
       "      <td>2.0</td>\n",
       "    </tr>\n",
       "    <tr>\n",
       "      <th>3</th>\n",
       "      <td>71924.0</td>\n",
       "      <td>9.0</td>\n",
       "      <td>640.0</td>\n",
       "      <td>32.49</td>\n",
       "      <td>86.06</td>\n",
       "      <td>51.17</td>\n",
       "      <td>6.5</td>\n",
       "      <td>19.89</td>\n",
       "      <td>9.566</td>\n",
       "      <td>6.599</td>\n",
       "      <td>...</td>\n",
       "      <td>0.0</td>\n",
       "      <td>428.12</td>\n",
       "      <td>0.00</td>\n",
       "      <td>0.00</td>\n",
       "      <td>0.0</td>\n",
       "      <td>2.0</td>\n",
       "      <td>22.2</td>\n",
       "      <td>124.3</td>\n",
       "      <td>14.4</td>\n",
       "      <td>2.0</td>\n",
       "    </tr>\n",
       "    <tr>\n",
       "      <th>4</th>\n",
       "      <td>71925.0</td>\n",
       "      <td>14.0</td>\n",
       "      <td>1915.0</td>\n",
       "      <td>54.31</td>\n",
       "      <td>237.10</td>\n",
       "      <td>94.70</td>\n",
       "      <td>12.7</td>\n",
       "      <td>85.64</td>\n",
       "      <td>31.449</td>\n",
       "      <td>30.423</td>\n",
       "      <td>...</td>\n",
       "      <td>0.0</td>\n",
       "      <td>1957.47</td>\n",
       "      <td>859.13</td>\n",
       "      <td>859.13</td>\n",
       "      <td>0.0</td>\n",
       "      <td>1.0</td>\n",
       "      <td>20.9</td>\n",
       "      <td>114.7</td>\n",
       "      <td>15.9</td>\n",
       "      <td>2.0</td>\n",
       "    </tr>\n",
       "  </tbody>\n",
       "</table>\n",
       "<p>5 rows × 56 columns</p>\n",
       "</div>"
      ],
      "text/plain": [
       "   Respondent sequence number  Number of foods reported  Energy (kcal)  \\\n",
       "0                     71918.0                      17.0         1725.0   \n",
       "1                     71919.0                      21.0         2304.0   \n",
       "2                     71921.0                      22.0         1655.0   \n",
       "3                     71924.0                       9.0          640.0   \n",
       "4                     71925.0                      14.0         1915.0   \n",
       "\n",
       "   Protein (gm)  Carbohydrate (gm)  Total sugars (gm)  Dietary fiber (gm)  \\\n",
       "0         55.19             238.45             118.68                15.1   \n",
       "1        199.33             186.12              81.38                15.4   \n",
       "2         50.61             247.53              90.35                13.8   \n",
       "3         32.49              86.06              51.17                 6.5   \n",
       "4         54.31             237.10              94.70                12.7   \n",
       "\n",
       "   Total fat (gm)  Total saturated fatty acids (gm)  \\\n",
       "0           63.72                            17.255   \n",
       "1           86.08                            30.163   \n",
       "2           53.31                            17.019   \n",
       "3           19.89                             9.566   \n",
       "4           85.64                            31.449   \n",
       "\n",
       "   Total monounsaturated fatty acids (gm)      ...       Alcohol (gm)  \\\n",
       "0                                  22.835      ...                0.0   \n",
       "1                                  32.252      ...                0.0   \n",
       "2                                  19.174      ...                0.0   \n",
       "3                                   6.599      ...                0.0   \n",
       "4                                  30.423      ...                0.0   \n",
       "\n",
       "   Moisture (gm)  Total plain water drank yesterday (gm)  \\\n",
       "0        1139.97                                  177.75   \n",
       "1        2332.53                                  503.33   \n",
       "2         834.11                                  148.13   \n",
       "3         428.12                                    0.00   \n",
       "4        1957.47                                  859.13   \n",
       "\n",
       "   Total tap water drank yesterday (gm)  \\\n",
       "0                                 59.25   \n",
       "1                                503.33   \n",
       "2                                148.13   \n",
       "3                                  0.00   \n",
       "4                                859.13   \n",
       "\n",
       "   Total bottled water drank yesterday (gm)  Tap water source  weight  height  \\\n",
       "0                                     118.5               1.0    38.6   131.6   \n",
       "1                                       0.0               1.0    58.7   172.0   \n",
       "2                                       0.0               1.0    12.4    90.2   \n",
       "3                                       0.0               2.0    22.2   124.3   \n",
       "4                                       0.0               1.0    20.9   114.7   \n",
       "\n",
       "    BMI  BMI category  \n",
       "0  22.3           4.0  \n",
       "1  19.8           2.0  \n",
       "2  15.2           2.0  \n",
       "3  14.4           2.0  \n",
       "4  15.9           2.0  \n",
       "\n",
       "[5 rows x 56 columns]"
      ]
     },
     "execution_count": 38,
     "metadata": {},
     "output_type": "execute_result"
    }
   ],
   "source": [
    "df.head()"
   ]
  },
  {
   "cell_type": "code",
   "execution_count": 39,
   "metadata": {},
   "outputs": [
    {
     "data": {
      "text/plain": [
       "(1120, 56)"
      ]
     },
     "execution_count": 39,
     "metadata": {},
     "output_type": "execute_result"
    }
   ],
   "source": [
    "df.shape"
   ]
  },
  {
   "cell_type": "markdown",
   "metadata": {},
   "source": [
    "### A healthy BMI is between 18.5 and 24.9. We want to come up with a target weight for each child which will then be used to calculate things like target calorie and protein intake. The average of 18.5 and 24.9 is 21.7 so that will be our target BMI. We can then calculate target weight by doing some algebra on the typical BMI formula. Therefore kg = BMI*M^2 "
   ]
  },
  {
   "cell_type": "code",
   "execution_count": 40,
   "metadata": {},
   "outputs": [],
   "source": [
    "df['target weight'] = 21.7 * (df.height / 100)**2"
   ]
  },
  {
   "cell_type": "code",
   "execution_count": 41,
   "metadata": {},
   "outputs": [
    {
     "data": {
      "text/plain": [
       "0    37.581275\n",
       "1    64.197280\n",
       "2    17.655207\n",
       "3    33.527563\n",
       "4    28.548715\n",
       "Name: target weight, dtype: float64"
      ]
     },
     "execution_count": 41,
     "metadata": {},
     "output_type": "execute_result"
    }
   ],
   "source": [
    "df['target weight'].head()"
   ]
  },
  {
   "cell_type": "code",
   "execution_count": 42,
   "metadata": {},
   "outputs": [],
   "source": [
    "demo_df = dfs['demographics']"
   ]
  },
  {
   "cell_type": "code",
   "execution_count": 43,
   "metadata": {},
   "outputs": [],
   "source": [
    "demo_df = demo_df[['SEQN', 'RIDAGEYR', 'RIAGENDR']]"
   ]
  },
  {
   "cell_type": "code",
   "execution_count": 44,
   "metadata": {},
   "outputs": [],
   "source": [
    "demo_df.columns = ['Respondent sequence number', 'age', 'gender']"
   ]
  },
  {
   "cell_type": "code",
   "execution_count": 45,
   "metadata": {},
   "outputs": [
    {
     "data": {
      "image/png": "[encoded data removed]",
      "text/plain": [
       "<matplotlib.figure.Figure at 0x7f86657e2b70>"
      ]
     },
     "metadata": {},
     "output_type": "display_data"
    }
   ],
   "source": [
    "ax = demo_df.gender.value_counts().plot(kind='bar')\n",
    "_ = ax.set_xticklabels(['male', 'female'])"
   ]
  },
  {
   "cell_type": "code",
   "execution_count": 46,
   "metadata": {},
   "outputs": [],
   "source": [
    "df = pd.merge(df, demo_df, on='Respondent sequence number')"
   ]
  },
  {
   "cell_type": "markdown",
   "metadata": {},
   "source": [
    "#### To calculate the target calorie intake, the Harris-Benedict equation revised by Mifflin and St Jeor formula was used. An activity level of moderate to accurate was assumed for everyone. Activity levels can change target calories by up to 20%."
   ]
  },
  {
   "cell_type": "code",
   "execution_count": 47,
   "metadata": {},
   "outputs": [],
   "source": [
    "def calc_target_calories(row):\n",
    "    if row['gender'] == 1:\n",
    "        bmr = (10 * row['target weight']) + (6.25 * row['height']) - (5 * row['age']) + 5\n",
    "    if row['gender'] == 2:\n",
    "        bmr = (10 * row['target weight']) + (6.25 * row['height']) - (5 * row['age']) - 161\n",
    "    return bmr * 1.65"
   ]
  },
  {
   "cell_type": "code",
   "execution_count": 48,
   "metadata": {},
   "outputs": [],
   "source": [
    "df['target_calories'] = df.apply(calc_target_calories, axis=1)"
   ]
  },
  {
   "cell_type": "code",
   "execution_count": 49,
   "metadata": {},
   "outputs": [
    {
     "data": {
      "text/plain": [
       "count    1120.000000\n",
       "mean     1886.201257\n",
       "std       463.571588\n",
       "min       952.962161\n",
       "25%      1533.325896\n",
       "50%      1858.713945\n",
       "75%      2216.560036\n",
       "max      3043.698334\n",
       "Name: target_calories, dtype: float64"
      ]
     },
     "execution_count": 49,
     "metadata": {},
     "output_type": "execute_result"
    }
   ],
   "source": [
    "df['target_calories'].describe()"
   ]
  },
  {
   "cell_type": "code",
   "execution_count": 50,
   "metadata": {},
   "outputs": [],
   "source": [
    "df['target protein'] = df['target weight'] * 0.8"
   ]
  },
  {
   "cell_type": "markdown",
   "metadata": {},
   "source": [
    "### Target carbs are calculated on the assumption that 60% of your calories should come from carbs, and the fact that carbs are 4 calories per gram.\n",
    "https://www.fda.gov/food/resourcesforyou/consumers/ucm274593.htm"
   ]
  },
  {
   "cell_type": "code",
   "execution_count": 51,
   "metadata": {},
   "outputs": [],
   "source": [
    "df['target carbs'] = df['target_calories'] * .6 / 4"
   ]
  },
  {
   "cell_type": "markdown",
   "metadata": {},
   "source": [
    "### No value is calculated for target sugars as sugar is not seen as something that benefits one's diet. It is only seen as something that can harm one's diet if too much is consumed."
   ]
  },
  {
   "cell_type": "markdown",
   "metadata": {},
   "source": [
    "#### There are many different type of nutrients listed and it is hard to say which ones are the most important. I will create an additional feature that will be 'deviation from FDA daily recommended intakes.' This variable will be calculated on a percentage bases for each nutrition intake and then those percentage differences will be summed to achive a total deviation from FDA recommendations."
   ]
  },
  {
   "cell_type": "code",
   "execution_count": 52,
   "metadata": {},
   "outputs": [],
   "source": [
    "recommended_daily_values = {\n",
    "    'Carbohydrate (gm)': 300,\n",
    "    'Dietary fiber (gm)': 25,\n",
    "    'Total fat (gm)': 65,\n",
    "    'Total saturated fatty acids (gm)': 20,\n",
    "    'Total monounsaturated fatty acids (gm)': 30,\n",
    "    'Total polyunsaturated fatty acids (gm)': 15,\n",
    "    'Cholesterol (mg)': 300,\n",
    "    'Vitamin E as alpha-tocopherol (mg)': 15,\n",
    "    'Retinol (mcg)': 800,\n",
    "    'Vitamin A, RAE (mcg)': 900,\n",
    "    'Alpha-carotene (mcg)': 21600,\n",
    "    'Beta-carotene (mcg)': 4800,\n",
    "    'Thiamin (Vitamin B1) (mg)': 1.2,\n",
    "    'Riboflavin (Vitamin B2) (mg)': 1.3,\n",
    "    'Niacin (mg)': 16,\n",
    "    'Vitamin B6 (mg)': 1.7,\n",
    "    'Total folate (mcg)': 400,\n",
    "    'Folic acid (mcg)': 400,\n",
    "    'Total choline (mg)': 550,\n",
    "    'Vitamin B12 (mcg)': 2.4,\n",
    "    'Vitamin C (mg)': 90,\n",
    "    'Vitamin D (D2 + D3) (mcg)': 20,\n",
    "    'Vitamin K (mcg)': 120,\n",
    "    'Calcium (mg)': 1300,\n",
    "    'Phosphorus (mg)': 1250,\n",
    "    'Magnesium (mg)': 420,\n",
    "    'Iron (mg)': 18,\n",
    "    'Zinc (mg)': 11,\n",
    "    'Copper (mg)': 0.9,\n",
    "    'Sodium (mg)': 2400,\n",
    "    'Potassium (mg)': 4700,\n",
    "    'Selenium (mcg)': 55\n",
    "}"
   ]
  },
  {
   "cell_type": "code",
   "execution_count": 53,
   "metadata": {},
   "outputs": [
    {
     "data": {
      "text/html": [
       "<div>\n",
       "<style scoped>\n",
       "    .dataframe tbody tr th:only-of-type {\n",
       "        vertical-align: middle;\n",
       "    }\n",
       "\n",
       "    .dataframe tbody tr th {\n",
       "        vertical-align: top;\n",
       "    }\n",
       "\n",
       "    .dataframe thead th {\n",
       "        text-align: right;\n",
       "    }\n",
       "</style>\n",
       "<table border=\"1\" class=\"dataframe\">\n",
       "  <thead>\n",
       "    <tr style=\"text-align: right;\">\n",
       "      <th></th>\n",
       "      <th>Respondent sequence number</th>\n",
       "      <th>Number of foods reported</th>\n",
       "      <th>Energy (kcal)</th>\n",
       "      <th>Protein (gm)</th>\n",
       "      <th>Carbohydrate (gm)</th>\n",
       "      <th>Total sugars (gm)</th>\n",
       "      <th>Dietary fiber (gm)</th>\n",
       "      <th>Total fat (gm)</th>\n",
       "      <th>Total saturated fatty acids (gm)</th>\n",
       "      <th>Total monounsaturated fatty acids (gm)</th>\n",
       "      <th>...</th>\n",
       "      <th>weight</th>\n",
       "      <th>height</th>\n",
       "      <th>BMI</th>\n",
       "      <th>BMI category</th>\n",
       "      <th>target weight</th>\n",
       "      <th>age</th>\n",
       "      <th>gender</th>\n",
       "      <th>target_calories</th>\n",
       "      <th>target protein</th>\n",
       "      <th>target carbs</th>\n",
       "    </tr>\n",
       "  </thead>\n",
       "  <tbody>\n",
       "    <tr>\n",
       "      <th>False</th>\n",
       "      <td>1120</td>\n",
       "      <td>1120</td>\n",
       "      <td>1120</td>\n",
       "      <td>1120</td>\n",
       "      <td>1120</td>\n",
       "      <td>1120</td>\n",
       "      <td>1120</td>\n",
       "      <td>1120</td>\n",
       "      <td>1120</td>\n",
       "      <td>1120</td>\n",
       "      <td>...</td>\n",
       "      <td>1120</td>\n",
       "      <td>1120</td>\n",
       "      <td>1120</td>\n",
       "      <td>1120</td>\n",
       "      <td>1120</td>\n",
       "      <td>1120</td>\n",
       "      <td>1120</td>\n",
       "      <td>1120</td>\n",
       "      <td>1120</td>\n",
       "      <td>1120</td>\n",
       "    </tr>\n",
       "  </tbody>\n",
       "</table>\n",
       "<p>1 rows × 62 columns</p>\n",
       "</div>"
      ],
      "text/plain": [
       "       Respondent sequence number  Number of foods reported  Energy (kcal)  \\\n",
       "False                        1120                      1120           1120   \n",
       "\n",
       "       Protein (gm)  Carbohydrate (gm)  Total sugars (gm)  Dietary fiber (gm)  \\\n",
       "False          1120               1120               1120                1120   \n",
       "\n",
       "       Total fat (gm)  Total saturated fatty acids (gm)  \\\n",
       "False            1120                              1120   \n",
       "\n",
       "       Total monounsaturated fatty acids (gm)      ...       weight  height  \\\n",
       "False                                    1120      ...         1120    1120   \n",
       "\n",
       "        BMI  BMI category  target weight   age  gender  target_calories  \\\n",
       "False  1120          1120           1120  1120    1120             1120   \n",
       "\n",
       "       target protein  target carbs  \n",
       "False            1120          1120  \n",
       "\n",
       "[1 rows x 62 columns]"
      ]
     },
     "execution_count": 53,
     "metadata": {},
     "output_type": "execute_result"
    }
   ],
   "source": [
    "df.isna().apply(pd.Series.value_counts, axis=0)"
   ]
  },
  {
   "cell_type": "code",
   "execution_count": 54,
   "metadata": {},
   "outputs": [],
   "source": [
    "def calc_percent_deviation(target, actual):\n",
    "    if target > actual:\n",
    "        diff = target - actual\n",
    "    else:\n",
    "        diff = actual - target\n",
    "    return (diff / target) ** 2"
   ]
  },
  {
   "cell_type": "code",
   "execution_count": 55,
   "metadata": {},
   "outputs": [],
   "source": [
    "def calc_macro_dietary_deviation(row):\n",
    "    total = 0\n",
    "    target_actual_pairs = [\n",
    "        (row['target protein'], row['Protein (gm)']),\n",
    "        (row['target_calories'], row['Energy (kcal)'])\n",
    "    ]\n",
    "    for val in ['Carbohydrate (gm)', 'Dietary fiber (gm)', 'Total fat (gm)']:\n",
    "        target_actual_pairs.append(\n",
    "            (recommended_daily_values[val] * (row['target_calories'] / 2000), row[val])\n",
    "        )\n",
    "    for target, actual in target_actual_pairs:\n",
    "        total += calc_percent_deviation(target, actual)\n",
    "    return total"
   ]
  },
  {
   "cell_type": "code",
   "execution_count": 56,
   "metadata": {},
   "outputs": [],
   "source": [
    "df['macro_deviation'] = df.apply(calc_macro_dietary_deviation, axis=1)"
   ]
  },
  {
   "cell_type": "code",
   "execution_count": 57,
   "metadata": {},
   "outputs": [
    {
     "data": {
      "text/plain": [
       "<matplotlib.axes._subplots.AxesSubplot at 0x7f866567fe48>"
      ]
     },
     "execution_count": 57,
     "metadata": {},
     "output_type": "execute_result"
    },
    {
     "data": {
      "image/png": "[encoded data removed]",
      "text/plain": [
       "<matplotlib.figure.Figure at 0x7f866567f3c8>"
      ]
     },
     "metadata": {},
     "output_type": "display_data"
    }
   ],
   "source": [
    "sns.distplot(df.macro_deviation)"
   ]
  },
  {
   "cell_type": "code",
   "execution_count": 58,
   "metadata": {},
   "outputs": [
    {
     "data": {
      "text/plain": [
       "(array([959., 115.,  26.,  13.,   2.,   2.,   1.,   0.,   1.,   1.]),\n",
       " array([5.20461952e-02, 6.01158571e+00, 1.19711252e+01, 1.79306647e+01,\n",
       "        2.38902042e+01, 2.98497438e+01, 3.58092833e+01, 4.17688228e+01,\n",
       "        4.77283623e+01, 5.36879018e+01, 5.96474413e+01]),\n",
       " <a list of 10 Patch objects>)"
      ]
     },
     "execution_count": 58,
     "metadata": {},
     "output_type": "execute_result"
    },
    {
     "data": {
      "image/png": "[encoded data removed]",
      "text/plain": [
       "<matplotlib.figure.Figure at 0x7f865ad48198>"
      ]
     },
     "metadata": {},
     "output_type": "display_data"
    }
   ],
   "source": [
    "plt.hist(df.macro_deviation)"
   ]
  },
  {
   "cell_type": "code",
   "execution_count": 59,
   "metadata": {},
   "outputs": [],
   "source": [
    "def calc_nutrient_deviation(row):\n",
    "    total = 0\n",
    "    nutrients = [\n",
    "        'Total saturated fatty acids (gm)',\n",
    "        'Total monounsaturated fatty acids (gm)',\n",
    "        'Total polyunsaturated fatty acids (gm)',\n",
    "        'Cholesterol (mg)',\n",
    "        'Vitamin E as alpha-tocopherol (mg)',\n",
    "        'Retinol (mcg)',\n",
    "        'Vitamin A, RAE (mcg)',\n",
    "        'Alpha-carotene (mcg)',\n",
    "        'Beta-carotene (mcg)',\n",
    "        'Thiamin (Vitamin B1) (mg)',\n",
    "        'Riboflavin (Vitamin B2) (mg)',\n",
    "        'Niacin (mg)',\n",
    "        'Vitamin B6 (mg)',\n",
    "        'Total folate (mcg)',\n",
    "        'Folic acid (mcg)',\n",
    "        'Total choline (mg)',\n",
    "        'Vitamin B12 (mcg)',\n",
    "        'Vitamin C (mg)',\n",
    "        'Vitamin D (D2 + D3) (mcg)',\n",
    "        'Vitamin K (mcg)',\n",
    "        'Calcium (mg)',\n",
    "        'Phosphorus (mg)',\n",
    "        'Magnesium (mg)',\n",
    "        'Iron (mg)',\n",
    "        'Zinc (mg)',\n",
    "        'Copper (mg)',\n",
    "        'Sodium (mg)',\n",
    "        'Potassium (mg)',\n",
    "        'Selenium (mcg)'\n",
    "    ]\n",
    "    \n",
    "    target_actual_pairs = [\n",
    "        (recommended_daily_values[val] * (row['target_calories'] / 2000), row[val])\n",
    "        for val in nutrients\n",
    "    ]\n",
    "    for target, actual in target_actual_pairs:\n",
    "        total += calc_percent_deviation(target, actual)\n",
    "    return total"
   ]
  },
  {
   "cell_type": "code",
   "execution_count": 60,
   "metadata": {},
   "outputs": [],
   "source": [
    "df['nutrient_deviation'] = df.apply(calc_nutrient_deviation, axis=1)"
   ]
  },
  {
   "cell_type": "code",
   "execution_count": 61,
   "metadata": {},
   "outputs": [
    {
     "data": {
      "text/plain": [
       "<matplotlib.axes._subplots.AxesSubplot at 0x7f865ad325f8>"
      ]
     },
     "execution_count": 61,
     "metadata": {},
     "output_type": "execute_result"
    },
    {
     "data": {
      "image/png": "[encoded data removed]",
      "text/plain": [
       "<matplotlib.figure.Figure at 0x7f865ac959e8>"
      ]
     },
     "metadata": {},
     "output_type": "display_data"
    }
   ],
   "source": [
    "sns.distplot(df.nutrient_deviation)"
   ]
  },
  {
   "cell_type": "code",
   "execution_count": 62,
   "metadata": {},
   "outputs": [
    {
     "data": {
      "text/plain": [
       "(array([1.001e+03, 7.500e+01, 2.600e+01, 9.000e+00, 7.000e+00, 0.000e+00,\n",
       "        0.000e+00, 1.000e+00, 0.000e+00, 1.000e+00]),\n",
       " array([  4.939911  ,  31.40655987,  57.87320875,  84.33985763,\n",
       "        110.8065065 , 137.27315538, 163.73980426, 190.20645313,\n",
       "        216.67310201, 243.13975089, 269.60639976]),\n",
       " <a list of 10 Patch objects>)"
      ]
     },
     "execution_count": 62,
     "metadata": {},
     "output_type": "execute_result"
    },
    {
     "data": {
      "image/png": "[encoded data removed]",
      "text/plain": [
       "<matplotlib.figure.Figure at 0x7f865ab030b8>"
      ]
     },
     "metadata": {},
     "output_type": "display_data"
    }
   ],
   "source": [
    "plt.hist(df.nutrient_deviation)"
   ]
  },
  {
   "cell_type": "markdown",
   "metadata": {},
   "source": [
    "### Add calorie excess as a features"
   ]
  },
  {
   "cell_type": "code",
   "execution_count": 63,
   "metadata": {},
   "outputs": [],
   "source": [
    "df['calorie_excess'] = df['Energy (kcal)'] - df['target_calories']"
   ]
  },
  {
   "cell_type": "code",
   "execution_count": 64,
   "metadata": {},
   "outputs": [],
   "source": [
    "df = pd.get_dummies(df, columns=['BMI category', 'Tap water source', 'gender'])"
   ]
  },
  {
   "cell_type": "code",
   "execution_count": 65,
   "metadata": {},
   "outputs": [
    {
     "data": {
      "text/plain": [
       "(1120, 74)"
      ]
     },
     "execution_count": 65,
     "metadata": {},
     "output_type": "execute_result"
    }
   ],
   "source": [
    "df.shape"
   ]
  },
  {
   "cell_type": "markdown",
   "metadata": {},
   "source": [
    "### Visualize some of the data"
   ]
  },
  {
   "cell_type": "code",
   "execution_count": 66,
   "metadata": {},
   "outputs": [
    {
     "data": {
      "text/plain": [
       "<matplotlib.axes._subplots.AxesSubplot at 0x7f865aa50a20>"
      ]
     },
     "execution_count": 66,
     "metadata": {},
     "output_type": "execute_result"
    },
    {
     "data": {
      "image/png": "[encoded data removed]",
      "text/plain": [
       "<matplotlib.figure.Figure at 0x7f865aa98a58>"
      ]
     },
     "metadata": {},
     "output_type": "display_data"
    }
   ],
   "source": [
    "sns.distplot(df.age)"
   ]
  },
  {
   "cell_type": "code",
   "execution_count": 67,
   "metadata": {},
   "outputs": [],
   "source": [
    "df.rename(columns={'height':'height (cm)'}, inplace=True)"
   ]
  },
  {
   "cell_type": "code",
   "execution_count": 68,
   "metadata": {},
   "outputs": [
    {
     "data": {
      "text/plain": [
       "<matplotlib.axes._subplots.AxesSubplot at 0x7f865aa37e10>"
      ]
     },
     "execution_count": 68,
     "metadata": {},
     "output_type": "execute_result"
    },
    {
     "data": {
      "image/png": "[encoded data removed]",
      "text/plain": [
       "<matplotlib.figure.Figure at 0x7f865a9c15f8>"
      ]
     },
     "metadata": {},
     "output_type": "display_data"
    }
   ],
   "source": [
    "sns.distplot(df['height (cm)'])"
   ]
  },
  {
   "cell_type": "code",
   "execution_count": 69,
   "metadata": {},
   "outputs": [
    {
     "data": {
      "text/plain": [
       "<matplotlib.axes._subplots.AxesSubplot at 0x7f865a8cb5f8>"
      ]
     },
     "execution_count": 69,
     "metadata": {},
     "output_type": "execute_result"
    },
    {
     "data": {
      "image/png": "[encoded data removed]",
      "text/plain": [
       "<matplotlib.figure.Figure at 0x7f865a9b5dd8>"
      ]
     },
     "metadata": {},
     "output_type": "display_data"
    }
   ],
   "source": [
    "male_only = df[df['gender_1.0'] == 1]\n",
    "sns.distplot(male_only['height (cm)'])"
   ]
  },
  {
   "cell_type": "code",
   "execution_count": 70,
   "metadata": {},
   "outputs": [
    {
     "data": {
      "text/plain": [
       "<matplotlib.axes._subplots.AxesSubplot at 0x7f865a84d198>"
      ]
     },
     "execution_count": 70,
     "metadata": {},
     "output_type": "execute_result"
    },
    {
     "data": {
      "image/png": "[encoded data removed]",
      "text/plain": [
       "<matplotlib.figure.Figure at 0x7f865a845908>"
      ]
     },
     "metadata": {},
     "output_type": "display_data"
    }
   ],
   "source": [
    "female_only = df[df['gender_2.0'] == 1]\n",
    "sns.distplot(female_only['height (cm)'])"
   ]
  },
  {
   "cell_type": "code",
   "execution_count": 71,
   "metadata": {},
   "outputs": [
    {
     "data": {
      "text/plain": [
       "<matplotlib.axes._subplots.AxesSubplot at 0x7f865a9a9d30>"
      ]
     },
     "execution_count": 71,
     "metadata": {},
     "output_type": "execute_result"
    },
    {
     "data": {
      "image/png": "[encoded data removed]",
      "text/plain": [
       "<matplotlib.figure.Figure at 0x7f865a93dcf8>"
      ]
     },
     "metadata": {},
     "output_type": "display_data"
    }
   ],
   "source": [
    "sns.distplot(df.calorie_excess)"
   ]
  },
  {
   "cell_type": "markdown",
   "metadata": {},
   "source": [
    "### Attempt Feature Selection"
   ]
  },
  {
   "cell_type": "code",
   "execution_count": 72,
   "metadata": {},
   "outputs": [
    {
     "data": {
      "text/plain": [
       "Tap water source_91.0                       8.928571e-04\n",
       "BMI category_1.0                            2.609154e-02\n",
       "Tap water source_3.0                        3.197290e-02\n",
       "Tap water source_99.0                       5.074684e-02\n",
       "Tap water source_4.0                        1.238319e-01\n",
       "Tap water source_2.0                        1.269876e-01\n",
       "BMI category_3.0                            1.368178e-01\n",
       "BMI category_4.0                            1.421678e-01\n",
       "Copper (mg)                                 1.895939e-01\n",
       "BMI category_2.0                            2.310537e-01\n",
       "Tap water source_1.0                        2.361092e-01\n",
       "gender_1.0                                  2.500670e-01\n",
       "gender_2.0                                  2.500670e-01\n",
       "Thiamin (Vitamin B1) (mg)                   5.376834e-01\n",
       "Alcohol (gm)                                6.132403e-01\n",
       "Riboflavin (Vitamin B2) (mg)                9.101880e-01\n",
       "Vitamin B6 (mg)                             9.578097e-01\n",
       "Added vitamin B12 (mcg)                     3.911201e+00\n",
       "Added alpha-tocopherol (Vitamin E) (mg)     4.448083e+00\n",
       "Vitamin B12 (mcg)                           1.039402e+01\n",
       "age                                         1.376586e+01\n",
       "Vitamin D (D2 + D3) (mcg)                   1.996010e+01\n",
       "macro_deviation                             2.091436e+01\n",
       "Vitamin E as alpha-tocopherol (mg)          2.244613e+01\n",
       "BMI                                         2.289892e+01\n",
       "Number of foods reported                    2.325290e+01\n",
       "Zinc (mg)                                   2.711002e+01\n",
       "Dietary fiber (gm)                          5.304493e+01\n",
       "Iron (mg)                                   6.104612e+01\n",
       "Total polyunsaturated fatty acids (gm)      8.410535e+01\n",
       "Niacin (mg)                                 1.082085e+02\n",
       "target protein                              1.191132e+02\n",
       "Total monounsaturated fatty acids (gm)      1.331307e+02\n",
       "Total saturated fatty acids (gm)            1.472966e+02\n",
       "target weight                               1.861144e+02\n",
       "nutrient_deviation                          3.587436e+02\n",
       "weight                                      4.039105e+02\n",
       "height (cm)                                 5.293025e+02\n",
       "Protein (gm)                                8.928038e+02\n",
       "Total fat (gm)                              1.011378e+03\n",
       "Caffeine (mg)                               1.494887e+03\n",
       "Selenium (mcg)                              1.896497e+03\n",
       "Total sugars (gm)                           3.171029e+03\n",
       "target carbs                                4.835219e+03\n",
       "Theobromine (mg)                            6.439695e+03\n",
       "Vitamin C (mg)                              6.572679e+03\n",
       "Vitamin K (mcg)                             7.191480e+03\n",
       "Food folate (mcg)                           8.009875e+03\n",
       "Carbohydrate (gm)                           8.685290e+03\n",
       "Magnesium (mg)                              9.531533e+03\n",
       "Total choline (mg)                          1.774205e+04\n",
       "Beta-cryptoxanthin (mcg)                    2.484367e+04\n",
       "Cholesterol (mg)                            2.821490e+04\n",
       "Folic acid (mcg)                            3.837586e+04\n",
       "Total folate (mcg)                          5.456880e+04\n",
       "Retinol (mcg)                               1.075887e+05\n",
       "Folate, DFE (mcg)                           1.328016e+05\n",
       "Vitamin A, RAE (mcg)                        1.702215e+05\n",
       "Respondent sequence number                  2.043514e+05\n",
       "target_calories                             2.148986e+05\n",
       "Total bottled water drank yesterday (gm)    2.255729e+05\n",
       "Phosphorus (mg)                             2.872357e+05\n",
       "Calcium (mg)                                3.026002e+05\n",
       "Total tap water drank yesterday (gm)        3.107265e+05\n",
       "Total plain water drank yesterday (gm)      4.104565e+05\n",
       "Energy (kcal)                               4.501769e+05\n",
       "calorie_excess                              4.796735e+05\n",
       "Moisture (gm)                               6.312800e+05\n",
       "Alpha-carotene (mcg)                        6.385725e+05\n",
       "Potassium (mg)                              8.388696e+05\n",
       "Sodium (mg)                                 1.565479e+06\n",
       "Lutein + zeaxanthin (mcg)                   2.817472e+06\n",
       "Beta-carotene (mcg)                         6.348607e+06\n",
       "Lycopene (mcg)                              4.594937e+07\n",
       "dtype: float64"
      ]
     },
     "execution_count": 72,
     "metadata": {},
     "output_type": "execute_result"
    }
   ],
   "source": [
    "df.var().sort_values()"
   ]
  },
  {
   "cell_type": "code",
   "execution_count": 73,
   "metadata": {},
   "outputs": [
    {
     "name": "stdout",
     "output_type": "stream",
     "text": [
      "0    1083\n",
      "1      37\n",
      "Name: Tap water source_3.0, dtype: int64\n",
      "0    1060\n",
      "1      60\n",
      "Name: Tap water source_99.0, dtype: int64\n",
      "0    958\n",
      "1    162\n",
      "Name: Tap water source_4.0, dtype: int64\n",
      "0    953\n",
      "1    167\n",
      "Name: Tap water source_2.0, dtype: int64\n",
      "1    693\n",
      "0    427\n",
      "Name: Tap water source_1.0, dtype: int64\n"
     ]
    }
   ],
   "source": [
    "for col in ['Tap water source_3.0', 'Tap water source_99.0', 'Tap water source_4.0', 'Tap water source_2.0', 'Tap water source_1.0']:\n",
    "    print(df[col].value_counts())"
   ]
  },
  {
   "cell_type": "markdown",
   "metadata": {},
   "source": [
    "#### Initially from the variances it looked like the tap water source might be just about the same for everyone, but that actually doesn't seem to be the case. Through variance analysis, nothing pops out as an easy column to drop."
   ]
  },
  {
   "cell_type": "markdown",
   "metadata": {},
   "source": [
    "### Explore diet and BMI Category. BMI category 3 and 4 are overweight and obese respectively"
   ]
  },
  {
   "cell_type": "code",
   "execution_count": 74,
   "metadata": {},
   "outputs": [],
   "source": [
    "df['overweight_or_obese'] = ((df['BMI category_3.0'] == 1) | (df['BMI category_4.0'] == 1))\n",
    "targets = df.overweight_or_obese"
   ]
  },
  {
   "cell_type": "markdown",
   "metadata": {},
   "source": [
    "### Scale the data before building any models"
   ]
  },
  {
   "cell_type": "code",
   "execution_count": 75,
   "metadata": {},
   "outputs": [],
   "source": [
    "from sklearn.preprocessing import StandardScaler"
   ]
  },
  {
   "cell_type": "code",
   "execution_count": 76,
   "metadata": {},
   "outputs": [],
   "source": [
    "scaler = StandardScaler()"
   ]
  },
  {
   "cell_type": "code",
   "execution_count": 77,
   "metadata": {},
   "outputs": [
    {
     "data": {
      "text/plain": [
       "StandardScaler(copy=True, with_mean=True, with_std=True)"
      ]
     },
     "execution_count": 77,
     "metadata": {},
     "output_type": "execute_result"
    }
   ],
   "source": [
    "scaler.fit(df)"
   ]
  },
  {
   "cell_type": "code",
   "execution_count": 78,
   "metadata": {},
   "outputs": [],
   "source": [
    "scaled_data = scaler.transform(df)\n",
    "df = pd.DataFrame(scaled_data, df.index, df.columns)"
   ]
  },
  {
   "cell_type": "code",
   "execution_count": 79,
   "metadata": {},
   "outputs": [],
   "source": [
    "data = df.drop(\n",
    "    labels=[\n",
    "        'BMI category_1.0', 'BMI category_2.0',\n",
    "        'BMI category_3.0', 'BMI category_4.0',\n",
    "        'overweight_or_obese', 'weight',\n",
    "        'BMI', 'target weight', \n",
    "        'target_calories', 'target protein',\n",
    "        'target carbs'\n",
    "    ], axis=1)"
   ]
  },
  {
   "cell_type": "code",
   "execution_count": 80,
   "metadata": {},
   "outputs": [],
   "source": [
    "from sklearn.model_selection import train_test_split"
   ]
  },
  {
   "cell_type": "code",
   "execution_count": 81,
   "metadata": {},
   "outputs": [],
   "source": [
    "train_data, test_data, train_targets, test_targets = train_test_split(data, targets, test_size=0.2, random_state=4)"
   ]
  },
  {
   "cell_type": "markdown",
   "metadata": {},
   "source": [
    "### Build a Linear Regression Model"
   ]
  },
  {
   "cell_type": "code",
   "execution_count": 82,
   "metadata": {},
   "outputs": [
    {
     "name": "stderr",
     "output_type": "stream",
     "text": [
      "/home/lance/anaconda3/lib/python3.6/site-packages/statsmodels/compat/pandas.py:56: FutureWarning: The pandas.core.datetools module is deprecated and will be removed in a future version. Please use the pandas.tseries module instead.\n",
      "  from pandas.core import datetools\n"
     ]
    }
   ],
   "source": [
    "import statsmodels.api as sm"
   ]
  },
  {
   "cell_type": "code",
   "execution_count": 83,
   "metadata": {},
   "outputs": [
    {
     "data": {
      "text/html": [
       "<table class=\"simpletable\">\n",
       "<caption>OLS Regression Results</caption>\n",
       "<tr>\n",
       "  <th>Dep. Variable:</th>    <td>overweight_or_obese</td> <th>  R-squared:         </th> <td>-257.083</td>\n",
       "</tr>\n",
       "<tr>\n",
       "  <th>Model:</th>                    <td>OLS</td>         <th>  Adj. R-squared:    </th> <td>-275.937</td>\n",
       "</tr>\n",
       "<tr>\n",
       "  <th>Method:</th>              <td>Least Squares</td>    <th>  F-statistic:       </th> <td>  -13.64</td>\n",
       "</tr>\n",
       "<tr>\n",
       "  <th>Date:</th>              <td>Sat, 27 Apr 2019</td>   <th>  Prob (F-statistic):</th>  <td>  1.00</td> \n",
       "</tr>\n",
       "<tr>\n",
       "  <th>Time:</th>                  <td>18:43:54</td>       <th>  Log-Likelihood:    </th> <td> -713.76</td>\n",
       "</tr>\n",
       "<tr>\n",
       "  <th>No. Observations:</th>       <td>   896</td>        <th>  AIC:               </th> <td>   1550.</td>\n",
       "</tr>\n",
       "<tr>\n",
       "  <th>Df Residuals:</th>           <td>   835</td>        <th>  BIC:               </th> <td>   1842.</td>\n",
       "</tr>\n",
       "<tr>\n",
       "  <th>Df Model:</th>               <td>    61</td>        <th>                     </th>     <td> </td>   \n",
       "</tr>\n",
       "<tr>\n",
       "  <th>Covariance Type:</th>       <td>nonrobust</td>      <th>                     </th>     <td> </td>   \n",
       "</tr>\n",
       "</table>\n",
       "<table class=\"simpletable\">\n",
       "<tr>\n",
       "                      <td></td>                        <th>coef</th>     <th>std err</th>      <th>t</th>      <th>P>|t|</th>  <th>[0.025</th>    <th>0.975]</th>  \n",
       "</tr>\n",
       "<tr>\n",
       "  <th>Respondent sequence number</th>               <td>   -0.0118</td> <td>    0.019</td> <td>   -0.621</td> <td> 0.535</td> <td>   -0.049</td> <td>    0.026</td>\n",
       "</tr>\n",
       "<tr>\n",
       "  <th>Number of foods reported</th>                 <td>   -0.0277</td> <td>    0.024</td> <td>   -1.153</td> <td> 0.249</td> <td>   -0.075</td> <td>    0.020</td>\n",
       "</tr>\n",
       "<tr>\n",
       "  <th>Energy (kcal)</th>                            <td>   -1.0171</td> <td>    1.360</td> <td>   -0.748</td> <td> 0.455</td> <td>   -3.687</td> <td>    1.653</td>\n",
       "</tr>\n",
       "<tr>\n",
       "  <th>Protein (gm)</th>                             <td>   -0.3017</td> <td>    0.221</td> <td>   -1.366</td> <td> 0.172</td> <td>   -0.735</td> <td>    0.132</td>\n",
       "</tr>\n",
       "<tr>\n",
       "  <th>Carbohydrate (gm)</th>                        <td>   -0.6372</td> <td>    0.628</td> <td>   -1.014</td> <td> 0.311</td> <td>   -1.870</td> <td>    0.596</td>\n",
       "</tr>\n",
       "<tr>\n",
       "  <th>Total sugars (gm)</th>                        <td>    0.0408</td> <td>    0.060</td> <td>    0.674</td> <td> 0.501</td> <td>   -0.078</td> <td>    0.159</td>\n",
       "</tr>\n",
       "<tr>\n",
       "  <th>Dietary fiber (gm)</th>                       <td>    0.0497</td> <td>    0.044</td> <td>    1.131</td> <td> 0.259</td> <td>   -0.037</td> <td>    0.136</td>\n",
       "</tr>\n",
       "<tr>\n",
       "  <th>Total fat (gm)</th>                           <td>   -0.3241</td> <td>    0.643</td> <td>   -0.504</td> <td> 0.615</td> <td>   -1.587</td> <td>    0.939</td>\n",
       "</tr>\n",
       "<tr>\n",
       "  <th>Total saturated fatty acids (gm)</th>         <td>   -0.0171</td> <td>    0.181</td> <td>   -0.095</td> <td> 0.925</td> <td>   -0.372</td> <td>    0.338</td>\n",
       "</tr>\n",
       "<tr>\n",
       "  <th>Total monounsaturated fatty acids (gm)</th>   <td>   -0.0070</td> <td>    0.165</td> <td>   -0.042</td> <td> 0.966</td> <td>   -0.331</td> <td>    0.317</td>\n",
       "</tr>\n",
       "<tr>\n",
       "  <th>Total polyunsaturated fatty acids (gm)</th>   <td>   -0.0225</td> <td>    0.133</td> <td>   -0.169</td> <td> 0.866</td> <td>   -0.284</td> <td>    0.239</td>\n",
       "</tr>\n",
       "<tr>\n",
       "  <th>Cholesterol (mg)</th>                         <td>   -0.0640</td> <td>    0.072</td> <td>   -0.890</td> <td> 0.373</td> <td>   -0.205</td> <td>    0.077</td>\n",
       "</tr>\n",
       "<tr>\n",
       "  <th>Vitamin E as alpha-tocopherol (mg)</th>       <td>   -0.0067</td> <td>    0.041</td> <td>   -0.166</td> <td> 0.868</td> <td>   -0.087</td> <td>    0.073</td>\n",
       "</tr>\n",
       "<tr>\n",
       "  <th>Added alpha-tocopherol (Vitamin E) (mg)</th>  <td>   -0.0079</td> <td>    0.028</td> <td>   -0.279</td> <td> 0.780</td> <td>   -0.063</td> <td>    0.047</td>\n",
       "</tr>\n",
       "<tr>\n",
       "  <th>Retinol (mcg)</th>                            <td>    7.6270</td> <td>    3.860</td> <td>    1.976</td> <td> 0.049</td> <td>    0.050</td> <td>   15.204</td>\n",
       "</tr>\n",
       "<tr>\n",
       "  <th>Vitamin A, RAE (mcg)</th>                     <td>   -9.6273</td> <td>    4.859</td> <td>   -1.981</td> <td> 0.048</td> <td>  -19.164</td> <td>   -0.091</td>\n",
       "</tr>\n",
       "<tr>\n",
       "  <th>Alpha-carotene (mcg)</th>                     <td>    0.7819</td> <td>    0.393</td> <td>    1.989</td> <td> 0.047</td> <td>    0.010</td> <td>    1.554</td>\n",
       "</tr>\n",
       "<tr>\n",
       "  <th>Beta-carotene (mcg)</th>                      <td>    4.8884</td> <td>    2.474</td> <td>    1.976</td> <td> 0.048</td> <td>    0.033</td> <td>    9.744</td>\n",
       "</tr>\n",
       "<tr>\n",
       "  <th>Beta-cryptoxanthin (mcg)</th>                 <td>    0.1225</td> <td>    0.078</td> <td>    1.579</td> <td> 0.115</td> <td>   -0.030</td> <td>    0.275</td>\n",
       "</tr>\n",
       "<tr>\n",
       "  <th>Lycopene (mcg)</th>                           <td>   -0.0163</td> <td>    0.022</td> <td>   -0.739</td> <td> 0.460</td> <td>   -0.060</td> <td>    0.027</td>\n",
       "</tr>\n",
       "<tr>\n",
       "  <th>Lutein + zeaxanthin (mcg)</th>                <td>    0.1254</td> <td>    0.050</td> <td>    2.485</td> <td> 0.013</td> <td>    0.026</td> <td>    0.224</td>\n",
       "</tr>\n",
       "<tr>\n",
       "  <th>Thiamin (Vitamin B1) (mg)</th>                <td>   -0.0728</td> <td>    0.046</td> <td>   -1.569</td> <td> 0.117</td> <td>   -0.164</td> <td>    0.018</td>\n",
       "</tr>\n",
       "<tr>\n",
       "  <th>Riboflavin (Vitamin B2) (mg)</th>             <td>    0.0014</td> <td>    0.059</td> <td>    0.023</td> <td> 0.982</td> <td>   -0.115</td> <td>    0.118</td>\n",
       "</tr>\n",
       "<tr>\n",
       "  <th>Niacin (mg)</th>                              <td>   -0.0164</td> <td>    0.062</td> <td>   -0.266</td> <td> 0.790</td> <td>   -0.137</td> <td>    0.105</td>\n",
       "</tr>\n",
       "<tr>\n",
       "  <th>Vitamin B6 (mg)</th>                          <td>    0.0226</td> <td>    0.061</td> <td>    0.371</td> <td> 0.711</td> <td>   -0.097</td> <td>    0.142</td>\n",
       "</tr>\n",
       "<tr>\n",
       "  <th>Total folate (mcg)</th>                       <td>    0.2018</td> <td>    4.768</td> <td>    0.042</td> <td> 0.966</td> <td>   -9.157</td> <td>    9.560</td>\n",
       "</tr>\n",
       "<tr>\n",
       "  <th>Folic acid (mcg)</th>                         <td>   -2.5505</td> <td>    4.376</td> <td>   -0.583</td> <td> 0.560</td> <td>  -11.140</td> <td>    6.039</td>\n",
       "</tr>\n",
       "<tr>\n",
       "  <th>Food folate (mcg)</th>                        <td>   -0.7011</td> <td>    1.461</td> <td>   -0.480</td> <td> 0.632</td> <td>   -3.569</td> <td>    2.167</td>\n",
       "</tr>\n",
       "<tr>\n",
       "  <th>Folate, DFE (mcg)</th>                        <td>    2.5629</td> <td>    6.176</td> <td>    0.415</td> <td> 0.678</td> <td>   -9.560</td> <td>   14.686</td>\n",
       "</tr>\n",
       "<tr>\n",
       "  <th>Total choline (mg)</th>                       <td>   -0.0074</td> <td>    0.086</td> <td>   -0.086</td> <td> 0.931</td> <td>   -0.175</td> <td>    0.161</td>\n",
       "</tr>\n",
       "<tr>\n",
       "  <th>Vitamin B12 (mcg)</th>                        <td>   -0.0054</td> <td>    0.054</td> <td>   -0.099</td> <td> 0.921</td> <td>   -0.112</td> <td>    0.101</td>\n",
       "</tr>\n",
       "<tr>\n",
       "  <th>Added vitamin B12 (mcg)</th>                  <td>    0.0068</td> <td>    0.041</td> <td>    0.163</td> <td> 0.870</td> <td>   -0.074</td> <td>    0.088</td>\n",
       "</tr>\n",
       "<tr>\n",
       "  <th>Vitamin C (mg)</th>                           <td>   -0.0078</td> <td>    0.027</td> <td>   -0.288</td> <td> 0.773</td> <td>   -0.061</td> <td>    0.045</td>\n",
       "</tr>\n",
       "<tr>\n",
       "  <th>Vitamin D (D2 + D3) (mcg)</th>                <td>   -0.0618</td> <td>    0.045</td> <td>   -1.382</td> <td> 0.167</td> <td>   -0.150</td> <td>    0.026</td>\n",
       "</tr>\n",
       "<tr>\n",
       "  <th>Vitamin K (mcg)</th>                          <td>   -0.1434</td> <td>    0.051</td> <td>   -2.805</td> <td> 0.005</td> <td>   -0.244</td> <td>   -0.043</td>\n",
       "</tr>\n",
       "<tr>\n",
       "  <th>Calcium (mg)</th>                             <td>    0.0210</td> <td>    0.057</td> <td>    0.367</td> <td> 0.714</td> <td>   -0.092</td> <td>    0.134</td>\n",
       "</tr>\n",
       "<tr>\n",
       "  <th>Phosphorus (mg)</th>                          <td>    0.0727</td> <td>    0.084</td> <td>    0.866</td> <td> 0.387</td> <td>   -0.092</td> <td>    0.238</td>\n",
       "</tr>\n",
       "<tr>\n",
       "  <th>Magnesium (mg)</th>                           <td>   -0.0288</td> <td>    0.059</td> <td>   -0.487</td> <td> 0.626</td> <td>   -0.145</td> <td>    0.087</td>\n",
       "</tr>\n",
       "<tr>\n",
       "  <th>Iron (mg)</th>                                <td>    0.0399</td> <td>    0.047</td> <td>    0.854</td> <td> 0.393</td> <td>   -0.052</td> <td>    0.131</td>\n",
       "</tr>\n",
       "<tr>\n",
       "  <th>Zinc (mg)</th>                                <td>    0.0220</td> <td>    0.043</td> <td>    0.511</td> <td> 0.609</td> <td>   -0.063</td> <td>    0.107</td>\n",
       "</tr>\n",
       "<tr>\n",
       "  <th>Copper (mg)</th>                              <td>    0.0039</td> <td>    0.047</td> <td>    0.083</td> <td> 0.934</td> <td>   -0.089</td> <td>    0.097</td>\n",
       "</tr>\n",
       "<tr>\n",
       "  <th>Sodium (mg)</th>                              <td>    0.0189</td> <td>    0.044</td> <td>    0.429</td> <td> 0.668</td> <td>   -0.068</td> <td>    0.106</td>\n",
       "</tr>\n",
       "<tr>\n",
       "  <th>Potassium (mg)</th>                           <td>   -0.0173</td> <td>    0.059</td> <td>   -0.292</td> <td> 0.770</td> <td>   -0.133</td> <td>    0.099</td>\n",
       "</tr>\n",
       "<tr>\n",
       "  <th>Selenium (mcg)</th>                           <td>    0.0991</td> <td>    0.055</td> <td>    1.816</td> <td> 0.070</td> <td>   -0.008</td> <td>    0.206</td>\n",
       "</tr>\n",
       "<tr>\n",
       "  <th>Caffeine (mg)</th>                            <td>   -0.0057</td> <td>    0.023</td> <td>   -0.246</td> <td> 0.806</td> <td>   -0.051</td> <td>    0.040</td>\n",
       "</tr>\n",
       "<tr>\n",
       "  <th>Theobromine (mg)</th>                         <td>   -0.0217</td> <td>    0.025</td> <td>   -0.877</td> <td> 0.380</td> <td>   -0.070</td> <td>    0.027</td>\n",
       "</tr>\n",
       "<tr>\n",
       "  <th>Alcohol (gm)</th>                             <td>   -0.1228</td> <td>    0.056</td> <td>   -2.197</td> <td> 0.028</td> <td>   -0.233</td> <td>   -0.013</td>\n",
       "</tr>\n",
       "<tr>\n",
       "  <th>Moisture (gm)</th>                            <td>    0.1424</td> <td>    0.058</td> <td>    2.463</td> <td> 0.014</td> <td>    0.029</td> <td>    0.256</td>\n",
       "</tr>\n",
       "<tr>\n",
       "  <th>Total plain water drank yesterday (gm)</th>   <td>   -0.0424</td> <td>    0.028</td> <td>   -1.516</td> <td> 0.130</td> <td>   -0.097</td> <td>    0.012</td>\n",
       "</tr>\n",
       "<tr>\n",
       "  <th>Total tap water drank yesterday (gm)</th>     <td>   -0.0424</td> <td>    0.022</td> <td>   -1.950</td> <td> 0.052</td> <td>   -0.085</td> <td>    0.000</td>\n",
       "</tr>\n",
       "<tr>\n",
       "  <th>Total bottled water drank yesterday (gm)</th> <td>   -0.0074</td> <td>    0.021</td> <td>   -0.354</td> <td> 0.723</td> <td>   -0.049</td> <td>    0.034</td>\n",
       "</tr>\n",
       "<tr>\n",
       "  <th>height (cm)</th>                              <td>    1.8265</td> <td>    0.530</td> <td>    3.444</td> <td> 0.001</td> <td>    0.786</td> <td>    2.867</td>\n",
       "</tr>\n",
       "<tr>\n",
       "  <th>age</th>                                      <td>   -0.5082</td> <td>    0.076</td> <td>   -6.689</td> <td> 0.000</td> <td>   -0.657</td> <td>   -0.359</td>\n",
       "</tr>\n",
       "<tr>\n",
       "  <th>macro_deviation</th>                          <td>    0.0663</td> <td>    0.042</td> <td>    1.588</td> <td> 0.113</td> <td>   -0.016</td> <td>    0.148</td>\n",
       "</tr>\n",
       "<tr>\n",
       "  <th>nutrient_deviation</th>                       <td>   -0.0294</td> <td>    0.043</td> <td>   -0.680</td> <td> 0.497</td> <td>   -0.114</td> <td>    0.056</td>\n",
       "</tr>\n",
       "<tr>\n",
       "  <th>calorie_excess</th>                           <td>    2.0510</td> <td>    0.779</td> <td>    2.632</td> <td> 0.009</td> <td>    0.522</td> <td>    3.580</td>\n",
       "</tr>\n",
       "<tr>\n",
       "  <th>Tap water source_1.0</th>                     <td>-3.814e-05</td> <td>    0.011</td> <td>   -0.003</td> <td> 0.997</td> <td>   -0.023</td> <td>    0.022</td>\n",
       "</tr>\n",
       "<tr>\n",
       "  <th>Tap water source_2.0</th>                     <td>   -0.0122</td> <td>    0.016</td> <td>   -0.760</td> <td> 0.448</td> <td>   -0.044</td> <td>    0.019</td>\n",
       "</tr>\n",
       "<tr>\n",
       "  <th>Tap water source_3.0</th>                     <td>   -0.0076</td> <td>    0.018</td> <td>   -0.424</td> <td> 0.672</td> <td>   -0.043</td> <td>    0.028</td>\n",
       "</tr>\n",
       "<tr>\n",
       "  <th>Tap water source_4.0</th>                     <td>    0.0069</td> <td>    0.016</td> <td>    0.433</td> <td> 0.665</td> <td>   -0.024</td> <td>    0.038</td>\n",
       "</tr>\n",
       "<tr>\n",
       "  <th>Tap water source_91.0</th>                    <td>    0.0159</td> <td>    0.017</td> <td>    0.943</td> <td> 0.346</td> <td>   -0.017</td> <td>    0.049</td>\n",
       "</tr>\n",
       "<tr>\n",
       "  <th>Tap water source_99.0</th>                    <td>    0.0126</td> <td>    0.018</td> <td>    0.693</td> <td> 0.488</td> <td>   -0.023</td> <td>    0.048</td>\n",
       "</tr>\n",
       "<tr>\n",
       "  <th>gender_1.0</th>                               <td>    0.1981</td> <td>    0.078</td> <td>    2.535</td> <td> 0.011</td> <td>    0.045</td> <td>    0.352</td>\n",
       "</tr>\n",
       "<tr>\n",
       "  <th>gender_2.0</th>                               <td>   -0.1981</td> <td>    0.078</td> <td>   -2.535</td> <td> 0.011</td> <td>   -0.352</td> <td>   -0.045</td>\n",
       "</tr>\n",
       "</table>\n",
       "<table class=\"simpletable\">\n",
       "<tr>\n",
       "  <th>Omnibus:</th>       <td>206.219</td> <th>  Durbin-Watson:     </th> <td>   1.351</td>\n",
       "</tr>\n",
       "<tr>\n",
       "  <th>Prob(Omnibus):</th> <td> 0.000</td>  <th>  Jarque-Bera (JB):  </th> <td>  79.214</td>\n",
       "</tr>\n",
       "<tr>\n",
       "  <th>Skew:</th>          <td> 0.541</td>  <th>  Prob(JB):          </th> <td>6.29e-18</td>\n",
       "</tr>\n",
       "<tr>\n",
       "  <th>Kurtosis:</th>      <td> 2.025</td>  <th>  Cond. No.          </th> <td>1.37e+16</td>\n",
       "</tr>\n",
       "</table>"
      ],
      "text/plain": [
       "<class 'statsmodels.iolib.summary.Summary'>\n",
       "\"\"\"\n",
       "                             OLS Regression Results                            \n",
       "===============================================================================\n",
       "Dep. Variable:     overweight_or_obese   R-squared:                    -257.083\n",
       "Model:                             OLS   Adj. R-squared:               -275.937\n",
       "Method:                  Least Squares   F-statistic:                    -13.64\n",
       "Date:                 Sat, 27 Apr 2019   Prob (F-statistic):               1.00\n",
       "Time:                         18:43:54   Log-Likelihood:                -713.76\n",
       "No. Observations:                  896   AIC:                             1550.\n",
       "Df Residuals:                      835   BIC:                             1842.\n",
       "Df Model:                           61                                         \n",
       "Covariance Type:             nonrobust                                         \n",
       "============================================================================================================\n",
       "                                               coef    std err          t      P>|t|      [0.025      0.975]\n",
       "------------------------------------------------------------------------------------------------------------\n",
       "Respondent sequence number                  -0.0118      0.019     -0.621      0.535      -0.049       0.026\n",
       "Number of foods reported                    -0.0277      0.024     -1.153      0.249      -0.075       0.020\n",
       "Energy (kcal)                               -1.0171      1.360     -0.748      0.455      -3.687       1.653\n",
       "Protein (gm)                                -0.3017      0.221     -1.366      0.172      -0.735       0.132\n",
       "Carbohydrate (gm)                           -0.6372      0.628     -1.014      0.311      -1.870       0.596\n",
       "Total sugars (gm)                            0.0408      0.060      0.674      0.501      -0.078       0.159\n",
       "Dietary fiber (gm)                           0.0497      0.044      1.131      0.259      -0.037       0.136\n",
       "Total fat (gm)                              -0.3241      0.643     -0.504      0.615      -1.587       0.939\n",
       "Total saturated fatty acids (gm)            -0.0171      0.181     -0.095      0.925      -0.372       0.338\n",
       "Total monounsaturated fatty acids (gm)      -0.0070      0.165     -0.042      0.966      -0.331       0.317\n",
       "Total polyunsaturated fatty acids (gm)      -0.0225      0.133     -0.169      0.866      -0.284       0.239\n",
       "Cholesterol (mg)                            -0.0640      0.072     -0.890      0.373      -0.205       0.077\n",
       "Vitamin E as alpha-tocopherol (mg)          -0.0067      0.041     -0.166      0.868      -0.087       0.073\n",
       "Added alpha-tocopherol (Vitamin E) (mg)     -0.0079      0.028     -0.279      0.780      -0.063       0.047\n",
       "Retinol (mcg)                                7.6270      3.860      1.976      0.049       0.050      15.204\n",
       "Vitamin A, RAE (mcg)                        -9.6273      4.859     -1.981      0.048     -19.164      -0.091\n",
       "Alpha-carotene (mcg)                         0.7819      0.393      1.989      0.047       0.010       1.554\n",
       "Beta-carotene (mcg)                          4.8884      2.474      1.976      0.048       0.033       9.744\n",
       "Beta-cryptoxanthin (mcg)                     0.1225      0.078      1.579      0.115      -0.030       0.275\n",
       "Lycopene (mcg)                              -0.0163      0.022     -0.739      0.460      -0.060       0.027\n",
       "Lutein + zeaxanthin (mcg)                    0.1254      0.050      2.485      0.013       0.026       0.224\n",
       "Thiamin (Vitamin B1) (mg)                   -0.0728      0.046     -1.569      0.117      -0.164       0.018\n",
       "Riboflavin (Vitamin B2) (mg)                 0.0014      0.059      0.023      0.982      -0.115       0.118\n",
       "Niacin (mg)                                 -0.0164      0.062     -0.266      0.790      -0.137       0.105\n",
       "Vitamin B6 (mg)                              0.0226      0.061      0.371      0.711      -0.097       0.142\n",
       "Total folate (mcg)                           0.2018      4.768      0.042      0.966      -9.157       9.560\n",
       "Folic acid (mcg)                            -2.5505      4.376     -0.583      0.560     -11.140       6.039\n",
       "Food folate (mcg)                           -0.7011      1.461     -0.480      0.632      -3.569       2.167\n",
       "Folate, DFE (mcg)                            2.5629      6.176      0.415      0.678      -9.560      14.686\n",
       "Total choline (mg)                          -0.0074      0.086     -0.086      0.931      -0.175       0.161\n",
       "Vitamin B12 (mcg)                           -0.0054      0.054     -0.099      0.921      -0.112       0.101\n",
       "Added vitamin B12 (mcg)                      0.0068      0.041      0.163      0.870      -0.074       0.088\n",
       "Vitamin C (mg)                              -0.0078      0.027     -0.288      0.773      -0.061       0.045\n",
       "Vitamin D (D2 + D3) (mcg)                   -0.0618      0.045     -1.382      0.167      -0.150       0.026\n",
       "Vitamin K (mcg)                             -0.1434      0.051     -2.805      0.005      -0.244      -0.043\n",
       "Calcium (mg)                                 0.0210      0.057      0.367      0.714      -0.092       0.134\n",
       "Phosphorus (mg)                              0.0727      0.084      0.866      0.387      -0.092       0.238\n",
       "Magnesium (mg)                              -0.0288      0.059     -0.487      0.626      -0.145       0.087\n",
       "Iron (mg)                                    0.0399      0.047      0.854      0.393      -0.052       0.131\n",
       "Zinc (mg)                                    0.0220      0.043      0.511      0.609      -0.063       0.107\n",
       "Copper (mg)                                  0.0039      0.047      0.083      0.934      -0.089       0.097\n",
       "Sodium (mg)                                  0.0189      0.044      0.429      0.668      -0.068       0.106\n",
       "Potassium (mg)                              -0.0173      0.059     -0.292      0.770      -0.133       0.099\n",
       "Selenium (mcg)                               0.0991      0.055      1.816      0.070      -0.008       0.206\n",
       "Caffeine (mg)                               -0.0057      0.023     -0.246      0.806      -0.051       0.040\n",
       "Theobromine (mg)                            -0.0217      0.025     -0.877      0.380      -0.070       0.027\n",
       "Alcohol (gm)                                -0.1228      0.056     -2.197      0.028      -0.233      -0.013\n",
       "Moisture (gm)                                0.1424      0.058      2.463      0.014       0.029       0.256\n",
       "Total plain water drank yesterday (gm)      -0.0424      0.028     -1.516      0.130      -0.097       0.012\n",
       "Total tap water drank yesterday (gm)        -0.0424      0.022     -1.950      0.052      -0.085       0.000\n",
       "Total bottled water drank yesterday (gm)    -0.0074      0.021     -0.354      0.723      -0.049       0.034\n",
       "height (cm)                                  1.8265      0.530      3.444      0.001       0.786       2.867\n",
       "age                                         -0.5082      0.076     -6.689      0.000      -0.657      -0.359\n",
       "macro_deviation                              0.0663      0.042      1.588      0.113      -0.016       0.148\n",
       "nutrient_deviation                          -0.0294      0.043     -0.680      0.497      -0.114       0.056\n",
       "calorie_excess                               2.0510      0.779      2.632      0.009       0.522       3.580\n",
       "Tap water source_1.0                     -3.814e-05      0.011     -0.003      0.997      -0.023       0.022\n",
       "Tap water source_2.0                        -0.0122      0.016     -0.760      0.448      -0.044       0.019\n",
       "Tap water source_3.0                        -0.0076      0.018     -0.424      0.672      -0.043       0.028\n",
       "Tap water source_4.0                         0.0069      0.016      0.433      0.665      -0.024       0.038\n",
       "Tap water source_91.0                        0.0159      0.017      0.943      0.346      -0.017       0.049\n",
       "Tap water source_99.0                        0.0126      0.018      0.693      0.488      -0.023       0.048\n",
       "gender_1.0                                   0.1981      0.078      2.535      0.011       0.045       0.352\n",
       "gender_2.0                                  -0.1981      0.078     -2.535      0.011      -0.352      -0.045\n",
       "==============================================================================\n",
       "Omnibus:                      206.219   Durbin-Watson:                   1.351\n",
       "Prob(Omnibus):                  0.000   Jarque-Bera (JB):               79.214\n",
       "Skew:                           0.541   Prob(JB):                     6.29e-18\n",
       "Kurtosis:                       2.025   Cond. No.                     1.37e+16\n",
       "==============================================================================\n",
       "\n",
       "Warnings:\n",
       "[1] Standard Errors assume that the covariance matrix of the errors is correctly specified.\n",
       "[2] The smallest eigenvalue is 9.41e-29. This might indicate that there are\n",
       "strong multicollinearity problems or that the design matrix is singular.\n",
       "\"\"\""
      ]
     },
     "execution_count": 83,
     "metadata": {},
     "output_type": "execute_result"
    }
   ],
   "source": [
    "model = sm.OLS(train_targets, train_data).fit()\n",
    "predictions = model.predict(test_data) # make the predictions by the model\n",
    "\n",
    "# Print out the statistics\n",
    "model.summary()"
   ]
  },
  {
   "cell_type": "code",
   "execution_count": 84,
   "metadata": {},
   "outputs": [],
   "source": [
    "from sklearn.linear_model import LinearRegression"
   ]
  },
  {
   "cell_type": "code",
   "execution_count": 85,
   "metadata": {},
   "outputs": [],
   "source": [
    "lr = LinearRegression()"
   ]
  },
  {
   "cell_type": "code",
   "execution_count": 86,
   "metadata": {},
   "outputs": [
    {
     "data": {
      "text/plain": [
       "LinearRegression(copy_X=True, fit_intercept=True, n_jobs=1, normalize=False)"
      ]
     },
     "execution_count": 86,
     "metadata": {},
     "output_type": "execute_result"
    }
   ],
   "source": [
    "lr.fit(train_data, train_targets)"
   ]
  },
  {
   "cell_type": "code",
   "execution_count": 87,
   "metadata": {},
   "outputs": [],
   "source": [
    "y_pred = np.round(lr.predict(test_data))"
   ]
  },
  {
   "cell_type": "code",
   "execution_count": 88,
   "metadata": {},
   "outputs": [
    {
     "data": {
      "text/plain": [
       "0.02635858928335877"
      ]
     },
     "execution_count": 88,
     "metadata": {},
     "output_type": "execute_result"
    }
   ],
   "source": [
    "lr.score(test_data, test_targets)"
   ]
  },
  {
   "cell_type": "code",
   "execution_count": 89,
   "metadata": {},
   "outputs": [],
   "source": [
    "from sklearn.metrics import accuracy_score"
   ]
  },
  {
   "cell_type": "code",
   "execution_count": 90,
   "metadata": {},
   "outputs": [
    {
     "data": {
      "text/plain": [
       "0.6964285714285714"
      ]
     },
     "execution_count": 90,
     "metadata": {},
     "output_type": "execute_result"
    }
   ],
   "source": [
    "accuracy_score(test_targets, y_pred)"
   ]
  },
  {
   "cell_type": "code",
   "execution_count": 91,
   "metadata": {},
   "outputs": [],
   "source": [
    "from sklearn.metrics import confusion_matrix"
   ]
  },
  {
   "cell_type": "code",
   "execution_count": 92,
   "metadata": {},
   "outputs": [
    {
     "data": {
      "text/plain": [
       "array([[128,  15],\n",
       "       [ 52,  28]])"
      ]
     },
     "execution_count": 92,
     "metadata": {},
     "output_type": "execute_result"
    }
   ],
   "source": [
    "confusion_matrix(test_targets, y_pred, labels=[False, True])"
   ]
  },
  {
   "cell_type": "markdown",
   "metadata": {},
   "source": [
    "### Build a Gaussian Naive Bayes Model "
   ]
  },
  {
   "cell_type": "code",
   "execution_count": 93,
   "metadata": {},
   "outputs": [],
   "source": [
    "from sklearn.naive_bayes import GaussianNB"
   ]
  },
  {
   "cell_type": "code",
   "execution_count": 94,
   "metadata": {},
   "outputs": [],
   "source": [
    "gnb = GaussianNB()"
   ]
  },
  {
   "cell_type": "code",
   "execution_count": 95,
   "metadata": {},
   "outputs": [
    {
     "data": {
      "text/plain": [
       "GaussianNB(priors=None)"
      ]
     },
     "execution_count": 95,
     "metadata": {},
     "output_type": "execute_result"
    }
   ],
   "source": [
    "gnb.fit(train_data, train_targets)"
   ]
  },
  {
   "cell_type": "code",
   "execution_count": 96,
   "metadata": {},
   "outputs": [],
   "source": [
    "y_pred = gnb.predict(test_data)"
   ]
  },
  {
   "cell_type": "code",
   "execution_count": 97,
   "metadata": {},
   "outputs": [
    {
     "data": {
      "text/plain": [
       "0.6383928571428571"
      ]
     },
     "execution_count": 97,
     "metadata": {},
     "output_type": "execute_result"
    }
   ],
   "source": [
    "accuracy_score(test_targets, y_pred)"
   ]
  },
  {
   "cell_type": "code",
   "execution_count": 98,
   "metadata": {},
   "outputs": [
    {
     "data": {
      "text/plain": [
       "array([[143,   1],\n",
       "       [ 80,   0]])"
      ]
     },
     "execution_count": 98,
     "metadata": {},
     "output_type": "execute_result"
    }
   ],
   "source": [
    "confusion_matrix(test_targets, y_pred, labels=[False, True])"
   ]
  },
  {
   "cell_type": "markdown",
   "metadata": {},
   "source": [
    "### Build a KNN model"
   ]
  },
  {
   "cell_type": "code",
   "execution_count": 99,
   "metadata": {},
   "outputs": [],
   "source": [
    "from sklearn.neighbors import KNeighborsClassifier"
   ]
  },
  {
   "cell_type": "code",
   "execution_count": 100,
   "metadata": {},
   "outputs": [
    {
     "data": {
      "text/plain": [
       "KNeighborsClassifier(algorithm='auto', leaf_size=30, metric='minkowski',\n",
       "           metric_params=None, n_jobs=1, n_neighbors=20, p=2,\n",
       "           weights='uniform')"
      ]
     },
     "execution_count": 100,
     "metadata": {},
     "output_type": "execute_result"
    }
   ],
   "source": [
    "knn = KNeighborsClassifier(n_neighbors=20)\n",
    "knn.fit(train_data, train_targets)"
   ]
  },
  {
   "cell_type": "code",
   "execution_count": 101,
   "metadata": {},
   "outputs": [],
   "source": [
    "y_pred = knn.predict(test_data)"
   ]
  },
  {
   "cell_type": "code",
   "execution_count": 102,
   "metadata": {},
   "outputs": [
    {
     "data": {
      "text/plain": [
       "0.6517857142857143"
      ]
     },
     "execution_count": 102,
     "metadata": {},
     "output_type": "execute_result"
    }
   ],
   "source": [
    "accuracy_score(test_targets, y_pred)"
   ]
  },
  {
   "cell_type": "code",
   "execution_count": 103,
   "metadata": {},
   "outputs": [
    {
     "data": {
      "text/plain": [
       "array([[138,   6],\n",
       "       [ 72,   8]])"
      ]
     },
     "execution_count": 103,
     "metadata": {},
     "output_type": "execute_result"
    }
   ],
   "source": [
    "confusion_matrix(test_targets, y_pred, labels=[False, True])"
   ]
  },
  {
   "cell_type": "markdown",
   "metadata": {},
   "source": [
    "### Build a SVM model"
   ]
  },
  {
   "cell_type": "code",
   "execution_count": 104,
   "metadata": {},
   "outputs": [],
   "source": [
    "from sklearn.svm import SVC"
   ]
  },
  {
   "cell_type": "code",
   "execution_count": 105,
   "metadata": {},
   "outputs": [],
   "source": [
    "svm = SVC(kernel='linear')"
   ]
  },
  {
   "cell_type": "code",
   "execution_count": 106,
   "metadata": {},
   "outputs": [
    {
     "data": {
      "text/plain": [
       "SVC(C=1.0, cache_size=200, class_weight=None, coef0=0.0,\n",
       "  decision_function_shape='ovr', degree=3, gamma='auto', kernel='linear',\n",
       "  max_iter=-1, probability=False, random_state=None, shrinking=True,\n",
       "  tol=0.001, verbose=False)"
      ]
     },
     "execution_count": 106,
     "metadata": {},
     "output_type": "execute_result"
    }
   ],
   "source": [
    "svm.fit(train_data, train_targets)"
   ]
  },
  {
   "cell_type": "code",
   "execution_count": 107,
   "metadata": {},
   "outputs": [],
   "source": [
    "y_pred = svm.predict(test_data)"
   ]
  },
  {
   "cell_type": "code",
   "execution_count": 108,
   "metadata": {},
   "outputs": [
    {
     "data": {
      "text/plain": [
       "0.6919642857142857"
      ]
     },
     "execution_count": 108,
     "metadata": {},
     "output_type": "execute_result"
    }
   ],
   "source": [
    "accuracy_score(test_targets, y_pred)"
   ]
  },
  {
   "cell_type": "code",
   "execution_count": 109,
   "metadata": {},
   "outputs": [
    {
     "data": {
      "text/plain": [
       "array([[137,   7],\n",
       "       [ 62,  18]])"
      ]
     },
     "execution_count": 109,
     "metadata": {},
     "output_type": "execute_result"
    }
   ],
   "source": [
    "confusion_matrix(test_targets, y_pred, labels=[False, True])"
   ]
  },
  {
   "cell_type": "code",
   "execution_count": 110,
   "metadata": {},
   "outputs": [
    {
     "data": {
      "text/plain": [
       "array([[-3.07415620e-02, -1.23535789e-01, -8.44664215e-02,\n",
       "        -3.76171833e-01, -3.28974089e-02, -6.06447516e-03,\n",
       "         1.80427375e-01, -2.23939334e-01,  1.07474805e-01,\n",
       "         1.34989898e-01,  1.76957334e-02, -1.59042021e-01,\n",
       "         4.32112831e-02,  3.71200831e-03, -2.42749612e-02,\n",
       "        -1.72214337e-01, -1.03286420e-02,  9.16242564e-02,\n",
       "        -1.17559187e-01, -6.53984652e-02,  3.93177198e-01,\n",
       "        -1.85389890e-01,  6.71719089e-02, -1.06759198e-01,\n",
       "        -3.25131756e-02,  2.77975018e-02, -2.73400044e-02,\n",
       "        -1.37758689e-03, -1.14314829e-02, -7.51425893e-02,\n",
       "        -3.31661504e-02,  1.22378498e-01,  1.29059692e-02,\n",
       "        -1.10055584e-01, -4.40874804e-01, -7.42070588e-02,\n",
       "         4.67748404e-01, -2.13679631e-01,  3.05574146e-03,\n",
       "         6.67177729e-02, -6.81813199e-02,  1.04219449e-01,\n",
       "        -8.11556264e-02,  3.13586016e-01, -2.71530591e-02,\n",
       "        -4.17673702e-02, -9.78412348e-02,  3.40858822e-01,\n",
       "        -8.34491873e-02, -1.02806243e-01,  8.09321612e-03,\n",
       "         1.75638063e+00, -1.51247010e+00,  1.70964830e-01,\n",
       "        -4.48701651e-02,  8.21090546e-02, -1.98609186e-02,\n",
       "         3.28746768e-02, -2.51622634e-02,  1.07902847e-02,\n",
       "         3.68969469e-02, -1.09410063e-02, -7.64506747e-03,\n",
       "         7.64506747e-03]])"
      ]
     },
     "execution_count": 110,
     "metadata": {},
     "output_type": "execute_result"
    }
   ],
   "source": [
    "svm.coef_"
   ]
  },
  {
   "cell_type": "markdown",
   "metadata": {},
   "source": [
    "### Build Grandient Booster"
   ]
  },
  {
   "cell_type": "code",
   "execution_count": 111,
   "metadata": {},
   "outputs": [],
   "source": [
    "from sklearn.ensemble import GradientBoostingClassifier"
   ]
  },
  {
   "cell_type": "code",
   "execution_count": 112,
   "metadata": {},
   "outputs": [],
   "source": [
    "gbc = GradientBoostingClassifier()"
   ]
  },
  {
   "cell_type": "code",
   "execution_count": 113,
   "metadata": {},
   "outputs": [
    {
     "data": {
      "text/plain": [
       "GradientBoostingClassifier(criterion='friedman_mse', init=None,\n",
       "              learning_rate=0.1, loss='deviance', max_depth=3,\n",
       "              max_features=None, max_leaf_nodes=None,\n",
       "              min_impurity_decrease=0.0, min_impurity_split=None,\n",
       "              min_samples_leaf=1, min_samples_split=2,\n",
       "              min_weight_fraction_leaf=0.0, n_estimators=100,\n",
       "              presort='auto', random_state=None, subsample=1.0, verbose=0,\n",
       "              warm_start=False)"
      ]
     },
     "execution_count": 113,
     "metadata": {},
     "output_type": "execute_result"
    }
   ],
   "source": [
    "gbc.fit(train_data, train_targets)"
   ]
  },
  {
   "cell_type": "code",
   "execution_count": 114,
   "metadata": {},
   "outputs": [],
   "source": [
    "y_pred = gbc.predict(test_data)"
   ]
  },
  {
   "cell_type": "code",
   "execution_count": 115,
   "metadata": {},
   "outputs": [
    {
     "data": {
      "text/plain": [
       "0.6785714285714286"
      ]
     },
     "execution_count": 115,
     "metadata": {},
     "output_type": "execute_result"
    }
   ],
   "source": [
    "accuracy_score(test_targets, y_pred)"
   ]
  },
  {
   "cell_type": "code",
   "execution_count": 116,
   "metadata": {},
   "outputs": [
    {
     "data": {
      "text/plain": [
       "array([[128,  16],\n",
       "       [ 56,  24]])"
      ]
     },
     "execution_count": 116,
     "metadata": {},
     "output_type": "execute_result"
    }
   ],
   "source": [
    "confusion_matrix(test_targets, y_pred, labels=[False, True])"
   ]
  },
  {
   "cell_type": "markdown",
   "metadata": {},
   "source": [
    "### Build XGBooster"
   ]
  },
  {
   "cell_type": "code",
   "execution_count": 117,
   "metadata": {},
   "outputs": [],
   "source": [
    "import xgboost"
   ]
  },
  {
   "cell_type": "code",
   "execution_count": 118,
   "metadata": {},
   "outputs": [],
   "source": [
    "xgb_model = xgboost.XGBRegressor(objective=\"reg:linear\", random_state=4)"
   ]
  },
  {
   "cell_type": "code",
   "execution_count": 119,
   "metadata": {},
   "outputs": [
    {
     "name": "stderr",
     "output_type": "stream",
     "text": [
      "/home/lance/anaconda3/lib/python3.6/site-packages/xgboost/core.py:587: FutureWarning: Series.base is deprecated and will be removed in a future version\n",
      "  if getattr(data, 'base', None) is not None and \\\n"
     ]
    },
    {
     "data": {
      "text/plain": [
       "XGBRegressor(base_score=0.5, booster='gbtree', colsample_bylevel=1,\n",
       "       colsample_bytree=1, gamma=0, importance_type='gain',\n",
       "       learning_rate=0.1, max_delta_step=0, max_depth=3,\n",
       "       min_child_weight=1, missing=None, n_estimators=100, n_jobs=1,\n",
       "       nthread=None, objective='reg:linear', random_state=4, reg_alpha=0,\n",
       "       reg_lambda=1, scale_pos_weight=1, seed=None, silent=True,\n",
       "       subsample=1)"
      ]
     },
     "execution_count": 119,
     "metadata": {},
     "output_type": "execute_result"
    }
   ],
   "source": [
    "xgb_model.fit(train_data, train_targets)"
   ]
  },
  {
   "cell_type": "code",
   "execution_count": 120,
   "metadata": {},
   "outputs": [],
   "source": [
    "y_pred = np.round(xgb_model.predict(test_data))"
   ]
  },
  {
   "cell_type": "code",
   "execution_count": 121,
   "metadata": {},
   "outputs": [
    {
     "data": {
      "text/plain": [
       "0.6741071428571429"
      ]
     },
     "execution_count": 121,
     "metadata": {},
     "output_type": "execute_result"
    }
   ],
   "source": [
    "accuracy_score(test_targets, y_pred)"
   ]
  },
  {
   "cell_type": "code",
   "execution_count": 122,
   "metadata": {},
   "outputs": [
    {
     "data": {
      "text/plain": [
       "array([[132,  12],\n",
       "       [ 61,  19]])"
      ]
     },
     "execution_count": 122,
     "metadata": {},
     "output_type": "execute_result"
    }
   ],
   "source": [
    "confusion_matrix(test_targets, y_pred, labels=[False, True])"
   ]
  },
  {
   "cell_type": "markdown",
   "metadata": {},
   "source": [
    "### Build a neural network"
   ]
  },
  {
   "cell_type": "code",
   "execution_count": 123,
   "metadata": {},
   "outputs": [
    {
     "name": "stderr",
     "output_type": "stream",
     "text": [
      "/home/lance/anaconda3/lib/python3.6/site-packages/h5py/__init__.py:36: FutureWarning: Conversion of the second argument of issubdtype from `float` to `np.floating` is deprecated. In future, it will be treated as `np.float64 == np.dtype(float).type`.\n",
      "  from ._conv import register_converters as _register_converters\n",
      "Using TensorFlow backend.\n"
     ]
    }
   ],
   "source": [
    "import tensorflow as tf\n",
    "from keras.models import Sequential\n",
    "from keras.layers import Dense"
   ]
  },
  {
   "cell_type": "code",
   "execution_count": 124,
   "metadata": {},
   "outputs": [
    {
     "data": {
      "text/plain": [
       "(896, 64)"
      ]
     },
     "execution_count": 124,
     "metadata": {},
     "output_type": "execute_result"
    }
   ],
   "source": [
    "train_data.shape"
   ]
  },
  {
   "cell_type": "code",
   "execution_count": 125,
   "metadata": {},
   "outputs": [],
   "source": [
    "nn = Sequential()\n",
    "nn.add(Dense(70, input_dim=64, activation='relu'))\n",
    "nn.add(Dense(50, activation='relu'))\n",
    "nn.add(Dense(20, activation='relu'))\n",
    "nn.add(Dense(5, activation='relu'))\n",
    "nn.add(Dense(1, activation='sigmoid'))"
   ]
  },
  {
   "cell_type": "code",
   "execution_count": 126,
   "metadata": {},
   "outputs": [],
   "source": [
    "nn.compile(loss='binary_crossentropy', optimizer='adam', metrics=['accuracy'])"
   ]
  },
  {
   "cell_type": "code",
   "execution_count": 127,
   "metadata": {},
   "outputs": [
    {
     "name": "stdout",
     "output_type": "stream",
     "text": [
      "Epoch 1/10\n",
      "896/896 [==============================] - 1s 669us/step - loss: 0.6518 - acc: 0.6641\n",
      "Epoch 2/10\n",
      "896/896 [==============================] - 0s 194us/step - loss: 0.6016 - acc: 0.6708\n",
      "Epoch 3/10\n",
      "896/896 [==============================] - 0s 187us/step - loss: 0.5767 - acc: 0.6708\n",
      "Epoch 4/10\n",
      "896/896 [==============================] - 0s 212us/step - loss: 0.5503 - acc: 0.6730\n",
      "Epoch 5/10\n",
      "896/896 [==============================] - 0s 206us/step - loss: 0.5209 - acc: 0.7042\n",
      "Epoch 6/10\n",
      "896/896 [==============================] - 0s 186us/step - loss: 0.5003 - acc: 0.7422\n",
      "Epoch 7/10\n",
      "896/896 [==============================] - 0s 173us/step - loss: 0.4594 - acc: 0.7779\n",
      "Epoch 8/10\n",
      "896/896 [==============================] - 0s 186us/step - loss: 0.4245 - acc: 0.8025\n",
      "Epoch 9/10\n",
      "896/896 [==============================] - 0s 172us/step - loss: 0.3886 - acc: 0.8404\n",
      "Epoch 10/10\n",
      "896/896 [==============================] - 0s 188us/step - loss: 0.3427 - acc: 0.8616\n"
     ]
    },
    {
     "data": {
      "text/plain": [
       "<keras.callbacks.History at 0x7f86356b0ef0>"
      ]
     },
     "execution_count": 127,
     "metadata": {},
     "output_type": "execute_result"
    }
   ],
   "source": [
    "nn.fit(train_data, train_targets, epochs=10, batch_size=10)"
   ]
  },
  {
   "cell_type": "code",
   "execution_count": 128,
   "metadata": {},
   "outputs": [],
   "source": [
    "y_pred = np.round(nn.predict(test_data))"
   ]
  },
  {
   "cell_type": "code",
   "execution_count": 129,
   "metadata": {},
   "outputs": [
    {
     "data": {
      "text/plain": [
       "0.6517857142857143"
      ]
     },
     "execution_count": 129,
     "metadata": {},
     "output_type": "execute_result"
    }
   ],
   "source": [
    "accuracy_score(test_targets, y_pred)"
   ]
  },
  {
   "cell_type": "code",
   "execution_count": 130,
   "metadata": {},
   "outputs": [
    {
     "data": {
      "text/plain": [
       "array([[120,  24],\n",
       "       [ 54,  26]])"
      ]
     },
     "execution_count": 130,
     "metadata": {},
     "output_type": "execute_result"
    }
   ],
   "source": [
    "confusion_matrix(test_targets, y_pred, labels=[False, True])"
   ]
  },
  {
   "cell_type": "markdown",
   "metadata": {},
   "source": [
    "### Do recursive feature elimination with the SVM model"
   ]
  },
  {
   "cell_type": "code",
   "execution_count": 131,
   "metadata": {},
   "outputs": [],
   "source": [
    "from sklearn.feature_selection import RFE"
   ]
  },
  {
   "cell_type": "code",
   "execution_count": 132,
   "metadata": {},
   "outputs": [],
   "source": [
    "eliminator = RFE(svm, n_features_to_select=10)"
   ]
  },
  {
   "cell_type": "code",
   "execution_count": 133,
   "metadata": {},
   "outputs": [
    {
     "data": {
      "text/plain": [
       "RFE(estimator=SVC(C=1.0, cache_size=200, class_weight=None, coef0=0.0,\n",
       "  decision_function_shape='ovr', degree=3, gamma='auto', kernel='linear',\n",
       "  max_iter=-1, probability=False, random_state=None, shrinking=True,\n",
       "  tol=0.001, verbose=False),\n",
       "  n_features_to_select=10, step=1, verbose=0)"
      ]
     },
     "execution_count": 133,
     "metadata": {},
     "output_type": "execute_result"
    }
   ],
   "source": [
    "eliminator.fit(train_data, train_targets)"
   ]
  },
  {
   "cell_type": "code",
   "execution_count": 134,
   "metadata": {},
   "outputs": [
    {
     "data": {
      "text/plain": [
       "array([False, False, False,  True,  True, False, False, False, False,\n",
       "       False, False,  True, False, False, False, False, False, False,\n",
       "       False, False,  True,  True, False, False, False, False, False,\n",
       "       False, False, False, False, False, False, False,  True, False,\n",
       "       False, False, False, False, False, False, False,  True, False,\n",
       "       False, False, False, False, False, False,  True,  True, False,\n",
       "       False,  True, False, False, False, False, False, False, False,\n",
       "       False])"
      ]
     },
     "execution_count": 134,
     "metadata": {},
     "output_type": "execute_result"
    }
   ],
   "source": [
    "eliminator.support_"
   ]
  },
  {
   "cell_type": "code",
   "execution_count": 135,
   "metadata": {},
   "outputs": [
    {
     "data": {
      "text/plain": [
       "['Protein (gm)',\n",
       " 'Carbohydrate (gm)',\n",
       " 'Cholesterol (mg)',\n",
       " 'Lutein + zeaxanthin (mcg)',\n",
       " 'Thiamin (Vitamin B1) (mg)',\n",
       " 'Vitamin K (mcg)',\n",
       " 'Selenium (mcg)',\n",
       " 'height (cm)',\n",
       " 'age',\n",
       " 'calorie_excess']"
      ]
     },
     "execution_count": 135,
     "metadata": {},
     "output_type": "execute_result"
    }
   ],
   "source": [
    "kept_features = []\n",
    "for col, keeper in zip(train_data.columns, eliminator.support_):\n",
    "    if keeper:\n",
    "        kept_features.append(col)\n",
    "kept_features"
   ]
  },
  {
   "cell_type": "code",
   "execution_count": 136,
   "metadata": {},
   "outputs": [
    {
     "data": {
      "text/plain": [
       "['Respondent sequence number',\n",
       " 'Number of foods reported',\n",
       " 'Energy (kcal)',\n",
       " 'Total sugars (gm)',\n",
       " 'Dietary fiber (gm)',\n",
       " 'Total fat (gm)',\n",
       " 'Total saturated fatty acids (gm)',\n",
       " 'Total monounsaturated fatty acids (gm)',\n",
       " 'Total polyunsaturated fatty acids (gm)',\n",
       " 'Vitamin E as alpha-tocopherol (mg)',\n",
       " 'Added alpha-tocopherol (Vitamin E) (mg)',\n",
       " 'Retinol (mcg)',\n",
       " 'Vitamin A, RAE (mcg)',\n",
       " 'Alpha-carotene (mcg)',\n",
       " 'Beta-carotene (mcg)',\n",
       " 'Beta-cryptoxanthin (mcg)',\n",
       " 'Lycopene (mcg)',\n",
       " 'Riboflavin (Vitamin B2) (mg)',\n",
       " 'Niacin (mg)',\n",
       " 'Vitamin B6 (mg)',\n",
       " 'Total folate (mcg)',\n",
       " 'Folic acid (mcg)',\n",
       " 'Food folate (mcg)',\n",
       " 'Folate, DFE (mcg)',\n",
       " 'Total choline (mg)',\n",
       " 'Vitamin B12 (mcg)',\n",
       " 'Added vitamin B12 (mcg)',\n",
       " 'Vitamin C (mg)',\n",
       " 'Vitamin D (D2 + D3) (mcg)',\n",
       " 'Calcium (mg)',\n",
       " 'Phosphorus (mg)',\n",
       " 'Magnesium (mg)',\n",
       " 'Iron (mg)',\n",
       " 'Zinc (mg)',\n",
       " 'Copper (mg)',\n",
       " 'Sodium (mg)',\n",
       " 'Potassium (mg)',\n",
       " 'Caffeine (mg)',\n",
       " 'Theobromine (mg)',\n",
       " 'Alcohol (gm)',\n",
       " 'Moisture (gm)',\n",
       " 'Total plain water drank yesterday (gm)',\n",
       " 'Total tap water drank yesterday (gm)',\n",
       " 'Total bottled water drank yesterday (gm)',\n",
       " 'macro_deviation',\n",
       " 'nutrient_deviation',\n",
       " 'Tap water source_1.0',\n",
       " 'Tap water source_2.0',\n",
       " 'Tap water source_3.0',\n",
       " 'Tap water source_4.0',\n",
       " 'Tap water source_91.0',\n",
       " 'Tap water source_99.0',\n",
       " 'gender_1.0',\n",
       " 'gender_2.0']"
      ]
     },
     "execution_count": 136,
     "metadata": {},
     "output_type": "execute_result"
    }
   ],
   "source": [
    "lost_features = []\n",
    "for col, keeper in zip(train_data.columns, eliminator.support_):\n",
    "    if not keeper:\n",
    "        lost_features.append(col)\n",
    "lost_features"
   ]
  },
  {
   "cell_type": "markdown",
   "metadata": {},
   "source": [
    "### SVM with the 'most important' features"
   ]
  },
  {
   "cell_type": "code",
   "execution_count": 137,
   "metadata": {},
   "outputs": [],
   "source": [
    "new_train_data = train_data[kept_features]\n",
    "new_test_data = test_data[kept_features]"
   ]
  },
  {
   "cell_type": "code",
   "execution_count": 138,
   "metadata": {},
   "outputs": [
    {
     "data": {
      "text/plain": [
       "SVC(C=1.0, cache_size=200, class_weight=None, coef0=0.0,\n",
       "  decision_function_shape='ovr', degree=3, gamma='auto', kernel='linear',\n",
       "  max_iter=-1, probability=False, random_state=None, shrinking=True,\n",
       "  tol=0.001, verbose=False)"
      ]
     },
     "execution_count": 138,
     "metadata": {},
     "output_type": "execute_result"
    }
   ],
   "source": [
    "svm.fit(new_train_data, train_targets)"
   ]
  },
  {
   "cell_type": "code",
   "execution_count": 139,
   "metadata": {},
   "outputs": [],
   "source": [
    "y_pred = svm.predict(new_test_data)"
   ]
  },
  {
   "cell_type": "code",
   "execution_count": 140,
   "metadata": {},
   "outputs": [
    {
     "data": {
      "text/plain": [
       "0.6428571428571429"
      ]
     },
     "execution_count": 140,
     "metadata": {},
     "output_type": "execute_result"
    }
   ],
   "source": [
    "accuracy_score(test_targets, y_pred)"
   ]
  },
  {
   "cell_type": "code",
   "execution_count": 141,
   "metadata": {},
   "outputs": [
    {
     "data": {
      "text/plain": [
       "array([[144,   0],\n",
       "       [ 80,   0]])"
      ]
     },
     "execution_count": 141,
     "metadata": {},
     "output_type": "execute_result"
    }
   ],
   "source": [
    "confusion_matrix(test_targets, y_pred, labels=[False, True])"
   ]
  },
  {
   "cell_type": "markdown",
   "metadata": {},
   "source": [
    "### SVM with the 'least important' features"
   ]
  },
  {
   "cell_type": "code",
   "execution_count": 142,
   "metadata": {},
   "outputs": [],
   "source": [
    "new2_train_data = train_data[lost_features]\n",
    "new2_test_data = test_data[lost_features]"
   ]
  },
  {
   "cell_type": "code",
   "execution_count": 143,
   "metadata": {},
   "outputs": [
    {
     "data": {
      "text/plain": [
       "SVC(C=1.0, cache_size=200, class_weight=None, coef0=0.0,\n",
       "  decision_function_shape='ovr', degree=3, gamma='auto', kernel='linear',\n",
       "  max_iter=-1, probability=False, random_state=None, shrinking=True,\n",
       "  tol=0.001, verbose=False)"
      ]
     },
     "execution_count": 143,
     "metadata": {},
     "output_type": "execute_result"
    }
   ],
   "source": [
    "svm.fit(new2_train_data, train_targets)"
   ]
  },
  {
   "cell_type": "code",
   "execution_count": 144,
   "metadata": {},
   "outputs": [],
   "source": [
    "y_pred = svm.predict(new2_test_data)"
   ]
  },
  {
   "cell_type": "code",
   "execution_count": 145,
   "metadata": {},
   "outputs": [
    {
     "data": {
      "text/plain": [
       "0.6428571428571429"
      ]
     },
     "execution_count": 145,
     "metadata": {},
     "output_type": "execute_result"
    }
   ],
   "source": [
    "accuracy_score(test_targets, y_pred)"
   ]
  },
  {
   "cell_type": "code",
   "execution_count": 146,
   "metadata": {},
   "outputs": [
    {
     "data": {
      "text/plain": [
       "array([[144,   0],\n",
       "       [ 80,   0]])"
      ]
     },
     "execution_count": 146,
     "metadata": {},
     "output_type": "execute_result"
    }
   ],
   "source": [
    "confusion_matrix(test_targets, y_pred, labels=[False, True])"
   ]
  },
  {
   "cell_type": "markdown",
   "metadata": {},
   "source": [
    "### NN With the most important features"
   ]
  },
  {
   "cell_type": "code",
   "execution_count": 147,
   "metadata": {},
   "outputs": [],
   "source": [
    "nn = Sequential()\n",
    "nn.add(Dense(8, input_dim=10, activation='relu'))\n",
    "nn.add(Dense(5, activation='relu'))\n",
    "nn.add(Dense(2, activation='relu'))\n",
    "nn.add(Dense(1, activation='sigmoid'))"
   ]
  },
  {
   "cell_type": "code",
   "execution_count": 148,
   "metadata": {},
   "outputs": [],
   "source": [
    "nn.compile(loss='binary_crossentropy', optimizer='adam', metrics=['accuracy'])"
   ]
  },
  {
   "cell_type": "code",
   "execution_count": 149,
   "metadata": {},
   "outputs": [
    {
     "name": "stdout",
     "output_type": "stream",
     "text": [
      "Epoch 1/30\n",
      "896/896 [==============================] - 1s 625us/step - loss: 0.6691 - acc: 0.6708\n",
      "Epoch 2/30\n",
      "896/896 [==============================] - 0s 159us/step - loss: 0.6393 - acc: 0.6708\n",
      "Epoch 3/30\n",
      "896/896 [==============================] - 0s 157us/step - loss: 0.6257 - acc: 0.6708\n",
      "Epoch 4/30\n",
      "896/896 [==============================] - 0s 161us/step - loss: 0.6202 - acc: 0.6708\n",
      "Epoch 5/30\n",
      "896/896 [==============================] - 0s 141us/step - loss: 0.6171 - acc: 0.6708\n",
      "Epoch 6/30\n",
      "896/896 [==============================] - 0s 167us/step - loss: 0.6146 - acc: 0.6708\n",
      "Epoch 7/30\n",
      "896/896 [==============================] - 0s 164us/step - loss: 0.6126 - acc: 0.6708\n",
      "Epoch 8/30\n",
      "896/896 [==============================] - 0s 166us/step - loss: 0.6105 - acc: 0.6708\n",
      "Epoch 9/30\n",
      "896/896 [==============================] - 0s 164us/step - loss: 0.6091 - acc: 0.6708\n",
      "Epoch 10/30\n",
      "896/896 [==============================] - 0s 162us/step - loss: 0.6076 - acc: 0.6708\n",
      "Epoch 11/30\n",
      "896/896 [==============================] - 0s 163us/step - loss: 0.6059 - acc: 0.6708\n",
      "Epoch 12/30\n",
      "896/896 [==============================] - 0s 176us/step - loss: 0.6043 - acc: 0.6708\n",
      "Epoch 13/30\n",
      "896/896 [==============================] - 0s 168us/step - loss: 0.6031 - acc: 0.6708\n",
      "Epoch 14/30\n",
      "896/896 [==============================] - 0s 150us/step - loss: 0.6024 - acc: 0.6708\n",
      "Epoch 15/30\n",
      "896/896 [==============================] - 0s 175us/step - loss: 0.6005 - acc: 0.6708\n",
      "Epoch 16/30\n",
      "896/896 [==============================] - 0s 167us/step - loss: 0.5998 - acc: 0.6708\n",
      "Epoch 17/30\n",
      "896/896 [==============================] - 0s 161us/step - loss: 0.5987 - acc: 0.6708\n",
      "Epoch 18/30\n",
      "896/896 [==============================] - 0s 151us/step - loss: 0.5968 - acc: 0.6708\n",
      "Epoch 19/30\n",
      "896/896 [==============================] - 0s 165us/step - loss: 0.5949 - acc: 0.6708\n",
      "Epoch 20/30\n",
      "896/896 [==============================] - 0s 162us/step - loss: 0.5929 - acc: 0.6708\n",
      "Epoch 21/30\n",
      "896/896 [==============================] - 0s 173us/step - loss: 0.5899 - acc: 0.6708\n",
      "Epoch 22/30\n",
      "896/896 [==============================] - 0s 170us/step - loss: 0.5882 - acc: 0.6708\n",
      "Epoch 23/30\n",
      "896/896 [==============================] - 0s 159us/step - loss: 0.5865 - acc: 0.6708\n",
      "Epoch 24/30\n",
      "896/896 [==============================] - 0s 153us/step - loss: 0.5845 - acc: 0.6685\n",
      "Epoch 25/30\n",
      "896/896 [==============================] - 0s 163us/step - loss: 0.5834 - acc: 0.6886\n",
      "Epoch 26/30\n",
      "896/896 [==============================] - 0s 164us/step - loss: 0.5812 - acc: 0.6942\n",
      "Epoch 27/30\n",
      "896/896 [==============================] - 0s 150us/step - loss: 0.5803 - acc: 0.6953\n",
      "Epoch 28/30\n",
      "896/896 [==============================] - 0s 158us/step - loss: 0.5788 - acc: 0.6998\n",
      "Epoch 29/30\n",
      "896/896 [==============================] - 0s 167us/step - loss: 0.5782 - acc: 0.6964\n",
      "Epoch 30/30\n",
      "896/896 [==============================] - 0s 161us/step - loss: 0.5761 - acc: 0.6975\n"
     ]
    },
    {
     "data": {
      "text/plain": [
       "<keras.callbacks.History at 0x7f86345cf3c8>"
      ]
     },
     "execution_count": 149,
     "metadata": {},
     "output_type": "execute_result"
    }
   ],
   "source": [
    "nn.fit(new_train_data, train_targets, epochs=30, batch_size=10)"
   ]
  },
  {
   "cell_type": "code",
   "execution_count": 150,
   "metadata": {},
   "outputs": [],
   "source": [
    "y_pred = np.round(nn.predict(new_test_data))"
   ]
  },
  {
   "cell_type": "code",
   "execution_count": 151,
   "metadata": {},
   "outputs": [
    {
     "data": {
      "text/plain": [
       "0.6607142857142857"
      ]
     },
     "execution_count": 151,
     "metadata": {},
     "output_type": "execute_result"
    }
   ],
   "source": [
    "accuracy_score(test_targets, y_pred)"
   ]
  },
  {
   "cell_type": "code",
   "execution_count": 152,
   "metadata": {},
   "outputs": [
    {
     "data": {
      "text/plain": [
       "array([[133,  11],\n",
       "       [ 65,  15]])"
      ]
     },
     "execution_count": 152,
     "metadata": {},
     "output_type": "execute_result"
    }
   ],
   "source": [
    "confusion_matrix(test_targets, y_pred, labels=[False, True])"
   ]
  },
  {
   "cell_type": "markdown",
   "metadata": {},
   "source": [
    "### Recursive features elimination with a linear regression"
   ]
  },
  {
   "cell_type": "code",
   "execution_count": 153,
   "metadata": {},
   "outputs": [],
   "source": [
    "eliminator = RFE(lr, n_features_to_select=10)"
   ]
  },
  {
   "cell_type": "code",
   "execution_count": 154,
   "metadata": {},
   "outputs": [
    {
     "data": {
      "text/plain": [
       "RFE(estimator=LinearRegression(copy_X=True, fit_intercept=True, n_jobs=1, normalize=False),\n",
       "  n_features_to_select=10, step=1, verbose=0)"
      ]
     },
     "execution_count": 154,
     "metadata": {},
     "output_type": "execute_result"
    }
   ],
   "source": [
    "eliminator.fit(train_data, train_targets)"
   ]
  },
  {
   "cell_type": "code",
   "execution_count": 155,
   "metadata": {},
   "outputs": [
    {
     "data": {
      "text/plain": [
       "array([False, False,  True, False, False, False, False, False, False,\n",
       "       False, False, False, False, False, False,  True, False, False,\n",
       "       False, False, False, False, False, False, False,  True,  True,\n",
       "        True,  True, False, False, False, False, False, False, False,\n",
       "       False, False, False, False, False, False, False, False, False,\n",
       "       False, False, False, False, False, False,  True,  True, False,\n",
       "       False,  True, False, False, False, False, False, False,  True,\n",
       "       False])"
      ]
     },
     "execution_count": 155,
     "metadata": {},
     "output_type": "execute_result"
    }
   ],
   "source": [
    "eliminator.support_"
   ]
  },
  {
   "cell_type": "code",
   "execution_count": 156,
   "metadata": {},
   "outputs": [
    {
     "data": {
      "text/plain": [
       "['Energy (kcal)',\n",
       " 'Vitamin A, RAE (mcg)',\n",
       " 'Total folate (mcg)',\n",
       " 'Folic acid (mcg)',\n",
       " 'Food folate (mcg)',\n",
       " 'Folate, DFE (mcg)',\n",
       " 'height (cm)',\n",
       " 'age',\n",
       " 'calorie_excess',\n",
       " 'gender_1.0']"
      ]
     },
     "execution_count": 156,
     "metadata": {},
     "output_type": "execute_result"
    }
   ],
   "source": [
    "kept_features = []\n",
    "for col, keeper in zip(train_data.columns, eliminator.support_):\n",
    "    if keeper:\n",
    "        kept_features.append(col)\n",
    "kept_features"
   ]
  },
  {
   "cell_type": "code",
   "execution_count": 157,
   "metadata": {},
   "outputs": [
    {
     "data": {
      "text/plain": [
       "['Respondent sequence number',\n",
       " 'Number of foods reported',\n",
       " 'Protein (gm)',\n",
       " 'Carbohydrate (gm)',\n",
       " 'Total sugars (gm)',\n",
       " 'Dietary fiber (gm)',\n",
       " 'Total fat (gm)',\n",
       " 'Total saturated fatty acids (gm)',\n",
       " 'Total monounsaturated fatty acids (gm)',\n",
       " 'Total polyunsaturated fatty acids (gm)',\n",
       " 'Cholesterol (mg)',\n",
       " 'Vitamin E as alpha-tocopherol (mg)',\n",
       " 'Added alpha-tocopherol (Vitamin E) (mg)',\n",
       " 'Retinol (mcg)',\n",
       " 'Alpha-carotene (mcg)',\n",
       " 'Beta-carotene (mcg)',\n",
       " 'Beta-cryptoxanthin (mcg)',\n",
       " 'Lycopene (mcg)',\n",
       " 'Lutein + zeaxanthin (mcg)',\n",
       " 'Thiamin (Vitamin B1) (mg)',\n",
       " 'Riboflavin (Vitamin B2) (mg)',\n",
       " 'Niacin (mg)',\n",
       " 'Vitamin B6 (mg)',\n",
       " 'Total choline (mg)',\n",
       " 'Vitamin B12 (mcg)',\n",
       " 'Added vitamin B12 (mcg)',\n",
       " 'Vitamin C (mg)',\n",
       " 'Vitamin D (D2 + D3) (mcg)',\n",
       " 'Vitamin K (mcg)',\n",
       " 'Calcium (mg)',\n",
       " 'Phosphorus (mg)',\n",
       " 'Magnesium (mg)',\n",
       " 'Iron (mg)',\n",
       " 'Zinc (mg)',\n",
       " 'Copper (mg)',\n",
       " 'Sodium (mg)',\n",
       " 'Potassium (mg)',\n",
       " 'Selenium (mcg)',\n",
       " 'Caffeine (mg)',\n",
       " 'Theobromine (mg)',\n",
       " 'Alcohol (gm)',\n",
       " 'Moisture (gm)',\n",
       " 'Total plain water drank yesterday (gm)',\n",
       " 'Total tap water drank yesterday (gm)',\n",
       " 'Total bottled water drank yesterday (gm)',\n",
       " 'macro_deviation',\n",
       " 'nutrient_deviation',\n",
       " 'Tap water source_1.0',\n",
       " 'Tap water source_2.0',\n",
       " 'Tap water source_3.0',\n",
       " 'Tap water source_4.0',\n",
       " 'Tap water source_91.0',\n",
       " 'Tap water source_99.0',\n",
       " 'gender_2.0']"
      ]
     },
     "execution_count": 157,
     "metadata": {},
     "output_type": "execute_result"
    }
   ],
   "source": [
    "lost_features = []\n",
    "for col, keeper in zip(train_data.columns, eliminator.support_):\n",
    "    if not keeper:\n",
    "        lost_features.append(col)\n",
    "lost_features"
   ]
  },
  {
   "cell_type": "markdown",
   "metadata": {},
   "source": [
    "### Linear Regression with the 'most important' features"
   ]
  },
  {
   "cell_type": "code",
   "execution_count": 158,
   "metadata": {},
   "outputs": [],
   "source": [
    "new_train_data = train_data[kept_features]\n",
    "new_test_data = test_data[kept_features]"
   ]
  },
  {
   "cell_type": "code",
   "execution_count": 159,
   "metadata": {},
   "outputs": [
    {
     "data": {
      "text/plain": [
       "LinearRegression(copy_X=True, fit_intercept=True, n_jobs=1, normalize=False)"
      ]
     },
     "execution_count": 159,
     "metadata": {},
     "output_type": "execute_result"
    }
   ],
   "source": [
    "lr.fit(new_train_data, train_targets)"
   ]
  },
  {
   "cell_type": "code",
   "execution_count": 160,
   "metadata": {},
   "outputs": [],
   "source": [
    "y_pred = np.round(lr.predict(new_test_data))"
   ]
  },
  {
   "cell_type": "code",
   "execution_count": 161,
   "metadata": {},
   "outputs": [
    {
     "data": {
      "text/plain": [
       "0.7276785714285714"
      ]
     },
     "execution_count": 161,
     "metadata": {},
     "output_type": "execute_result"
    }
   ],
   "source": [
    "accuracy_score(test_targets, y_pred)"
   ]
  },
  {
   "cell_type": "code",
   "execution_count": 162,
   "metadata": {},
   "outputs": [
    {
     "data": {
      "text/plain": [
       "array([[139,   5],\n",
       "       [ 56,  24]])"
      ]
     },
     "execution_count": 162,
     "metadata": {},
     "output_type": "execute_result"
    }
   ],
   "source": [
    "confusion_matrix(test_targets, y_pred, labels=[False, True])"
   ]
  },
  {
   "cell_type": "markdown",
   "metadata": {},
   "source": [
    "### Linear Regression with the 'least important' features"
   ]
  },
  {
   "cell_type": "code",
   "execution_count": 163,
   "metadata": {},
   "outputs": [],
   "source": [
    "new2_train_data = train_data[lost_features]\n",
    "new2_test_data = test_data[lost_features]"
   ]
  },
  {
   "cell_type": "code",
   "execution_count": 164,
   "metadata": {},
   "outputs": [
    {
     "data": {
      "text/plain": [
       "LinearRegression(copy_X=True, fit_intercept=True, n_jobs=1, normalize=False)"
      ]
     },
     "execution_count": 164,
     "metadata": {},
     "output_type": "execute_result"
    }
   ],
   "source": [
    "lr.fit(new2_train_data, train_targets)"
   ]
  },
  {
   "cell_type": "code",
   "execution_count": 165,
   "metadata": {},
   "outputs": [],
   "source": [
    "y_pred = np.round(lr.predict(new2_test_data))"
   ]
  },
  {
   "cell_type": "code",
   "execution_count": 166,
   "metadata": {},
   "outputs": [
    {
     "data": {
      "text/plain": [
       "0.6339285714285714"
      ]
     },
     "execution_count": 166,
     "metadata": {},
     "output_type": "execute_result"
    }
   ],
   "source": [
    "accuracy_score(test_targets, y_pred)"
   ]
  },
  {
   "cell_type": "code",
   "execution_count": 167,
   "metadata": {},
   "outputs": [
    {
     "data": {
      "text/plain": [
       "array([[133,  11],\n",
       "       [ 71,   9]])"
      ]
     },
     "execution_count": 167,
     "metadata": {},
     "output_type": "execute_result"
    }
   ],
   "source": [
    "confusion_matrix(test_targets, y_pred, labels=[False, True])"
   ]
  },
  {
   "cell_type": "markdown",
   "metadata": {},
   "source": [
    "### Linear regression with the features I think matter"
   ]
  },
  {
   "cell_type": "code",
   "execution_count": 168,
   "metadata": {},
   "outputs": [
    {
     "data": {
      "text/plain": [
       "Index(['Respondent sequence number', 'Number of foods reported',\n",
       "       'Energy (kcal)', 'Protein (gm)', 'Carbohydrate (gm)',\n",
       "       'Total sugars (gm)', 'Dietary fiber (gm)', 'Total fat (gm)',\n",
       "       'Total saturated fatty acids (gm)',\n",
       "       'Total monounsaturated fatty acids (gm)',\n",
       "       'Total polyunsaturated fatty acids (gm)', 'Cholesterol (mg)',\n",
       "       'Vitamin E as alpha-tocopherol (mg)',\n",
       "       'Added alpha-tocopherol (Vitamin E) (mg)', 'Retinol (mcg)',\n",
       "       'Vitamin A, RAE (mcg)', 'Alpha-carotene (mcg)', 'Beta-carotene (mcg)',\n",
       "       'Beta-cryptoxanthin (mcg)', 'Lycopene (mcg)',\n",
       "       'Lutein + zeaxanthin (mcg)', 'Thiamin (Vitamin B1) (mg)',\n",
       "       'Riboflavin (Vitamin B2) (mg)', 'Niacin (mg)', 'Vitamin B6 (mg)',\n",
       "       'Total folate (mcg)', 'Folic acid (mcg)', 'Food folate (mcg)',\n",
       "       'Folate, DFE (mcg)', 'Total choline (mg)', 'Vitamin B12 (mcg)',\n",
       "       'Added vitamin B12 (mcg)', 'Vitamin C (mg)',\n",
       "       'Vitamin D (D2 + D3) (mcg)', 'Vitamin K (mcg)', 'Calcium (mg)',\n",
       "       'Phosphorus (mg)', 'Magnesium (mg)', 'Iron (mg)', 'Zinc (mg)',\n",
       "       'Copper (mg)', 'Sodium (mg)', 'Potassium (mg)', 'Selenium (mcg)',\n",
       "       'Caffeine (mg)', 'Theobromine (mg)', 'Alcohol (gm)', 'Moisture (gm)',\n",
       "       'Total plain water drank yesterday (gm)',\n",
       "       'Total tap water drank yesterday (gm)',\n",
       "       'Total bottled water drank yesterday (gm)', 'height (cm)', 'age',\n",
       "       'macro_deviation', 'nutrient_deviation', 'calorie_excess',\n",
       "       'Tap water source_1.0', 'Tap water source_2.0', 'Tap water source_3.0',\n",
       "       'Tap water source_4.0', 'Tap water source_91.0',\n",
       "       'Tap water source_99.0', 'gender_1.0', 'gender_2.0'],\n",
       "      dtype='object')"
      ]
     },
     "execution_count": 168,
     "metadata": {},
     "output_type": "execute_result"
    }
   ],
   "source": [
    "data.columns"
   ]
  },
  {
   "cell_type": "code",
   "execution_count": 169,
   "metadata": {},
   "outputs": [],
   "source": [
    "kept_features = [\n",
    "    'Energy (kcal)', 'Protein (gm)', 'Carbohydrate (gm)',\n",
    "    'Total sugars (gm)', 'Dietary fiber (gm)', 'Total fat (gm)',\n",
    "    'height (cm)', 'age', 'gender_1.0', 'gender_2.0', 'macro_deviation',\n",
    "    'nutrient_deviation', 'calorie_excess'\n",
    "]\n",
    "new_train_data = train_data[kept_features]\n",
    "new_test_data = test_data[kept_features]"
   ]
  },
  {
   "cell_type": "code",
   "execution_count": 170,
   "metadata": {},
   "outputs": [
    {
     "data": {
      "text/plain": [
       "LinearRegression(copy_X=True, fit_intercept=True, n_jobs=1, normalize=False)"
      ]
     },
     "execution_count": 170,
     "metadata": {},
     "output_type": "execute_result"
    }
   ],
   "source": [
    "lr.fit(new_train_data, train_targets)"
   ]
  },
  {
   "cell_type": "code",
   "execution_count": 171,
   "metadata": {},
   "outputs": [],
   "source": [
    "y_pred = np.round(lr.predict(new_test_data))"
   ]
  },
  {
   "cell_type": "code",
   "execution_count": 172,
   "metadata": {},
   "outputs": [
    {
     "data": {
      "text/plain": [
       "0.7098214285714286"
      ]
     },
     "execution_count": 172,
     "metadata": {},
     "output_type": "execute_result"
    }
   ],
   "source": [
    "accuracy_score(test_targets, y_pred)"
   ]
  },
  {
   "cell_type": "code",
   "execution_count": 173,
   "metadata": {},
   "outputs": [
    {
     "data": {
      "text/plain": [
       "array([[138,   6],\n",
       "       [ 59,  21]])"
      ]
     },
     "execution_count": 173,
     "metadata": {},
     "output_type": "execute_result"
    }
   ],
   "source": [
    "confusion_matrix(test_targets, y_pred, labels=[False, True])"
   ]
  },
  {
   "cell_type": "code",
   "execution_count": 174,
   "metadata": {},
   "outputs": [
    {
     "data": {
      "text/html": [
       "<table class=\"simpletable\">\n",
       "<caption>OLS Regression Results</caption>\n",
       "<tr>\n",
       "  <th>Dep. Variable:</th>    <td>overweight_or_obese</td> <th>  R-squared:         </th> <td>-274.264</td>\n",
       "</tr>\n",
       "<tr>\n",
       "  <th>Model:</th>                    <td>OLS</td>         <th>  Adj. R-squared:    </th> <td>-278.000</td>\n",
       "</tr>\n",
       "<tr>\n",
       "  <th>Method:</th>              <td>Least Squares</td>    <th>  F-statistic:       </th> <td>  -73.40</td>\n",
       "</tr>\n",
       "<tr>\n",
       "  <th>Date:</th>              <td>Sat, 27 Apr 2019</td>   <th>  Prob (F-statistic):</th>  <td>  1.00</td> \n",
       "</tr>\n",
       "<tr>\n",
       "  <th>Time:</th>                  <td>18:44:16</td>       <th>  Log-Likelihood:    </th> <td> -742.63</td>\n",
       "</tr>\n",
       "<tr>\n",
       "  <th>No. Observations:</th>       <td>   896</td>        <th>  AIC:               </th> <td>   1509.</td>\n",
       "</tr>\n",
       "<tr>\n",
       "  <th>Df Residuals:</th>           <td>   884</td>        <th>  BIC:               </th> <td>   1567.</td>\n",
       "</tr>\n",
       "<tr>\n",
       "  <th>Df Model:</th>               <td>    12</td>        <th>                     </th>     <td> </td>   \n",
       "</tr>\n",
       "<tr>\n",
       "  <th>Covariance Type:</th>       <td>nonrobust</td>      <th>                     </th>     <td> </td>   \n",
       "</tr>\n",
       "</table>\n",
       "<table class=\"simpletable\">\n",
       "<tr>\n",
       "           <td></td>             <th>coef</th>     <th>std err</th>      <th>t</th>      <th>P>|t|</th>  <th>[0.025</th>    <th>0.975]</th>  \n",
       "</tr>\n",
       "<tr>\n",
       "  <th>Energy (kcal)</th>      <td>   -0.3780</td> <td>    1.209</td> <td>   -0.313</td> <td> 0.755</td> <td>   -2.750</td> <td>    1.994</td>\n",
       "</tr>\n",
       "<tr>\n",
       "  <th>Protein (gm)</th>       <td>   -0.2377</td> <td>    0.175</td> <td>   -1.360</td> <td> 0.174</td> <td>   -0.581</td> <td>    0.105</td>\n",
       "</tr>\n",
       "<tr>\n",
       "  <th>Carbohydrate (gm)</th>  <td>   -0.6478</td> <td>    0.515</td> <td>   -1.257</td> <td> 0.209</td> <td>   -1.659</td> <td>    0.364</td>\n",
       "</tr>\n",
       "<tr>\n",
       "  <th>Total sugars (gm)</th>  <td>   -0.0060</td> <td>    0.043</td> <td>   -0.140</td> <td> 0.889</td> <td>   -0.090</td> <td>    0.078</td>\n",
       "</tr>\n",
       "<tr>\n",
       "  <th>Dietary fiber (gm)</th> <td>    0.0320</td> <td>    0.032</td> <td>    1.009</td> <td> 0.313</td> <td>   -0.030</td> <td>    0.094</td>\n",
       "</tr>\n",
       "<tr>\n",
       "  <th>Total fat (gm)</th>     <td>   -0.4801</td> <td>    0.381</td> <td>   -1.261</td> <td> 0.208</td> <td>   -1.227</td> <td>    0.267</td>\n",
       "</tr>\n",
       "<tr>\n",
       "  <th>height (cm)</th>        <td>    1.5073</td> <td>    0.506</td> <td>    2.979</td> <td> 0.003</td> <td>    0.514</td> <td>    2.500</td>\n",
       "</tr>\n",
       "<tr>\n",
       "  <th>age</th>                <td>   -0.4864</td> <td>    0.072</td> <td>   -6.745</td> <td> 0.000</td> <td>   -0.628</td> <td>   -0.345</td>\n",
       "</tr>\n",
       "<tr>\n",
       "  <th>gender_1.0</th>         <td>    0.1508</td> <td>    0.075</td> <td>    2.021</td> <td> 0.044</td> <td>    0.004</td> <td>    0.297</td>\n",
       "</tr>\n",
       "<tr>\n",
       "  <th>gender_2.0</th>         <td>   -0.1508</td> <td>    0.075</td> <td>   -2.021</td> <td> 0.044</td> <td>   -0.297</td> <td>   -0.004</td>\n",
       "</tr>\n",
       "<tr>\n",
       "  <th>macro_deviation</th>    <td>    0.0542</td> <td>    0.034</td> <td>    1.600</td> <td> 0.110</td> <td>   -0.012</td> <td>    0.121</td>\n",
       "</tr>\n",
       "<tr>\n",
       "  <th>nutrient_deviation</th> <td>   -0.0369</td> <td>    0.030</td> <td>   -1.245</td> <td> 0.213</td> <td>   -0.095</td> <td>    0.021</td>\n",
       "</tr>\n",
       "<tr>\n",
       "  <th>calorie_excess</th>     <td>    1.5513</td> <td>    0.741</td> <td>    2.094</td> <td> 0.037</td> <td>    0.097</td> <td>    3.005</td>\n",
       "</tr>\n",
       "</table>\n",
       "<table class=\"simpletable\">\n",
       "<tr>\n",
       "  <th>Omnibus:</th>       <td>610.846</td> <th>  Durbin-Watson:     </th> <td>   1.371</td>\n",
       "</tr>\n",
       "<tr>\n",
       "  <th>Prob(Omnibus):</th> <td> 0.000</td>  <th>  Jarque-Bera (JB):  </th> <td> 110.289</td>\n",
       "</tr>\n",
       "<tr>\n",
       "  <th>Skew:</th>          <td> 0.624</td>  <th>  Prob(JB):          </th> <td>1.12e-24</td>\n",
       "</tr>\n",
       "<tr>\n",
       "  <th>Kurtosis:</th>      <td> 1.819</td>  <th>  Cond. No.          </th> <td>7.62e+15</td>\n",
       "</tr>\n",
       "</table>"
      ],
      "text/plain": [
       "<class 'statsmodels.iolib.summary.Summary'>\n",
       "\"\"\"\n",
       "                             OLS Regression Results                            \n",
       "===============================================================================\n",
       "Dep. Variable:     overweight_or_obese   R-squared:                    -274.264\n",
       "Model:                             OLS   Adj. R-squared:               -278.000\n",
       "Method:                  Least Squares   F-statistic:                    -73.40\n",
       "Date:                 Sat, 27 Apr 2019   Prob (F-statistic):               1.00\n",
       "Time:                         18:44:16   Log-Likelihood:                -742.63\n",
       "No. Observations:                  896   AIC:                             1509.\n",
       "Df Residuals:                      884   BIC:                             1567.\n",
       "Df Model:                           12                                         \n",
       "Covariance Type:             nonrobust                                         \n",
       "======================================================================================\n",
       "                         coef    std err          t      P>|t|      [0.025      0.975]\n",
       "--------------------------------------------------------------------------------------\n",
       "Energy (kcal)         -0.3780      1.209     -0.313      0.755      -2.750       1.994\n",
       "Protein (gm)          -0.2377      0.175     -1.360      0.174      -0.581       0.105\n",
       "Carbohydrate (gm)     -0.6478      0.515     -1.257      0.209      -1.659       0.364\n",
       "Total sugars (gm)     -0.0060      0.043     -0.140      0.889      -0.090       0.078\n",
       "Dietary fiber (gm)     0.0320      0.032      1.009      0.313      -0.030       0.094\n",
       "Total fat (gm)        -0.4801      0.381     -1.261      0.208      -1.227       0.267\n",
       "height (cm)            1.5073      0.506      2.979      0.003       0.514       2.500\n",
       "age                   -0.4864      0.072     -6.745      0.000      -0.628      -0.345\n",
       "gender_1.0             0.1508      0.075      2.021      0.044       0.004       0.297\n",
       "gender_2.0            -0.1508      0.075     -2.021      0.044      -0.297      -0.004\n",
       "macro_deviation        0.0542      0.034      1.600      0.110      -0.012       0.121\n",
       "nutrient_deviation    -0.0369      0.030     -1.245      0.213      -0.095       0.021\n",
       "calorie_excess         1.5513      0.741      2.094      0.037       0.097       3.005\n",
       "==============================================================================\n",
       "Omnibus:                      610.846   Durbin-Watson:                   1.371\n",
       "Prob(Omnibus):                  0.000   Jarque-Bera (JB):              110.289\n",
       "Skew:                           0.624   Prob(JB):                     1.12e-24\n",
       "Kurtosis:                       1.819   Cond. No.                     7.62e+15\n",
       "==============================================================================\n",
       "\n",
       "Warnings:\n",
       "[1] Standard Errors assume that the covariance matrix of the errors is correctly specified.\n",
       "[2] The smallest eigenvalue is 8.26e-29. This might indicate that there are\n",
       "strong multicollinearity problems or that the design matrix is singular.\n",
       "\"\"\""
      ]
     },
     "execution_count": 174,
     "metadata": {},
     "output_type": "execute_result"
    }
   ],
   "source": [
    "model = sm.OLS(train_targets, new_train_data).fit()\n",
    "predictions = model.predict(new_test_data) # make the predictions by the model\n",
    "\n",
    "# Print out the statistics\n",
    "model.summary()"
   ]
  },
  {
   "cell_type": "markdown",
   "metadata": {},
   "source": [
    "## Analysis Conclusions"
   ]
  },
  {
   "cell_type": "markdown",
   "metadata": {},
   "source": [
    "### Linear regression with feature elimination seems to be the most successful so far but it still does a poor job of fitting the data. \n",
    "\n",
    "The only variables with any meaning are height, age, and calorie excess. It seems that as height and calorie_excess increase, so does the likelihood of being overweight. As age increases, the likelihood of being overweight decreases. However, these three conclusions should be accepted with some skepticism. Although the P values were low for these specific variables, the R^2 and adjusted R^2 value suggested this model is very poorly fitted to the data as a whole.\n",
    "\n",
    "More interesting however is what the data doesn't show to be important. It is very interesting that things like calories, carbs, fat, and macro_deviation, have seemingly no effect.\n",
    "\n",
    "With all the data and analysis, I am lead to believe there are other factors not captured by the data, that are the true causal variables of being overweight or obese. Such factors could include things like exercise and play, genetic factors, and stress / happiness."
   ]
  },
  {
   "cell_type": "code",
   "execution_count": null,
   "metadata": {},
   "outputs": [],
   "source": []
  }
 ],
 "metadata": {
  "kernelspec": {
   "display_name": "Python 3",
   "language": "python",
   "name": "python3"
  },
  "language_info": {
   "codemirror_mode": {
    "name": "ipython",
    "version": 3
   },
   "file_extension": ".py",
   "mimetype": "text/x-python",
   "name": "python",
   "nbconvert_exporter": "python",
   "pygments_lexer": "ipython3",
   "version": "3.6.4"
  }
 },
 "nbformat": 4,
 "nbformat_minor": 2
}
